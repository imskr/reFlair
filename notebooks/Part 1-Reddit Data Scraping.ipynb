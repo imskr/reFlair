{
 "cells": [
  {
   "cell_type": "markdown",
   "metadata": {},
   "source": [
    "# Data Scrapping from Reddit"
   ]
  },
  {
   "cell_type": "code",
   "execution_count": 1,
   "metadata": {},
   "outputs": [],
   "source": [
    "import praw\n",
    "from praw.models import MoreComments\n",
    "import pandas as pd\n",
    "import datetime as dt"
   ]
  },
  {
   "cell_type": "code",
   "execution_count": 35,
   "metadata": {},
   "outputs": [],
   "source": [
    "# This is reddit API PRAW, Enter your DETAILS\n",
    "reddit = praw.Reddit(client_id='id',\n",
    "                     client_secret=\"secret\",\n",
    "                     user_agent='app-name',\n",
    "                     username='your-username',\n",
    "                     password='put-your-pass')"
   ]
  },
  {
   "cell_type": "code",
   "execution_count": 24,
   "metadata": {},
   "outputs": [],
   "source": [
    "# These are all the available flairs for subreddit india\n",
    "flairs = ['Business/Finance','Food','Sports','Politics','Science/Technology',\n",
    "          'Policy/Economy','Photography','Scheduled','Non-Political',\n",
    "          'Coronavirus','AskIndia']\n",
    "\n",
    "# selecting india for subreddit\n",
    "subreddit = reddit.subreddit('india')"
   ]
  },
  {
   "cell_type": "code",
   "execution_count": 31,
   "metadata": {},
   "outputs": [],
   "source": [
    "# We need these features of each posts\n",
    "topics = { \"title\":[], \"url\":[], \"comms_num\": [], \"flair\": \n",
    "               [], \"score\": [], \"id\": [], \"comments\": [], \"created\": [], \"author\": [], \"body\":[]}"
   ]
  },
  {
   "cell_type": "code",
   "execution_count": 32,
   "metadata": {},
   "outputs": [],
   "source": [
    "# Fetching data for each flairs and appending it to the dict topics\n",
    "# Setting limit to 20000\n",
    "# We are only fetching root comments as it would take lot of time due to SLOW API\n",
    "# Reddit API is very slow therefore limiting the comments\n",
    "\n",
    "for flair in flairs:\n",
    "    india= subreddit.new(limit=20000)\n",
    "    for submission in india:\n",
    "        topics[\"flair\"].append(submission.link_flair_text)\n",
    "        topics[\"title\"].append(submission.title)\n",
    "        topics[\"url\"].append(submission.url)\n",
    "        topics[\"comms_num\"].append(submission.num_comments)\n",
    "        c = []\n",
    "        submission.comments.replace_more(limit=0)\n",
    "        for comment in submission.comments.list():\n",
    "            c.append(comment.body)\n",
    "        topics[\"comments\"].append(c)\n",
    "        topics[\"score\"].append(submission.score)\n",
    "        topics[\"created\"].append(submission.created)\n",
    "        topics[\"author\"].append(submission.author)\n",
    "        topics[\"id\"].append(submission.id)\n",
    "        topics[\"body\"].append(submission.selftext)"
   ]
  },
  {
   "cell_type": "code",
   "execution_count": 33,
   "metadata": {},
   "outputs": [
    {
     "name": "stdout",
     "output_type": "stream",
     "text": [
      "Food:  77\n",
      "Sports:  88\n",
      "Politics:  1688\n",
      "Policy Economy:  754\n",
      "Photography:  99\n",
      "Coronavirus:  3232\n",
      "AskIndia:  1355\n",
      "Non-Political:  1419\n",
      "Science/Technology:  113\n",
      "Business/Finance:  468\n",
      "Scheduled:  121\n"
     ]
    }
   ],
   "source": [
    "# Printing no of counts of each flair\n",
    "\n",
    "print(\"Food: \",str(topics[\"flair\"].count(\"Food\")))\n",
    "print(\"Sports: \",str(topics[\"flair\"].count(\"Sports\")))\n",
    "print(\"Politics: \",str(topics[\"flair\"].count(\"Politics\")))\n",
    "print(\"Policy Economy: \",str(topics[\"flair\"].count(\"Policy/Economy\")))\n",
    "print(\"Photography: \",str(topics[\"flair\"].count(\"Photography\")))\n",
    "print(\"Coronavirus: \",str(topics[\"flair\"].count(\"Coronavirus\")))\n",
    "print(\"AskIndia: \",str(topics[\"flair\"].count(\"AskIndia\")))\n",
    "print(\"Non-Political: \",str(topics[\"flair\"].count(\"Non-Political\")))\n",
    "print(\"Science/Technology: \",str(topics[\"flair\"].count(\"Science/Technology\")))\n",
    "print(\"Business/Finance: \",str(topics[\"flair\"].count(\"Business/Finance\")))\n",
    "print(\"Scheduled: \",str(topics[\"flair\"].count(\"Scheduled\")))"
   ]
  },
  {
   "cell_type": "code",
   "execution_count": 36,
   "metadata": {},
   "outputs": [],
   "source": [
    "# Convert dict to dataframe\n",
    "topics_df = pd.DataFrame(topics)\n",
    "# Convert dataframe to csv file\n",
    "topics_df.to_csv('india.csv', index=False)"
   ]
  },
  {
   "cell_type": "code",
   "execution_count": null,
   "metadata": {},
   "outputs": [],
   "source": []
  }
 ],
 "metadata": {
  "kernelspec": {
   "display_name": "Python 3",
   "language": "python",
   "name": "python3"
  },
  "language_info": {
   "codemirror_mode": {
    "name": "ipython",
    "version": 3
   },
   "file_extension": ".py",
   "mimetype": "text/x-python",
   "name": "python",
   "nbconvert_exporter": "python",
   "pygments_lexer": "ipython3",
   "version": "3.7.3"
  }
 },
 "nbformat": 4,
 "nbformat_minor": 4
}
