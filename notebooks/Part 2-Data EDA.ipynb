{
 "cells": [
  {
   "cell_type": "markdown",
   "metadata": {},
   "source": [
    "# Data Cleaning"
   ]
  },
  {
   "cell_type": "code",
   "execution_count": 1,
   "metadata": {},
   "outputs": [
    {
     "data": {
      "text/html": [
       "        <script type=\"text/javascript\">\n",
       "        window.PlotlyConfig = {MathJaxConfig: 'local'};\n",
       "        if (window.MathJax) {MathJax.Hub.Config({SVG: {font: \"STIX-Web\"}});}\n",
       "        if (typeof require !== 'undefined') {\n",
       "        require.undef(\"plotly\");\n",
       "        requirejs.config({\n",
       "            paths: {\n",
       "                'plotly': ['https://cdn.plot.ly/plotly-latest.min']\n",
       "            }\n",
       "        });\n",
       "        require(['plotly'], function(Plotly) {\n",
       "            window._Plotly = Plotly;\n",
       "        });\n",
       "        }\n",
       "        </script>\n",
       "        "
      ]
     },
     "metadata": {},
     "output_type": "display_data"
    }
   ],
   "source": [
    "# import the libraries\n",
    "import pandas as pd\n",
    "from collections import Counter\n",
    "import seaborn as sns\n",
    "import datetime as dt\n",
    "import re\n",
    "import nltk\n",
    "from nltk.corpus import stopwords\n",
    "from bs4 import BeautifulSoup\n",
    "from wordcloud import WordCloud\n",
    "import cufflinks as cf\n",
    "cf.go_offline()\n",
    "import plotly.graph_objects as go\n",
    "import plotly.express as px\n",
    "import matplotlib.pyplot as plt\n",
    "%matplotlib inline\n",
    "from nltk.stem import PorterStemmer\n",
    "stemming = PorterStemmer()"
   ]
  },
  {
   "cell_type": "code",
   "execution_count": 23,
   "metadata": {},
   "outputs": [
    {
     "name": "stderr",
     "output_type": "stream",
     "text": [
      "[nltk_data] Downloading package stopwords to\n",
      "[nltk_data]     /home/shubham/nltk_data...\n",
      "[nltk_data]   Unzipping corpora/stopwords.zip.\n"
     ]
    },
    {
     "data": {
      "text/plain": [
       "True"
      ]
     },
     "execution_count": 23,
     "metadata": {},
     "output_type": "execute_result"
    }
   ],
   "source": [
    "# We need to download all the necessary packages\n",
    "# nltk.download('all') for all the packages\n",
    "nltk.download('stopwords')"
   ]
  },
  {
   "cell_type": "code",
   "execution_count": 2,
   "metadata": {},
   "outputs": [],
   "source": [
    "# Load the scrapped reddit csv file\n",
    "data_df = pd.read_csv('./india.csv')"
   ]
  },
  {
   "cell_type": "code",
   "execution_count": 3,
   "metadata": {},
   "outputs": [
    {
     "data": {
      "text/html": [
       "<div>\n",
       "<style scoped>\n",
       "    .dataframe tbody tr th:only-of-type {\n",
       "        vertical-align: middle;\n",
       "    }\n",
       "\n",
       "    .dataframe tbody tr th {\n",
       "        vertical-align: top;\n",
       "    }\n",
       "\n",
       "    .dataframe thead th {\n",
       "        text-align: right;\n",
       "    }\n",
       "</style>\n",
       "<table border=\"1\" class=\"dataframe\">\n",
       "  <thead>\n",
       "    <tr style=\"text-align: right;\">\n",
       "      <th></th>\n",
       "      <th>title</th>\n",
       "      <th>url</th>\n",
       "      <th>comms_num</th>\n",
       "      <th>flair</th>\n",
       "      <th>score</th>\n",
       "      <th>id</th>\n",
       "      <th>comments</th>\n",
       "      <th>created</th>\n",
       "      <th>author</th>\n",
       "      <th>body</th>\n",
       "    </tr>\n",
       "  </thead>\n",
       "  <tbody>\n",
       "    <tr>\n",
       "      <th>0</th>\n",
       "      <td>Hangpan Dada Bridge inaugurations: Arunachal C...</td>\n",
       "      <td>https://economictimes.indiatimes.com/news/poli...</td>\n",
       "      <td>1</td>\n",
       "      <td>Non-Political</td>\n",
       "      <td>1</td>\n",
       "      <td>g7bkgs</td>\n",
       "      <td>[' [https://eurasiantimes.com/indian-bro-build...</td>\n",
       "      <td>1.587775e+09</td>\n",
       "      <td>AryanPandey</td>\n",
       "      <td>NaN</td>\n",
       "    </tr>\n",
       "    <tr>\n",
       "      <th>1</th>\n",
       "      <td>While a so called 'Journalist' cries about an ...</td>\n",
       "      <td>https://youtu.be/Km2S9N1FgRM</td>\n",
       "      <td>0</td>\n",
       "      <td>Politics</td>\n",
       "      <td>2</td>\n",
       "      <td>g7bk1p</td>\n",
       "      <td>[]</td>\n",
       "      <td>1.587775e+09</td>\n",
       "      <td>Saap_ka_Baap</td>\n",
       "      <td>NaN</td>\n",
       "    </tr>\n",
       "    <tr>\n",
       "      <th>2</th>\n",
       "      <td>High Risk Individual Categorization, Review 1 ...</td>\n",
       "      <td>https://youtu.be/61WfsMaSFj4</td>\n",
       "      <td>0</td>\n",
       "      <td>Coronavirus</td>\n",
       "      <td>0</td>\n",
       "      <td>g7bf5p</td>\n",
       "      <td>[]</td>\n",
       "      <td>1.587774e+09</td>\n",
       "      <td>opinions_matter</td>\n",
       "      <td>NaN</td>\n",
       "    </tr>\n",
       "    <tr>\n",
       "      <th>3</th>\n",
       "      <td>Reliable news sources</td>\n",
       "      <td>https://www.reddit.com/r/india/comments/g7b6i0...</td>\n",
       "      <td>5</td>\n",
       "      <td>Non-Political</td>\n",
       "      <td>0</td>\n",
       "      <td>g7b6i0</td>\n",
       "      <td>['The best unbiased source off the top of my h...</td>\n",
       "      <td>1.587774e+09</td>\n",
       "      <td>domainusername</td>\n",
       "      <td>What are some of the reliable sources to consu...</td>\n",
       "    </tr>\n",
       "    <tr>\n",
       "      <th>4</th>\n",
       "      <td>Imran khan says Indian captian was scared duri...</td>\n",
       "      <td>https://youtu.be/NF9ya6Od-ew</td>\n",
       "      <td>2</td>\n",
       "      <td>Sports</td>\n",
       "      <td>0</td>\n",
       "      <td>g7b5bg</td>\n",
       "      <td>['Mast hai.. Facebook pe daal.', 'Haha 😄']</td>\n",
       "      <td>1.587773e+09</td>\n",
       "      <td>knighthell87</td>\n",
       "      <td>NaN</td>\n",
       "    </tr>\n",
       "    <tr>\n",
       "      <th>5</th>\n",
       "      <td>Covid19 hit me. I just got fired.</td>\n",
       "      <td>https://www.reddit.com/r/india/comments/g7b3un...</td>\n",
       "      <td>7</td>\n",
       "      <td>Coronavirus</td>\n",
       "      <td>6</td>\n",
       "      <td>g7b3un</td>\n",
       "      <td>['F', 'If you were doing good for yourself it ...</td>\n",
       "      <td>1.587773e+09</td>\n",
       "      <td>bhootbilli</td>\n",
       "      <td>Just one call. We are having trouble with mone...</td>\n",
       "    </tr>\n",
       "    <tr>\n",
       "      <th>6</th>\n",
       "      <td>Astronaut Scott Kelly offers Coronavirus lockd...</td>\n",
       "      <td>https://thenewsspan.in/astronaut-scott-kelly-o...</td>\n",
       "      <td>0</td>\n",
       "      <td>Coronavirus</td>\n",
       "      <td>1</td>\n",
       "      <td>g7b05h</td>\n",
       "      <td>[]</td>\n",
       "      <td>1.587773e+09</td>\n",
       "      <td>Snehashis09</td>\n",
       "      <td>NaN</td>\n",
       "    </tr>\n",
       "    <tr>\n",
       "      <th>7</th>\n",
       "      <td>My experience attending a protest for the firs...</td>\n",
       "      <td>https://www.reddit.com/r/india/comments/g7awra...</td>\n",
       "      <td>5</td>\n",
       "      <td>CAA-NRC-NPR</td>\n",
       "      <td>8</td>\n",
       "      <td>g7awra</td>\n",
       "      <td>['Youths like you are national treasure', \"Tha...</td>\n",
       "      <td>1.587773e+09</td>\n",
       "      <td>DuckHitler</td>\n",
       "      <td>This was written by me a day after the protest...</td>\n",
       "    </tr>\n",
       "    <tr>\n",
       "      <th>8</th>\n",
       "      <td>6 Muslim families in Jind district convert to ...</td>\n",
       "      <td>https://timesofindia.indiatimes.com/city/chand...</td>\n",
       "      <td>1</td>\n",
       "      <td>Non-Political</td>\n",
       "      <td>0</td>\n",
       "      <td>g7avvj</td>\n",
       "      <td>[]</td>\n",
       "      <td>1.587773e+09</td>\n",
       "      <td>aguyfrominternet</td>\n",
       "      <td>NaN</td>\n",
       "    </tr>\n",
       "    <tr>\n",
       "      <th>9</th>\n",
       "      <td>'27 Down' is one of the finest films you will ...</td>\n",
       "      <td>https://i.redd.it/kjogn67gfsu41.jpg</td>\n",
       "      <td>2</td>\n",
       "      <td>Non-Political</td>\n",
       "      <td>3</td>\n",
       "      <td>g7atrl</td>\n",
       "      <td>[\"I first came across this picture a couple of...</td>\n",
       "      <td>1.587772e+09</td>\n",
       "      <td>SilasNashh</td>\n",
       "      <td>NaN</td>\n",
       "    </tr>\n",
       "    <tr>\n",
       "      <th>10</th>\n",
       "      <td>Late Night Random Discussion Thread !</td>\n",
       "      <td>https://www.reddit.com/r/india/comments/g7aoab...</td>\n",
       "      <td>4</td>\n",
       "      <td>Scheduled</td>\n",
       "      <td>2</td>\n",
       "      <td>g7aoab</td>\n",
       "      <td>['This thread is for casual discussion only. *...</td>\n",
       "      <td>1.587772e+09</td>\n",
       "      <td>oxythebot</td>\n",
       "      <td>^Beep ^Boop ^Bot, ^I ^am ^a ^bot! ^if ^any ^pr...</td>\n",
       "    </tr>\n",
       "    <tr>\n",
       "      <th>11</th>\n",
       "      <td>Former IAS officer Kannan Gopinathan booked fo...</td>\n",
       "      <td>https://scroll.in/latest/960166/former-ias-off...</td>\n",
       "      <td>11</td>\n",
       "      <td>Politics</td>\n",
       "      <td>16</td>\n",
       "      <td>g7akzh</td>\n",
       "      <td>['there are many youngsters dying for a chance...</td>\n",
       "      <td>1.587772e+09</td>\n",
       "      <td>sudden_dust</td>\n",
       "      <td>NaN</td>\n",
       "    </tr>\n",
       "    <tr>\n",
       "      <th>12</th>\n",
       "      <td>Chilli Garlic Hakka Noodle Veg Chilli Garlic N...</td>\n",
       "      <td>https://www.youtube.com/watch?v=5MiNLGwpY5Q</td>\n",
       "      <td>0</td>\n",
       "      <td>Food</td>\n",
       "      <td>0</td>\n",
       "      <td>g7ajd4</td>\n",
       "      <td>[]</td>\n",
       "      <td>1.587771e+09</td>\n",
       "      <td>nkchokshi</td>\n",
       "      <td>NaN</td>\n",
       "    </tr>\n",
       "    <tr>\n",
       "      <th>13</th>\n",
       "      <td>Dr Rajkumar Appreciation Post</td>\n",
       "      <td>https://www.reddit.com/r/india/comments/g7ai96...</td>\n",
       "      <td>2</td>\n",
       "      <td>Non-Political</td>\n",
       "      <td>8</td>\n",
       "      <td>g7ai96</td>\n",
       "      <td>[\"Ohh [Annavra](https://www.youtube.com/watch?...</td>\n",
       "      <td>1.587771e+09</td>\n",
       "      <td>Difficult_Boat</td>\n",
       "      <td>On the occasion of the birthday of Dr Rajkumar...</td>\n",
       "    </tr>\n",
       "    <tr>\n",
       "      <th>14</th>\n",
       "      <td>Mango season is coming ! (enjoy after lockdown)</td>\n",
       "      <td>https://i.redd.it/4ifcexlrbsu41.jpg</td>\n",
       "      <td>4</td>\n",
       "      <td>Food</td>\n",
       "      <td>4</td>\n",
       "      <td>g7agg0</td>\n",
       "      <td>[\"There are over 1000 varieties of mangoes in ...</td>\n",
       "      <td>1.587771e+09</td>\n",
       "      <td>jprbruce</td>\n",
       "      <td>NaN</td>\n",
       "    </tr>\n",
       "    <tr>\n",
       "      <th>15</th>\n",
       "      <td>The mystery behind India's lower death rates d...</td>\n",
       "      <td>https://www.livemint.com/news/india/india-s-lo...</td>\n",
       "      <td>7</td>\n",
       "      <td>Coronavirus</td>\n",
       "      <td>5</td>\n",
       "      <td>g7abg6</td>\n",
       "      <td>['I’m glad you did. You have shared your wisdo...</td>\n",
       "      <td>1.587771e+09</td>\n",
       "      <td>adamkhormemna</td>\n",
       "      <td>NaN</td>\n",
       "    </tr>\n",
       "    <tr>\n",
       "      <th>16</th>\n",
       "      <td>My Mother Needs HCQS tablets</td>\n",
       "      <td>https://www.reddit.com/r/india/comments/g7a5zk...</td>\n",
       "      <td>7</td>\n",
       "      <td>Non-Political</td>\n",
       "      <td>8</td>\n",
       "      <td>g7a5zk</td>\n",
       "      <td>[\"Contact the nearest doc, ask him for a presc...</td>\n",
       "      <td>1.587770e+09</td>\n",
       "      <td>FuckReddit682</td>\n",
       "      <td>So, the story goes like this - I live in a rur...</td>\n",
       "    </tr>\n",
       "    <tr>\n",
       "      <th>17</th>\n",
       "      <td>Half-Indian: How do I reconnect with India ?</td>\n",
       "      <td>https://www.reddit.com/r/india/comments/g7a52v...</td>\n",
       "      <td>6</td>\n",
       "      <td>AskIndia</td>\n",
       "      <td>3</td>\n",
       "      <td>g7a52v</td>\n",
       "      <td>['If you plan to reconnect with South you espe...</td>\n",
       "      <td>1.587770e+09</td>\n",
       "      <td>franckdemda</td>\n",
       "      <td>Hi fellow redditors,\\n\\nI'm a 28 young man fro...</td>\n",
       "    </tr>\n",
       "    <tr>\n",
       "      <th>18</th>\n",
       "      <td>A second wave of Corona is inevitable, regardl...</td>\n",
       "      <td>https://www.reddit.com/r/india/comments/g79yp1...</td>\n",
       "      <td>1</td>\n",
       "      <td>Coronavirus</td>\n",
       "      <td>4</td>\n",
       "      <td>g79yp1</td>\n",
       "      <td>[\"I don't know why you're portraying this as y...</td>\n",
       "      <td>1.587769e+09</td>\n",
       "      <td>DuckHitler</td>\n",
       "      <td>In my opinion, a second wave of Corona will fo...</td>\n",
       "    </tr>\n",
       "    <tr>\n",
       "      <th>19</th>\n",
       "      <td>Tamil Nadu Police put lockdown violators in an...</td>\n",
       "      <td>https://twitter.com/ANI/status/125366227040992...</td>\n",
       "      <td>1</td>\n",
       "      <td>Coronavirus</td>\n",
       "      <td>2</td>\n",
       "      <td>g77qg5</td>\n",
       "      <td>['Not sure if this is the best way to raise aw...</td>\n",
       "      <td>1.587761e+09</td>\n",
       "      <td>MysteriousJello2</td>\n",
       "      <td>NaN</td>\n",
       "    </tr>\n",
       "    <tr>\n",
       "      <th>20</th>\n",
       "      <td>Hi guys! What do you think is going to happen ...</td>\n",
       "      <td>https://www.reddit.com/r/india/comments/g783oh...</td>\n",
       "      <td>7</td>\n",
       "      <td>AskIndia</td>\n",
       "      <td>3</td>\n",
       "      <td>g783oh</td>\n",
       "      <td>[\"1. Yes \\n2. No \\n3. Most of them. \\n4. No. S...</td>\n",
       "      <td>1.587763e+09</td>\n",
       "      <td>AnodyneSoul</td>\n",
       "      <td>Hey! I had a few questions for you guys:\\n\\n1...</td>\n",
       "    </tr>\n",
       "    <tr>\n",
       "      <th>21</th>\n",
       "      <td>Can agriculture consultants get pass to travel...</td>\n",
       "      <td>https://www.reddit.com/r/india/comments/g784rc...</td>\n",
       "      <td>2</td>\n",
       "      <td>AskIndia</td>\n",
       "      <td>1</td>\n",
       "      <td>g784rc</td>\n",
       "      <td>['You can apply online with all details.', 'No.']</td>\n",
       "      <td>1.587763e+09</td>\n",
       "      <td>yesinoalive</td>\n",
       "      <td>My father is agriculture consultant (Maharasht...</td>\n",
       "    </tr>\n",
       "    <tr>\n",
       "      <th>22</th>\n",
       "      <td>I am always trying to discover new music and a...</td>\n",
       "      <td>https://www.reddit.com/r/india/comments/g78cki...</td>\n",
       "      <td>5</td>\n",
       "      <td>AskIndia</td>\n",
       "      <td>1</td>\n",
       "      <td>g78cki</td>\n",
       "      <td>['Check our f16s, Skrat, Junkyard groove, Mali...</td>\n",
       "      <td>1.587764e+09</td>\n",
       "      <td>faby129</td>\n",
       "      <td>Even though I do have a soft spot for Bollywoo...</td>\n",
       "    </tr>\n",
       "    <tr>\n",
       "      <th>23</th>\n",
       "      <td>I am getting robbed by magicbricks. What shoul...</td>\n",
       "      <td>https://www.reddit.com/r/india/comments/g79laj...</td>\n",
       "      <td>2</td>\n",
       "      <td>Business/Finance</td>\n",
       "      <td>9</td>\n",
       "      <td>g79laj</td>\n",
       "      <td>[\"Write to them stating that there was no ad p...</td>\n",
       "      <td>1.587768e+09</td>\n",
       "      <td>ScammedByMagic</td>\n",
       "      <td>Hello guys,  \\nI am very frustrated with Magic...</td>\n",
       "    </tr>\n",
       "    <tr>\n",
       "      <th>24</th>\n",
       "      <td>Ramzan Mubarak to everyone!!</td>\n",
       "      <td>https://www.reddit.com/r/india/comments/g79nq5...</td>\n",
       "      <td>5</td>\n",
       "      <td>Non-Political</td>\n",
       "      <td>31</td>\n",
       "      <td>g79nq5</td>\n",
       "      <td>['Ramzan mubarak!', 'Ramzan Mubarak.^myatheist...</td>\n",
       "      <td>1.587768e+09</td>\n",
       "      <td>abbaadmasri</td>\n",
       "      <td>I would highly recommend everyone to cut down ...</td>\n",
       "    </tr>\n",
       "    <tr>\n",
       "      <th>25</th>\n",
       "      <td>Weekly Coders, Hackers &amp; All Tech related thre...</td>\n",
       "      <td>https://www.reddit.com/r/india/comments/g79lxx...</td>\n",
       "      <td>0</td>\n",
       "      <td>Scheduled</td>\n",
       "      <td>0</td>\n",
       "      <td>g79lxx</td>\n",
       "      <td>[]</td>\n",
       "      <td>1.587768e+09</td>\n",
       "      <td>avinassh</td>\n",
       "      <td>[Last week's issue - 03/04/2020](https://np.re...</td>\n",
       "    </tr>\n",
       "    <tr>\n",
       "      <th>26</th>\n",
       "      <td>If there are any lawyers out there, please hel...</td>\n",
       "      <td>https://www.reddit.com/r/india/comments/g79jm9...</td>\n",
       "      <td>0</td>\n",
       "      <td>NaN</td>\n",
       "      <td>2</td>\n",
       "      <td>g79jm9</td>\n",
       "      <td>[]</td>\n",
       "      <td>1.587768e+09</td>\n",
       "      <td>OldSchoolMonkey</td>\n",
       "      <td>The supreme court has dismissed a PIL last wee...</td>\n",
       "    </tr>\n",
       "    <tr>\n",
       "      <th>27</th>\n",
       "      <td>UP to bring back 15 lac migrant workers back h...</td>\n",
       "      <td>https://m.timesofindia.com/india/up-to-bring-b...</td>\n",
       "      <td>3</td>\n",
       "      <td>Politics</td>\n",
       "      <td>3</td>\n",
       "      <td>g79hj7</td>\n",
       "      <td>['Putting the latch on after horses bolted.', ...</td>\n",
       "      <td>1.587768e+09</td>\n",
       "      <td>BigBulkemails</td>\n",
       "      <td>NaN</td>\n",
       "    </tr>\n",
       "    <tr>\n",
       "      <th>28</th>\n",
       "      <td>Greetings from Saudi Arabia. During this lock ...</td>\n",
       "      <td>https://i.redd.it/5b2bepewzru41.jpg</td>\n",
       "      <td>21</td>\n",
       "      <td>Food</td>\n",
       "      <td>242</td>\n",
       "      <td>g79auq</td>\n",
       "      <td>['Not much of a expert in this, but looks good...</td>\n",
       "      <td>1.587767e+09</td>\n",
       "      <td>cynicsword</td>\n",
       "      <td>NaN</td>\n",
       "    </tr>\n",
       "    <tr>\n",
       "      <th>29</th>\n",
       "      <td>Helping needy people in Coronavirus is great.....</td>\n",
       "      <td>https://www.reddit.com/r/india/comments/g799pf...</td>\n",
       "      <td>11</td>\n",
       "      <td>AskIndia</td>\n",
       "      <td>6</td>\n",
       "      <td>g799pf</td>\n",
       "      <td>[\"Sorry to say, that's kinda messed up\", 'What...</td>\n",
       "      <td>1.587767e+09</td>\n",
       "      <td>Mountain_Rat</td>\n",
       "      <td>Saw on a news channel today a heart-wrenching ...</td>\n",
       "    </tr>\n",
       "    <tr>\n",
       "      <th>...</th>\n",
       "      <td>...</td>\n",
       "      <td>...</td>\n",
       "      <td>...</td>\n",
       "      <td>...</td>\n",
       "      <td>...</td>\n",
       "      <td>...</td>\n",
       "      <td>...</td>\n",
       "      <td>...</td>\n",
       "      <td>...</td>\n",
       "      <td>...</td>\n",
       "    </tr>\n",
       "    <tr>\n",
       "      <th>9505</th>\n",
       "      <td>A 45-day-old becomes the youngest in India to ...</td>\n",
       "      <td>https://www.progwithzee.com/post/a-45-day-old-...</td>\n",
       "      <td>7</td>\n",
       "      <td>Coronavirus</td>\n",
       "      <td>135</td>\n",
       "      <td>g4smxd</td>\n",
       "      <td>['Can we please post news from news sites only...</td>\n",
       "      <td>1.587418e+09</td>\n",
       "      <td>xx_yariel_xx</td>\n",
       "      <td>NaN</td>\n",
       "    </tr>\n",
       "    <tr>\n",
       "      <th>9506</th>\n",
       "      <td>5 out of 6 Covid positive cases today in Keral...</td>\n",
       "      <td>https://www.reddit.com/r/india/comments/g4si29...</td>\n",
       "      <td>6</td>\n",
       "      <td>Coronavirus</td>\n",
       "      <td>78</td>\n",
       "      <td>g4si29</td>\n",
       "      <td>['Wuhan \\n&gt;75% were discharged within 25 days ...</td>\n",
       "      <td>1.587417e+09</td>\n",
       "      <td>india_ko_vanakkam</td>\n",
       "      <td>Most new +ve cases in Kerala are overseas retu...</td>\n",
       "    </tr>\n",
       "    <tr>\n",
       "      <th>9507</th>\n",
       "      <td>TCS CEO says the business model is 20 years ol...</td>\n",
       "      <td>https://www.businessinsider.in/business/corpor...</td>\n",
       "      <td>39</td>\n",
       "      <td>NaN</td>\n",
       "      <td>117</td>\n",
       "      <td>g4sh1y</td>\n",
       "      <td>['&gt;TCS is going to make work from home the new...</td>\n",
       "      <td>1.587417e+09</td>\n",
       "      <td>azemda</td>\n",
       "      <td>NaN</td>\n",
       "    </tr>\n",
       "    <tr>\n",
       "      <th>9508</th>\n",
       "      <td>No communal angle in Palghar lynching case: Ud...</td>\n",
       "      <td>https://www.thehindu.com/news/cities/mumbai/no...</td>\n",
       "      <td>100</td>\n",
       "      <td>Politics</td>\n",
       "      <td>296</td>\n",
       "      <td>g4sgiu</td>\n",
       "      <td>['There is just one question that I have, in s...</td>\n",
       "      <td>1.587417e+09</td>\n",
       "      <td>Gameatro</td>\n",
       "      <td>NaN</td>\n",
       "    </tr>\n",
       "    <tr>\n",
       "      <th>9509</th>\n",
       "      <td>Experts criticise India’s endorsement for use ...</td>\n",
       "      <td>https://m.economictimes.com/industry/healthcar...</td>\n",
       "      <td>2</td>\n",
       "      <td>Coronavirus</td>\n",
       "      <td>17</td>\n",
       "      <td>g4sew4</td>\n",
       "      <td>[\"But Trumpji says we don't have anything to l...</td>\n",
       "      <td>1.587417e+09</td>\n",
       "      <td>StorySpiral</td>\n",
       "      <td>NaN</td>\n",
       "    </tr>\n",
       "    <tr>\n",
       "      <th>9510</th>\n",
       "      <td>Dr Bhagyaraj on violence around COVID-19 victi...</td>\n",
       "      <td>https://www.youtube.com/watch?v=7OrxO0Xz8z0</td>\n",
       "      <td>1</td>\n",
       "      <td>Coronavirus</td>\n",
       "      <td>12</td>\n",
       "      <td>g4sb0x</td>\n",
       "      <td>['Indians deserve only Narendra Modi.']</td>\n",
       "      <td>1.587416e+09</td>\n",
       "      <td>naveen_reloaded</td>\n",
       "      <td>NaN</td>\n",
       "    </tr>\n",
       "    <tr>\n",
       "      <th>9511</th>\n",
       "      <td>Millions of internal migrant workers suffering...</td>\n",
       "      <td>http://www.wsws.org/en/articles/2020/04/20/ind...</td>\n",
       "      <td>0</td>\n",
       "      <td>Politics</td>\n",
       "      <td>7</td>\n",
       "      <td>g4s9a2</td>\n",
       "      <td>[]</td>\n",
       "      <td>1.587416e+09</td>\n",
       "      <td>exgalactic</td>\n",
       "      <td>NaN</td>\n",
       "    </tr>\n",
       "    <tr>\n",
       "      <th>9512</th>\n",
       "      <td>Is India Post still processing international m...</td>\n",
       "      <td>https://www.reddit.com/r/india/comments/g4s7yi...</td>\n",
       "      <td>5</td>\n",
       "      <td>AskIndia</td>\n",
       "      <td>15</td>\n",
       "      <td>g4s7yi</td>\n",
       "      <td>['I have mails which I have to get from Singap...</td>\n",
       "      <td>1.587416e+09</td>\n",
       "      <td>psychdome</td>\n",
       "      <td>Is the Indian postal system still accepting an...</td>\n",
       "    </tr>\n",
       "    <tr>\n",
       "      <th>9513</th>\n",
       "      <td>IMA warns of ‘White Alert’, ‘Black Day’ over v...</td>\n",
       "      <td>https://www.hindustantimes.com/india-news/ima-...</td>\n",
       "      <td>4</td>\n",
       "      <td>Coronavirus</td>\n",
       "      <td>72</td>\n",
       "      <td>g4s630</td>\n",
       "      <td>[\"What we have in India is a lethal combinatio...</td>\n",
       "      <td>1.587416e+09</td>\n",
       "      <td>naveen_reloaded</td>\n",
       "      <td>NaN</td>\n",
       "    </tr>\n",
       "    <tr>\n",
       "      <th>9514</th>\n",
       "      <td>Over 100 people arrested, nothing communal in ...</td>\n",
       "      <td>https://timesofindia.indiatimes.com/city/mumba...</td>\n",
       "      <td>0</td>\n",
       "      <td>Coronavirus</td>\n",
       "      <td>15</td>\n",
       "      <td>g4s2cl</td>\n",
       "      <td>[]</td>\n",
       "      <td>1.587415e+09</td>\n",
       "      <td>pitchwin</td>\n",
       "      <td>NaN</td>\n",
       "    </tr>\n",
       "    <tr>\n",
       "      <th>9515</th>\n",
       "      <td>Video of currency notes in Indore falsely vira...</td>\n",
       "      <td>https://www.altnews.in/video-of-currency-notes...</td>\n",
       "      <td>1</td>\n",
       "      <td>Coronavirus</td>\n",
       "      <td>35</td>\n",
       "      <td>g4s09b</td>\n",
       "      <td>['\" Is this new Modas Operandi!!\"']</td>\n",
       "      <td>1.587415e+09</td>\n",
       "      <td>pitchwin</td>\n",
       "      <td>NaN</td>\n",
       "    </tr>\n",
       "    <tr>\n",
       "      <th>9516</th>\n",
       "      <td>Understand the chronology in India: Let corona...</td>\n",
       "      <td>https://gulfnews.com/world/asia/india/understa...</td>\n",
       "      <td>3</td>\n",
       "      <td>Politics</td>\n",
       "      <td>19</td>\n",
       "      <td>g4rzea</td>\n",
       "      <td>['2002 all over again.', 'Aap chronology samaj...</td>\n",
       "      <td>1.587415e+09</td>\n",
       "      <td>suntanx_02-24</td>\n",
       "      <td>NaN</td>\n",
       "    </tr>\n",
       "    <tr>\n",
       "      <th>9517</th>\n",
       "      <td>COVID-19 outbreak: Joblessness rate triples to...</td>\n",
       "      <td>https://www.deccanherald.com/business/business...</td>\n",
       "      <td>1</td>\n",
       "      <td>Policy/Economy</td>\n",
       "      <td>50</td>\n",
       "      <td>g4ruv2</td>\n",
       "      <td>['Its only the start. Most MSMEs still paid th...</td>\n",
       "      <td>1.587414e+09</td>\n",
       "      <td>hipporama</td>\n",
       "      <td>NaN</td>\n",
       "    </tr>\n",
       "    <tr>\n",
       "      <th>9518</th>\n",
       "      <td>Vijay Mallya loses UK high court appeal, clock...</td>\n",
       "      <td>https://m.timesofindia.com/business/india-busi...</td>\n",
       "      <td>39</td>\n",
       "      <td>Non-Political</td>\n",
       "      <td>272</td>\n",
       "      <td>g4rt41</td>\n",
       "      <td>['Welcome back Kingfisher bhai, 1 beer tere re...</td>\n",
       "      <td>1.587414e+09</td>\n",
       "      <td>anurag_0</td>\n",
       "      <td>NaN</td>\n",
       "    </tr>\n",
       "    <tr>\n",
       "      <th>9519</th>\n",
       "      <td>Covid-19: Delhi paid the price of markaz incid...</td>\n",
       "      <td>https://www.hindustantimes.com/delhi-news/covi...</td>\n",
       "      <td>8</td>\n",
       "      <td>Coronavirus</td>\n",
       "      <td>46</td>\n",
       "      <td>g4rjh1</td>\n",
       "      <td>[\"You can try as hard as you can but the best ...</td>\n",
       "      <td>1.587413e+09</td>\n",
       "      <td>DenseSpirit5</td>\n",
       "      <td>NaN</td>\n",
       "    </tr>\n",
       "    <tr>\n",
       "      <th>9520</th>\n",
       "      <td>'Pray at home during Ramzan': Telangana announ...</td>\n",
       "      <td>https://www.thenewsminute.com/article/pray-hom...</td>\n",
       "      <td>15</td>\n",
       "      <td>Coronavirus</td>\n",
       "      <td>234</td>\n",
       "      <td>g4ril3</td>\n",
       "      <td>['Think Saudi Arabia also announced the same y...</td>\n",
       "      <td>1.587413e+09</td>\n",
       "      <td>DenseSpirit5</td>\n",
       "      <td>NaN</td>\n",
       "    </tr>\n",
       "    <tr>\n",
       "      <th>9521</th>\n",
       "      <td>Muslim Lifestyle Bloggers Are Fed Up With The ...</td>\n",
       "      <td>https://www.huffingtonpost.in/entry/muslim-lif...</td>\n",
       "      <td>2</td>\n",
       "      <td>Politics</td>\n",
       "      <td>6</td>\n",
       "      <td>g4rh6c</td>\n",
       "      <td>['what?', \"If you want to protest, protest. If...</td>\n",
       "      <td>1.587413e+09</td>\n",
       "      <td>Easy_Republic</td>\n",
       "      <td>NaN</td>\n",
       "    </tr>\n",
       "    <tr>\n",
       "      <th>9522</th>\n",
       "      <td>Opinion | There is a reason the rest of India ...</td>\n",
       "      <td>https://www.livemint.com/opinion/columns/there...</td>\n",
       "      <td>10</td>\n",
       "      <td>Policy/Economy</td>\n",
       "      <td>29</td>\n",
       "      <td>g4rggi</td>\n",
       "      <td>[\"Can some one explain what he means by this a...</td>\n",
       "      <td>1.587413e+09</td>\n",
       "      <td>AncientInsect</td>\n",
       "      <td>NaN</td>\n",
       "    </tr>\n",
       "    <tr>\n",
       "      <th>9523</th>\n",
       "      <td>Covid-19: Over 50 journalists in Mumbai test p...</td>\n",
       "      <td>https://scroll.in/latest/959732/covid-19-over-...</td>\n",
       "      <td>0</td>\n",
       "      <td>Coronavirus</td>\n",
       "      <td>116</td>\n",
       "      <td>g4rg8l</td>\n",
       "      <td>[]</td>\n",
       "      <td>1.587413e+09</td>\n",
       "      <td>DenseSpirit5</td>\n",
       "      <td>NaN</td>\n",
       "    </tr>\n",
       "    <tr>\n",
       "      <th>9524</th>\n",
       "      <td>Kashmiri woman photojournalist booked over ‘an...</td>\n",
       "      <td>https://www.theweek.in/news/india/2020/04/20/k...</td>\n",
       "      <td>1</td>\n",
       "      <td>Politics</td>\n",
       "      <td>26</td>\n",
       "      <td>g4rdvu</td>\n",
       "      <td>['Reminds me of this: \\n\\n[Arrest of Kamran Yu...</td>\n",
       "      <td>1.587412e+09</td>\n",
       "      <td>lachrymator2019</td>\n",
       "      <td>NaN</td>\n",
       "    </tr>\n",
       "    <tr>\n",
       "      <th>9525</th>\n",
       "      <td>‘Prima Facie No Case of Sedition’: K’taka HC o...</td>\n",
       "      <td>https://www.thequint.com/news/india/prima-faci...</td>\n",
       "      <td>4</td>\n",
       "      <td>Non-Political</td>\n",
       "      <td>91</td>\n",
       "      <td>g4rdrb</td>\n",
       "      <td>['Hope the Judge stays safe.', 'but the proces...</td>\n",
       "      <td>1.587412e+09</td>\n",
       "      <td>The_andh_bhakth</td>\n",
       "      <td>NaN</td>\n",
       "    </tr>\n",
       "    <tr>\n",
       "      <th>9526</th>\n",
       "      <td>In Chennai, doctor’s burial marred by protests...</td>\n",
       "      <td>https://www.thehindu.com/news/cities/chennai/i...</td>\n",
       "      <td>1</td>\n",
       "      <td>Coronavirus</td>\n",
       "      <td>15</td>\n",
       "      <td>g4r95q</td>\n",
       "      <td>[\"[Here's](https://youtu.be/7OrxO0Xz8z0) a vid...</td>\n",
       "      <td>1.587412e+09</td>\n",
       "      <td>-The-Bat-</td>\n",
       "      <td>NaN</td>\n",
       "    </tr>\n",
       "    <tr>\n",
       "      <th>9527</th>\n",
       "      <td>Sunrise #2 - Fatehgarh Sahib, Punjab - OnePlus...</td>\n",
       "      <td>https://i.redd.it/lk54kubalyt41.jpg</td>\n",
       "      <td>7</td>\n",
       "      <td>Photography</td>\n",
       "      <td>64</td>\n",
       "      <td>g4r5dd</td>\n",
       "      <td>['Beeray me Ludhiane ton.', 'Cool', 'Which sid...</td>\n",
       "      <td>1.587411e+09</td>\n",
       "      <td>MrQuakeLoL</td>\n",
       "      <td>NaN</td>\n",
       "    </tr>\n",
       "    <tr>\n",
       "      <th>9528</th>\n",
       "      <td>Mumbai's Iconic Ramzan Food Market to be Off M...</td>\n",
       "      <td>https://www.news18.com/news/buzz/mumbais-iconi...</td>\n",
       "      <td>2</td>\n",
       "      <td>Coronavirus</td>\n",
       "      <td>37</td>\n",
       "      <td>g4r2ns</td>\n",
       "      <td>[\"I'll miss this. Never knew that it was 250 y...</td>\n",
       "      <td>1.587411e+09</td>\n",
       "      <td>KeeshaRuffing</td>\n",
       "      <td>NaN</td>\n",
       "    </tr>\n",
       "    <tr>\n",
       "      <th>9529</th>\n",
       "      <td>Delhi doctor found hanging, family alleges ext...</td>\n",
       "      <td>https://www.hindustantimes.com/delhi-news/deol...</td>\n",
       "      <td>5</td>\n",
       "      <td>Non-Political</td>\n",
       "      <td>99</td>\n",
       "      <td>g4r0xv</td>\n",
       "      <td>[\"It's a shame when you think that they promis...</td>\n",
       "      <td>1.587411e+09</td>\n",
       "      <td>UnluckyProfessional8</td>\n",
       "      <td>NaN</td>\n",
       "    </tr>\n",
       "    <tr>\n",
       "      <th>9530</th>\n",
       "      <td>[Story]Please don't wait too long to tell your...</td>\n",
       "      <td>https://www.reddit.com/r/india/comments/g4r0tg...</td>\n",
       "      <td>97</td>\n",
       "      <td>Non-Political</td>\n",
       "      <td>157</td>\n",
       "      <td>g4r0tg</td>\n",
       "      <td>['Press F for our fallen soldier.', 'great... ...</td>\n",
       "      <td>1.587411e+09</td>\n",
       "      <td>Kek567890</td>\n",
       "      <td>I have been talking to this doctor girl for 2 ...</td>\n",
       "    </tr>\n",
       "    <tr>\n",
       "      <th>9531</th>\n",
       "      <td>After arranging food for family by selling his...</td>\n",
       "      <td>https://www.timesnownews.com/mirror-now/crime/...</td>\n",
       "      <td>36</td>\n",
       "      <td>Non-Political</td>\n",
       "      <td>198</td>\n",
       "      <td>g4qwap</td>\n",
       "      <td>['&gt; In a tragic incident reported from a slum ...</td>\n",
       "      <td>1.587410e+09</td>\n",
       "      <td>Shellynoire</td>\n",
       "      <td>NaN</td>\n",
       "    </tr>\n",
       "    <tr>\n",
       "      <th>9532</th>\n",
       "      <td>Out of money, 6 foreigners make home inside ca...</td>\n",
       "      <td>https://www.hindustantimes.com/india-news/out-...</td>\n",
       "      <td>18</td>\n",
       "      <td>Coronavirus</td>\n",
       "      <td>157</td>\n",
       "      <td>g4qvfx</td>\n",
       "      <td>['&gt; None of them have shown any symptoms of Co...</td>\n",
       "      <td>1.587410e+09</td>\n",
       "      <td>GL4389</td>\n",
       "      <td>NaN</td>\n",
       "    </tr>\n",
       "    <tr>\n",
       "      <th>9533</th>\n",
       "      <td>China says India's new FDI rules violate WTO p...</td>\n",
       "      <td>https://www.moneycontrol.com/news/business/eco...</td>\n",
       "      <td>3</td>\n",
       "      <td>Policy/Economy</td>\n",
       "      <td>13</td>\n",
       "      <td>g4qvew</td>\n",
       "      <td>['Lol. China is the master of playing protecti...</td>\n",
       "      <td>1.587410e+09</td>\n",
       "      <td>Johari82</td>\n",
       "      <td>NaN</td>\n",
       "    </tr>\n",
       "    <tr>\n",
       "      <th>9534</th>\n",
       "      <td>Chennai Locals Pelt Stones at Ambulance Carryi...</td>\n",
       "      <td>https://www.news18.com/news/india/chennai-loca...</td>\n",
       "      <td>5</td>\n",
       "      <td>Coronavirus</td>\n",
       "      <td>16</td>\n",
       "      <td>g4qqg7</td>\n",
       "      <td>[\"[Another chennai doctor's body was not allow...</td>\n",
       "      <td>1.587409e+09</td>\n",
       "      <td>Mastizaada</td>\n",
       "      <td>NaN</td>\n",
       "    </tr>\n",
       "  </tbody>\n",
       "</table>\n",
       "<p>9535 rows × 10 columns</p>\n",
       "</div>"
      ],
      "text/plain": [
       "                                                  title  \\\n",
       "0     Hangpan Dada Bridge inaugurations: Arunachal C...   \n",
       "1     While a so called 'Journalist' cries about an ...   \n",
       "2     High Risk Individual Categorization, Review 1 ...   \n",
       "3                                 Reliable news sources   \n",
       "4     Imran khan says Indian captian was scared duri...   \n",
       "5                     Covid19 hit me. I just got fired.   \n",
       "6     Astronaut Scott Kelly offers Coronavirus lockd...   \n",
       "7     My experience attending a protest for the firs...   \n",
       "8     6 Muslim families in Jind district convert to ...   \n",
       "9     '27 Down' is one of the finest films you will ...   \n",
       "10                Late Night Random Discussion Thread !   \n",
       "11    Former IAS officer Kannan Gopinathan booked fo...   \n",
       "12    Chilli Garlic Hakka Noodle Veg Chilli Garlic N...   \n",
       "13                        Dr Rajkumar Appreciation Post   \n",
       "14      Mango season is coming ! (enjoy after lockdown)   \n",
       "15    The mystery behind India's lower death rates d...   \n",
       "16                         My Mother Needs HCQS tablets   \n",
       "17         Half-Indian: How do I reconnect with India ?   \n",
       "18    A second wave of Corona is inevitable, regardl...   \n",
       "19    Tamil Nadu Police put lockdown violators in an...   \n",
       "20    Hi guys! What do you think is going to happen ...   \n",
       "21    Can agriculture consultants get pass to travel...   \n",
       "22    I am always trying to discover new music and a...   \n",
       "23    I am getting robbed by magicbricks. What shoul...   \n",
       "24                         Ramzan Mubarak to everyone!!   \n",
       "25    Weekly Coders, Hackers & All Tech related thre...   \n",
       "26    If there are any lawyers out there, please hel...   \n",
       "27    UP to bring back 15 lac migrant workers back h...   \n",
       "28    Greetings from Saudi Arabia. During this lock ...   \n",
       "29    Helping needy people in Coronavirus is great.....   \n",
       "...                                                 ...   \n",
       "9505  A 45-day-old becomes the youngest in India to ...   \n",
       "9506  5 out of 6 Covid positive cases today in Keral...   \n",
       "9507  TCS CEO says the business model is 20 years ol...   \n",
       "9508  No communal angle in Palghar lynching case: Ud...   \n",
       "9509  Experts criticise India’s endorsement for use ...   \n",
       "9510  Dr Bhagyaraj on violence around COVID-19 victi...   \n",
       "9511  Millions of internal migrant workers suffering...   \n",
       "9512  Is India Post still processing international m...   \n",
       "9513  IMA warns of ‘White Alert’, ‘Black Day’ over v...   \n",
       "9514  Over 100 people arrested, nothing communal in ...   \n",
       "9515  Video of currency notes in Indore falsely vira...   \n",
       "9516  Understand the chronology in India: Let corona...   \n",
       "9517  COVID-19 outbreak: Joblessness rate triples to...   \n",
       "9518  Vijay Mallya loses UK high court appeal, clock...   \n",
       "9519  Covid-19: Delhi paid the price of markaz incid...   \n",
       "9520  'Pray at home during Ramzan': Telangana announ...   \n",
       "9521  Muslim Lifestyle Bloggers Are Fed Up With The ...   \n",
       "9522  Opinion | There is a reason the rest of India ...   \n",
       "9523  Covid-19: Over 50 journalists in Mumbai test p...   \n",
       "9524  Kashmiri woman photojournalist booked over ‘an...   \n",
       "9525  ‘Prima Facie No Case of Sedition’: K’taka HC o...   \n",
       "9526  In Chennai, doctor’s burial marred by protests...   \n",
       "9527  Sunrise #2 - Fatehgarh Sahib, Punjab - OnePlus...   \n",
       "9528  Mumbai's Iconic Ramzan Food Market to be Off M...   \n",
       "9529  Delhi doctor found hanging, family alleges ext...   \n",
       "9530  [Story]Please don't wait too long to tell your...   \n",
       "9531  After arranging food for family by selling his...   \n",
       "9532  Out of money, 6 foreigners make home inside ca...   \n",
       "9533  China says India's new FDI rules violate WTO p...   \n",
       "9534  Chennai Locals Pelt Stones at Ambulance Carryi...   \n",
       "\n",
       "                                                    url  comms_num  \\\n",
       "0     https://economictimes.indiatimes.com/news/poli...          1   \n",
       "1                          https://youtu.be/Km2S9N1FgRM          0   \n",
       "2                          https://youtu.be/61WfsMaSFj4          0   \n",
       "3     https://www.reddit.com/r/india/comments/g7b6i0...          5   \n",
       "4                          https://youtu.be/NF9ya6Od-ew          2   \n",
       "5     https://www.reddit.com/r/india/comments/g7b3un...          7   \n",
       "6     https://thenewsspan.in/astronaut-scott-kelly-o...          0   \n",
       "7     https://www.reddit.com/r/india/comments/g7awra...          5   \n",
       "8     https://timesofindia.indiatimes.com/city/chand...          1   \n",
       "9                   https://i.redd.it/kjogn67gfsu41.jpg          2   \n",
       "10    https://www.reddit.com/r/india/comments/g7aoab...          4   \n",
       "11    https://scroll.in/latest/960166/former-ias-off...         11   \n",
       "12          https://www.youtube.com/watch?v=5MiNLGwpY5Q          0   \n",
       "13    https://www.reddit.com/r/india/comments/g7ai96...          2   \n",
       "14                  https://i.redd.it/4ifcexlrbsu41.jpg          4   \n",
       "15    https://www.livemint.com/news/india/india-s-lo...          7   \n",
       "16    https://www.reddit.com/r/india/comments/g7a5zk...          7   \n",
       "17    https://www.reddit.com/r/india/comments/g7a52v...          6   \n",
       "18    https://www.reddit.com/r/india/comments/g79yp1...          1   \n",
       "19    https://twitter.com/ANI/status/125366227040992...          1   \n",
       "20    https://www.reddit.com/r/india/comments/g783oh...          7   \n",
       "21    https://www.reddit.com/r/india/comments/g784rc...          2   \n",
       "22    https://www.reddit.com/r/india/comments/g78cki...          5   \n",
       "23    https://www.reddit.com/r/india/comments/g79laj...          2   \n",
       "24    https://www.reddit.com/r/india/comments/g79nq5...          5   \n",
       "25    https://www.reddit.com/r/india/comments/g79lxx...          0   \n",
       "26    https://www.reddit.com/r/india/comments/g79jm9...          0   \n",
       "27    https://m.timesofindia.com/india/up-to-bring-b...          3   \n",
       "28                  https://i.redd.it/5b2bepewzru41.jpg         21   \n",
       "29    https://www.reddit.com/r/india/comments/g799pf...         11   \n",
       "...                                                 ...        ...   \n",
       "9505  https://www.progwithzee.com/post/a-45-day-old-...          7   \n",
       "9506  https://www.reddit.com/r/india/comments/g4si29...          6   \n",
       "9507  https://www.businessinsider.in/business/corpor...         39   \n",
       "9508  https://www.thehindu.com/news/cities/mumbai/no...        100   \n",
       "9509  https://m.economictimes.com/industry/healthcar...          2   \n",
       "9510        https://www.youtube.com/watch?v=7OrxO0Xz8z0          1   \n",
       "9511  http://www.wsws.org/en/articles/2020/04/20/ind...          0   \n",
       "9512  https://www.reddit.com/r/india/comments/g4s7yi...          5   \n",
       "9513  https://www.hindustantimes.com/india-news/ima-...          4   \n",
       "9514  https://timesofindia.indiatimes.com/city/mumba...          0   \n",
       "9515  https://www.altnews.in/video-of-currency-notes...          1   \n",
       "9516  https://gulfnews.com/world/asia/india/understa...          3   \n",
       "9517  https://www.deccanherald.com/business/business...          1   \n",
       "9518  https://m.timesofindia.com/business/india-busi...         39   \n",
       "9519  https://www.hindustantimes.com/delhi-news/covi...          8   \n",
       "9520  https://www.thenewsminute.com/article/pray-hom...         15   \n",
       "9521  https://www.huffingtonpost.in/entry/muslim-lif...          2   \n",
       "9522  https://www.livemint.com/opinion/columns/there...         10   \n",
       "9523  https://scroll.in/latest/959732/covid-19-over-...          0   \n",
       "9524  https://www.theweek.in/news/india/2020/04/20/k...          1   \n",
       "9525  https://www.thequint.com/news/india/prima-faci...          4   \n",
       "9526  https://www.thehindu.com/news/cities/chennai/i...          1   \n",
       "9527                https://i.redd.it/lk54kubalyt41.jpg          7   \n",
       "9528  https://www.news18.com/news/buzz/mumbais-iconi...          2   \n",
       "9529  https://www.hindustantimes.com/delhi-news/deol...          5   \n",
       "9530  https://www.reddit.com/r/india/comments/g4r0tg...         97   \n",
       "9531  https://www.timesnownews.com/mirror-now/crime/...         36   \n",
       "9532  https://www.hindustantimes.com/india-news/out-...         18   \n",
       "9533  https://www.moneycontrol.com/news/business/eco...          3   \n",
       "9534  https://www.news18.com/news/india/chennai-loca...          5   \n",
       "\n",
       "                 flair  score      id  \\\n",
       "0        Non-Political      1  g7bkgs   \n",
       "1             Politics      2  g7bk1p   \n",
       "2          Coronavirus      0  g7bf5p   \n",
       "3        Non-Political      0  g7b6i0   \n",
       "4               Sports      0  g7b5bg   \n",
       "5          Coronavirus      6  g7b3un   \n",
       "6          Coronavirus      1  g7b05h   \n",
       "7          CAA-NRC-NPR      8  g7awra   \n",
       "8        Non-Political      0  g7avvj   \n",
       "9        Non-Political      3  g7atrl   \n",
       "10           Scheduled      2  g7aoab   \n",
       "11            Politics     16  g7akzh   \n",
       "12                Food      0  g7ajd4   \n",
       "13       Non-Political      8  g7ai96   \n",
       "14                Food      4  g7agg0   \n",
       "15         Coronavirus      5  g7abg6   \n",
       "16       Non-Political      8  g7a5zk   \n",
       "17            AskIndia      3  g7a52v   \n",
       "18         Coronavirus      4  g79yp1   \n",
       "19         Coronavirus      2  g77qg5   \n",
       "20            AskIndia      3  g783oh   \n",
       "21            AskIndia      1  g784rc   \n",
       "22            AskIndia      1  g78cki   \n",
       "23    Business/Finance      9  g79laj   \n",
       "24       Non-Political     31  g79nq5   \n",
       "25           Scheduled      0  g79lxx   \n",
       "26                 NaN      2  g79jm9   \n",
       "27            Politics      3  g79hj7   \n",
       "28                Food    242  g79auq   \n",
       "29            AskIndia      6  g799pf   \n",
       "...                ...    ...     ...   \n",
       "9505       Coronavirus    135  g4smxd   \n",
       "9506       Coronavirus     78  g4si29   \n",
       "9507               NaN    117  g4sh1y   \n",
       "9508          Politics    296  g4sgiu   \n",
       "9509       Coronavirus     17  g4sew4   \n",
       "9510       Coronavirus     12  g4sb0x   \n",
       "9511          Politics      7  g4s9a2   \n",
       "9512          AskIndia     15  g4s7yi   \n",
       "9513       Coronavirus     72  g4s630   \n",
       "9514       Coronavirus     15  g4s2cl   \n",
       "9515       Coronavirus     35  g4s09b   \n",
       "9516          Politics     19  g4rzea   \n",
       "9517    Policy/Economy     50  g4ruv2   \n",
       "9518     Non-Political    272  g4rt41   \n",
       "9519       Coronavirus     46  g4rjh1   \n",
       "9520       Coronavirus    234  g4ril3   \n",
       "9521          Politics      6  g4rh6c   \n",
       "9522    Policy/Economy     29  g4rggi   \n",
       "9523       Coronavirus    116  g4rg8l   \n",
       "9524          Politics     26  g4rdvu   \n",
       "9525     Non-Political     91  g4rdrb   \n",
       "9526       Coronavirus     15  g4r95q   \n",
       "9527       Photography     64  g4r5dd   \n",
       "9528       Coronavirus     37  g4r2ns   \n",
       "9529     Non-Political     99  g4r0xv   \n",
       "9530     Non-Political    157  g4r0tg   \n",
       "9531     Non-Political    198  g4qwap   \n",
       "9532       Coronavirus    157  g4qvfx   \n",
       "9533    Policy/Economy     13  g4qvew   \n",
       "9534       Coronavirus     16  g4qqg7   \n",
       "\n",
       "                                               comments       created  \\\n",
       "0     [' [https://eurasiantimes.com/indian-bro-build...  1.587775e+09   \n",
       "1                                                    []  1.587775e+09   \n",
       "2                                                    []  1.587774e+09   \n",
       "3     ['The best unbiased source off the top of my h...  1.587774e+09   \n",
       "4            ['Mast hai.. Facebook pe daal.', 'Haha 😄']  1.587773e+09   \n",
       "5     ['F', 'If you were doing good for yourself it ...  1.587773e+09   \n",
       "6                                                    []  1.587773e+09   \n",
       "7     ['Youths like you are national treasure', \"Tha...  1.587773e+09   \n",
       "8                                                    []  1.587773e+09   \n",
       "9     [\"I first came across this picture a couple of...  1.587772e+09   \n",
       "10    ['This thread is for casual discussion only. *...  1.587772e+09   \n",
       "11    ['there are many youngsters dying for a chance...  1.587772e+09   \n",
       "12                                                   []  1.587771e+09   \n",
       "13    [\"Ohh [Annavra](https://www.youtube.com/watch?...  1.587771e+09   \n",
       "14    [\"There are over 1000 varieties of mangoes in ...  1.587771e+09   \n",
       "15    ['I’m glad you did. You have shared your wisdo...  1.587771e+09   \n",
       "16    [\"Contact the nearest doc, ask him for a presc...  1.587770e+09   \n",
       "17    ['If you plan to reconnect with South you espe...  1.587770e+09   \n",
       "18    [\"I don't know why you're portraying this as y...  1.587769e+09   \n",
       "19    ['Not sure if this is the best way to raise aw...  1.587761e+09   \n",
       "20    [\"1. Yes \\n2. No \\n3. Most of them. \\n4. No. S...  1.587763e+09   \n",
       "21    ['You can apply online with all details.', 'No.']  1.587763e+09   \n",
       "22    ['Check our f16s, Skrat, Junkyard groove, Mali...  1.587764e+09   \n",
       "23    [\"Write to them stating that there was no ad p...  1.587768e+09   \n",
       "24    ['Ramzan mubarak!', 'Ramzan Mubarak.^myatheist...  1.587768e+09   \n",
       "25                                                   []  1.587768e+09   \n",
       "26                                                   []  1.587768e+09   \n",
       "27    ['Putting the latch on after horses bolted.', ...  1.587768e+09   \n",
       "28    ['Not much of a expert in this, but looks good...  1.587767e+09   \n",
       "29    [\"Sorry to say, that's kinda messed up\", 'What...  1.587767e+09   \n",
       "...                                                 ...           ...   \n",
       "9505  ['Can we please post news from news sites only...  1.587418e+09   \n",
       "9506  ['Wuhan \\n>75% were discharged within 25 days ...  1.587417e+09   \n",
       "9507  ['>TCS is going to make work from home the new...  1.587417e+09   \n",
       "9508  ['There is just one question that I have, in s...  1.587417e+09   \n",
       "9509  [\"But Trumpji says we don't have anything to l...  1.587417e+09   \n",
       "9510            ['Indians deserve only Narendra Modi.']  1.587416e+09   \n",
       "9511                                                 []  1.587416e+09   \n",
       "9512  ['I have mails which I have to get from Singap...  1.587416e+09   \n",
       "9513  [\"What we have in India is a lethal combinatio...  1.587416e+09   \n",
       "9514                                                 []  1.587415e+09   \n",
       "9515                ['\" Is this new Modas Operandi!!\"']  1.587415e+09   \n",
       "9516  ['2002 all over again.', 'Aap chronology samaj...  1.587415e+09   \n",
       "9517  ['Its only the start. Most MSMEs still paid th...  1.587414e+09   \n",
       "9518  ['Welcome back Kingfisher bhai, 1 beer tere re...  1.587414e+09   \n",
       "9519  [\"You can try as hard as you can but the best ...  1.587413e+09   \n",
       "9520  ['Think Saudi Arabia also announced the same y...  1.587413e+09   \n",
       "9521  ['what?', \"If you want to protest, protest. If...  1.587413e+09   \n",
       "9522  [\"Can some one explain what he means by this a...  1.587413e+09   \n",
       "9523                                                 []  1.587413e+09   \n",
       "9524  ['Reminds me of this: \\n\\n[Arrest of Kamran Yu...  1.587412e+09   \n",
       "9525  ['Hope the Judge stays safe.', 'but the proces...  1.587412e+09   \n",
       "9526  [\"[Here's](https://youtu.be/7OrxO0Xz8z0) a vid...  1.587412e+09   \n",
       "9527  ['Beeray me Ludhiane ton.', 'Cool', 'Which sid...  1.587411e+09   \n",
       "9528  [\"I'll miss this. Never knew that it was 250 y...  1.587411e+09   \n",
       "9529  [\"It's a shame when you think that they promis...  1.587411e+09   \n",
       "9530  ['Press F for our fallen soldier.', 'great... ...  1.587411e+09   \n",
       "9531  ['> In a tragic incident reported from a slum ...  1.587410e+09   \n",
       "9532  ['> None of them have shown any symptoms of Co...  1.587410e+09   \n",
       "9533  ['Lol. China is the master of playing protecti...  1.587410e+09   \n",
       "9534  [\"[Another chennai doctor's body was not allow...  1.587409e+09   \n",
       "\n",
       "                    author                                               body  \n",
       "0              AryanPandey                                                NaN  \n",
       "1             Saap_ka_Baap                                                NaN  \n",
       "2          opinions_matter                                                NaN  \n",
       "3           domainusername  What are some of the reliable sources to consu...  \n",
       "4             knighthell87                                                NaN  \n",
       "5               bhootbilli  Just one call. We are having trouble with mone...  \n",
       "6              Snehashis09                                                NaN  \n",
       "7               DuckHitler  This was written by me a day after the protest...  \n",
       "8         aguyfrominternet                                                NaN  \n",
       "9               SilasNashh                                                NaN  \n",
       "10               oxythebot  ^Beep ^Boop ^Bot, ^I ^am ^a ^bot! ^if ^any ^pr...  \n",
       "11             sudden_dust                                                NaN  \n",
       "12               nkchokshi                                                NaN  \n",
       "13          Difficult_Boat  On the occasion of the birthday of Dr Rajkumar...  \n",
       "14                jprbruce                                                NaN  \n",
       "15           adamkhormemna                                                NaN  \n",
       "16           FuckReddit682  So, the story goes like this - I live in a rur...  \n",
       "17             franckdemda  Hi fellow redditors,\\n\\nI'm a 28 young man fro...  \n",
       "18              DuckHitler  In my opinion, a second wave of Corona will fo...  \n",
       "19        MysteriousJello2                                                NaN  \n",
       "20             AnodyneSoul   Hey! I had a few questions for you guys:\\n\\n1...  \n",
       "21             yesinoalive  My father is agriculture consultant (Maharasht...  \n",
       "22                 faby129  Even though I do have a soft spot for Bollywoo...  \n",
       "23          ScammedByMagic  Hello guys,  \\nI am very frustrated with Magic...  \n",
       "24             abbaadmasri  I would highly recommend everyone to cut down ...  \n",
       "25                avinassh  [Last week's issue - 03/04/2020](https://np.re...  \n",
       "26         OldSchoolMonkey  The supreme court has dismissed a PIL last wee...  \n",
       "27           BigBulkemails                                                NaN  \n",
       "28              cynicsword                                                NaN  \n",
       "29            Mountain_Rat  Saw on a news channel today a heart-wrenching ...  \n",
       "...                    ...                                                ...  \n",
       "9505          xx_yariel_xx                                                NaN  \n",
       "9506     india_ko_vanakkam  Most new +ve cases in Kerala are overseas retu...  \n",
       "9507                azemda                                                NaN  \n",
       "9508              Gameatro                                                NaN  \n",
       "9509           StorySpiral                                                NaN  \n",
       "9510       naveen_reloaded                                                NaN  \n",
       "9511            exgalactic                                                NaN  \n",
       "9512             psychdome  Is the Indian postal system still accepting an...  \n",
       "9513       naveen_reloaded                                                NaN  \n",
       "9514              pitchwin                                                NaN  \n",
       "9515              pitchwin                                                NaN  \n",
       "9516         suntanx_02-24                                                NaN  \n",
       "9517             hipporama                                                NaN  \n",
       "9518              anurag_0                                                NaN  \n",
       "9519          DenseSpirit5                                                NaN  \n",
       "9520          DenseSpirit5                                                NaN  \n",
       "9521         Easy_Republic                                                NaN  \n",
       "9522         AncientInsect                                                NaN  \n",
       "9523          DenseSpirit5                                                NaN  \n",
       "9524       lachrymator2019                                                NaN  \n",
       "9525       The_andh_bhakth                                                NaN  \n",
       "9526             -The-Bat-                                                NaN  \n",
       "9527            MrQuakeLoL                                                NaN  \n",
       "9528         KeeshaRuffing                                                NaN  \n",
       "9529  UnluckyProfessional8                                                NaN  \n",
       "9530             Kek567890  I have been talking to this doctor girl for 2 ...  \n",
       "9531           Shellynoire                                                NaN  \n",
       "9532                GL4389                                                NaN  \n",
       "9533              Johari82                                                NaN  \n",
       "9534            Mastizaada                                                NaN  \n",
       "\n",
       "[9535 rows x 10 columns]"
      ]
     },
     "execution_count": 3,
     "metadata": {},
     "output_type": "execute_result"
    }
   ],
   "source": [
    "data_df"
   ]
  },
  {
   "cell_type": "code",
   "execution_count": 4,
   "metadata": {},
   "outputs": [],
   "source": [
    "# Since reddit has date in UNIX format\n",
    "# We will convert it and add it to our dataframe\n",
    "def getDate(created):\n",
    "    return dt.datetime.fromtimestamp(created)\n",
    "\n",
    "data_df['timestamp'] = data_df['created'].apply(getDate)"
   ]
  },
  {
   "cell_type": "code",
   "execution_count": 5,
   "metadata": {},
   "outputs": [
    {
     "data": {
      "text/html": [
       "<div>\n",
       "<style scoped>\n",
       "    .dataframe tbody tr th:only-of-type {\n",
       "        vertical-align: middle;\n",
       "    }\n",
       "\n",
       "    .dataframe tbody tr th {\n",
       "        vertical-align: top;\n",
       "    }\n",
       "\n",
       "    .dataframe thead th {\n",
       "        text-align: right;\n",
       "    }\n",
       "</style>\n",
       "<table border=\"1\" class=\"dataframe\">\n",
       "  <thead>\n",
       "    <tr style=\"text-align: right;\">\n",
       "      <th></th>\n",
       "      <th>title</th>\n",
       "      <th>url</th>\n",
       "      <th>comms_num</th>\n",
       "      <th>flair</th>\n",
       "      <th>score</th>\n",
       "      <th>id</th>\n",
       "      <th>comments</th>\n",
       "      <th>created</th>\n",
       "      <th>author</th>\n",
       "      <th>body</th>\n",
       "      <th>timestamp</th>\n",
       "    </tr>\n",
       "  </thead>\n",
       "  <tbody>\n",
       "    <tr>\n",
       "      <th>0</th>\n",
       "      <td>Hangpan Dada Bridge inaugurations: Arunachal C...</td>\n",
       "      <td>https://economictimes.indiatimes.com/news/poli...</td>\n",
       "      <td>1</td>\n",
       "      <td>Non-Political</td>\n",
       "      <td>1</td>\n",
       "      <td>g7bkgs</td>\n",
       "      <td>[' [https://eurasiantimes.com/indian-bro-build...</td>\n",
       "      <td>1.587775e+09</td>\n",
       "      <td>AryanPandey</td>\n",
       "      <td>NaN</td>\n",
       "      <td>2020-04-25 06:04:34</td>\n",
       "    </tr>\n",
       "    <tr>\n",
       "      <th>1</th>\n",
       "      <td>While a so called 'Journalist' cries about an ...</td>\n",
       "      <td>https://youtu.be/Km2S9N1FgRM</td>\n",
       "      <td>0</td>\n",
       "      <td>Politics</td>\n",
       "      <td>2</td>\n",
       "      <td>g7bk1p</td>\n",
       "      <td>[]</td>\n",
       "      <td>1.587775e+09</td>\n",
       "      <td>Saap_ka_Baap</td>\n",
       "      <td>NaN</td>\n",
       "      <td>2020-04-25 06:03:57</td>\n",
       "    </tr>\n",
       "    <tr>\n",
       "      <th>2</th>\n",
       "      <td>High Risk Individual Categorization, Review 1 ...</td>\n",
       "      <td>https://youtu.be/61WfsMaSFj4</td>\n",
       "      <td>0</td>\n",
       "      <td>Coronavirus</td>\n",
       "      <td>0</td>\n",
       "      <td>g7bf5p</td>\n",
       "      <td>[]</td>\n",
       "      <td>1.587774e+09</td>\n",
       "      <td>opinions_matter</td>\n",
       "      <td>NaN</td>\n",
       "      <td>2020-04-25 05:56:33</td>\n",
       "    </tr>\n",
       "    <tr>\n",
       "      <th>3</th>\n",
       "      <td>Reliable news sources</td>\n",
       "      <td>https://www.reddit.com/r/india/comments/g7b6i0...</td>\n",
       "      <td>5</td>\n",
       "      <td>Non-Political</td>\n",
       "      <td>0</td>\n",
       "      <td>g7b6i0</td>\n",
       "      <td>['The best unbiased source off the top of my h...</td>\n",
       "      <td>1.587774e+09</td>\n",
       "      <td>domainusername</td>\n",
       "      <td>What are some of the reliable sources to consu...</td>\n",
       "      <td>2020-04-25 05:43:11</td>\n",
       "    </tr>\n",
       "    <tr>\n",
       "      <th>4</th>\n",
       "      <td>Imran khan says Indian captian was scared duri...</td>\n",
       "      <td>https://youtu.be/NF9ya6Od-ew</td>\n",
       "      <td>2</td>\n",
       "      <td>Sports</td>\n",
       "      <td>0</td>\n",
       "      <td>g7b5bg</td>\n",
       "      <td>['Mast hai.. Facebook pe daal.', 'Haha 😄']</td>\n",
       "      <td>1.587773e+09</td>\n",
       "      <td>knighthell87</td>\n",
       "      <td>NaN</td>\n",
       "      <td>2020-04-25 05:41:25</td>\n",
       "    </tr>\n",
       "    <tr>\n",
       "      <th>5</th>\n",
       "      <td>Covid19 hit me. I just got fired.</td>\n",
       "      <td>https://www.reddit.com/r/india/comments/g7b3un...</td>\n",
       "      <td>7</td>\n",
       "      <td>Coronavirus</td>\n",
       "      <td>6</td>\n",
       "      <td>g7b3un</td>\n",
       "      <td>['F', 'If you were doing good for yourself it ...</td>\n",
       "      <td>1.587773e+09</td>\n",
       "      <td>bhootbilli</td>\n",
       "      <td>Just one call. We are having trouble with mone...</td>\n",
       "      <td>2020-04-25 05:39:16</td>\n",
       "    </tr>\n",
       "    <tr>\n",
       "      <th>6</th>\n",
       "      <td>Astronaut Scott Kelly offers Coronavirus lockd...</td>\n",
       "      <td>https://thenewsspan.in/astronaut-scott-kelly-o...</td>\n",
       "      <td>0</td>\n",
       "      <td>Coronavirus</td>\n",
       "      <td>1</td>\n",
       "      <td>g7b05h</td>\n",
       "      <td>[]</td>\n",
       "      <td>1.587773e+09</td>\n",
       "      <td>Snehashis09</td>\n",
       "      <td>NaN</td>\n",
       "      <td>2020-04-25 05:33:38</td>\n",
       "    </tr>\n",
       "    <tr>\n",
       "      <th>7</th>\n",
       "      <td>My experience attending a protest for the firs...</td>\n",
       "      <td>https://www.reddit.com/r/india/comments/g7awra...</td>\n",
       "      <td>5</td>\n",
       "      <td>CAA-NRC-NPR</td>\n",
       "      <td>8</td>\n",
       "      <td>g7awra</td>\n",
       "      <td>['Youths like you are national treasure', \"Tha...</td>\n",
       "      <td>1.587773e+09</td>\n",
       "      <td>DuckHitler</td>\n",
       "      <td>This was written by me a day after the protest...</td>\n",
       "      <td>2020-04-25 05:28:28</td>\n",
       "    </tr>\n",
       "    <tr>\n",
       "      <th>8</th>\n",
       "      <td>6 Muslim families in Jind district convert to ...</td>\n",
       "      <td>https://timesofindia.indiatimes.com/city/chand...</td>\n",
       "      <td>1</td>\n",
       "      <td>Non-Political</td>\n",
       "      <td>0</td>\n",
       "      <td>g7avvj</td>\n",
       "      <td>[]</td>\n",
       "      <td>1.587773e+09</td>\n",
       "      <td>aguyfrominternet</td>\n",
       "      <td>NaN</td>\n",
       "      <td>2020-04-25 05:27:05</td>\n",
       "    </tr>\n",
       "    <tr>\n",
       "      <th>9</th>\n",
       "      <td>'27 Down' is one of the finest films you will ...</td>\n",
       "      <td>https://i.redd.it/kjogn67gfsu41.jpg</td>\n",
       "      <td>2</td>\n",
       "      <td>Non-Political</td>\n",
       "      <td>3</td>\n",
       "      <td>g7atrl</td>\n",
       "      <td>[\"I first came across this picture a couple of...</td>\n",
       "      <td>1.587772e+09</td>\n",
       "      <td>SilasNashh</td>\n",
       "      <td>NaN</td>\n",
       "      <td>2020-04-25 05:23:43</td>\n",
       "    </tr>\n",
       "    <tr>\n",
       "      <th>10</th>\n",
       "      <td>Late Night Random Discussion Thread !</td>\n",
       "      <td>https://www.reddit.com/r/india/comments/g7aoab...</td>\n",
       "      <td>4</td>\n",
       "      <td>Scheduled</td>\n",
       "      <td>2</td>\n",
       "      <td>g7aoab</td>\n",
       "      <td>['This thread is for casual discussion only. *...</td>\n",
       "      <td>1.587772e+09</td>\n",
       "      <td>oxythebot</td>\n",
       "      <td>^Beep ^Boop ^Bot, ^I ^am ^a ^bot! ^if ^any ^pr...</td>\n",
       "      <td>2020-04-25 05:15:10</td>\n",
       "    </tr>\n",
       "    <tr>\n",
       "      <th>11</th>\n",
       "      <td>Former IAS officer Kannan Gopinathan booked fo...</td>\n",
       "      <td>https://scroll.in/latest/960166/former-ias-off...</td>\n",
       "      <td>11</td>\n",
       "      <td>Politics</td>\n",
       "      <td>16</td>\n",
       "      <td>g7akzh</td>\n",
       "      <td>['there are many youngsters dying for a chance...</td>\n",
       "      <td>1.587772e+09</td>\n",
       "      <td>sudden_dust</td>\n",
       "      <td>NaN</td>\n",
       "      <td>2020-04-25 05:10:17</td>\n",
       "    </tr>\n",
       "    <tr>\n",
       "      <th>12</th>\n",
       "      <td>Chilli Garlic Hakka Noodle Veg Chilli Garlic N...</td>\n",
       "      <td>https://www.youtube.com/watch?v=5MiNLGwpY5Q</td>\n",
       "      <td>0</td>\n",
       "      <td>Food</td>\n",
       "      <td>0</td>\n",
       "      <td>g7ajd4</td>\n",
       "      <td>[]</td>\n",
       "      <td>1.587771e+09</td>\n",
       "      <td>nkchokshi</td>\n",
       "      <td>NaN</td>\n",
       "      <td>2020-04-25 05:07:44</td>\n",
       "    </tr>\n",
       "    <tr>\n",
       "      <th>13</th>\n",
       "      <td>Dr Rajkumar Appreciation Post</td>\n",
       "      <td>https://www.reddit.com/r/india/comments/g7ai96...</td>\n",
       "      <td>2</td>\n",
       "      <td>Non-Political</td>\n",
       "      <td>8</td>\n",
       "      <td>g7ai96</td>\n",
       "      <td>[\"Ohh [Annavra](https://www.youtube.com/watch?...</td>\n",
       "      <td>1.587771e+09</td>\n",
       "      <td>Difficult_Boat</td>\n",
       "      <td>On the occasion of the birthday of Dr Rajkumar...</td>\n",
       "      <td>2020-04-25 05:05:57</td>\n",
       "    </tr>\n",
       "    <tr>\n",
       "      <th>14</th>\n",
       "      <td>Mango season is coming ! (enjoy after lockdown)</td>\n",
       "      <td>https://i.redd.it/4ifcexlrbsu41.jpg</td>\n",
       "      <td>4</td>\n",
       "      <td>Food</td>\n",
       "      <td>4</td>\n",
       "      <td>g7agg0</td>\n",
       "      <td>[\"There are over 1000 varieties of mangoes in ...</td>\n",
       "      <td>1.587771e+09</td>\n",
       "      <td>jprbruce</td>\n",
       "      <td>NaN</td>\n",
       "      <td>2020-04-25 05:03:08</td>\n",
       "    </tr>\n",
       "    <tr>\n",
       "      <th>15</th>\n",
       "      <td>The mystery behind India's lower death rates d...</td>\n",
       "      <td>https://www.livemint.com/news/india/india-s-lo...</td>\n",
       "      <td>7</td>\n",
       "      <td>Coronavirus</td>\n",
       "      <td>5</td>\n",
       "      <td>g7abg6</td>\n",
       "      <td>['I’m glad you did. You have shared your wisdo...</td>\n",
       "      <td>1.587771e+09</td>\n",
       "      <td>adamkhormemna</td>\n",
       "      <td>NaN</td>\n",
       "      <td>2020-04-25 04:55:08</td>\n",
       "    </tr>\n",
       "    <tr>\n",
       "      <th>16</th>\n",
       "      <td>My Mother Needs HCQS tablets</td>\n",
       "      <td>https://www.reddit.com/r/india/comments/g7a5zk...</td>\n",
       "      <td>7</td>\n",
       "      <td>Non-Political</td>\n",
       "      <td>8</td>\n",
       "      <td>g7a5zk</td>\n",
       "      <td>[\"Contact the nearest doc, ask him for a presc...</td>\n",
       "      <td>1.587770e+09</td>\n",
       "      <td>FuckReddit682</td>\n",
       "      <td>So, the story goes like this - I live in a rur...</td>\n",
       "      <td>2020-04-25 04:46:41</td>\n",
       "    </tr>\n",
       "    <tr>\n",
       "      <th>17</th>\n",
       "      <td>Half-Indian: How do I reconnect with India ?</td>\n",
       "      <td>https://www.reddit.com/r/india/comments/g7a52v...</td>\n",
       "      <td>6</td>\n",
       "      <td>AskIndia</td>\n",
       "      <td>3</td>\n",
       "      <td>g7a52v</td>\n",
       "      <td>['If you plan to reconnect with South you espe...</td>\n",
       "      <td>1.587770e+09</td>\n",
       "      <td>franckdemda</td>\n",
       "      <td>Hi fellow redditors,\\n\\nI'm a 28 young man fro...</td>\n",
       "      <td>2020-04-25 04:45:09</td>\n",
       "    </tr>\n",
       "    <tr>\n",
       "      <th>18</th>\n",
       "      <td>A second wave of Corona is inevitable, regardl...</td>\n",
       "      <td>https://www.reddit.com/r/india/comments/g79yp1...</td>\n",
       "      <td>1</td>\n",
       "      <td>Coronavirus</td>\n",
       "      <td>4</td>\n",
       "      <td>g79yp1</td>\n",
       "      <td>[\"I don't know why you're portraying this as y...</td>\n",
       "      <td>1.587769e+09</td>\n",
       "      <td>DuckHitler</td>\n",
       "      <td>In my opinion, a second wave of Corona will fo...</td>\n",
       "      <td>2020-04-25 04:34:58</td>\n",
       "    </tr>\n",
       "    <tr>\n",
       "      <th>19</th>\n",
       "      <td>Tamil Nadu Police put lockdown violators in an...</td>\n",
       "      <td>https://twitter.com/ANI/status/125366227040992...</td>\n",
       "      <td>1</td>\n",
       "      <td>Coronavirus</td>\n",
       "      <td>2</td>\n",
       "      <td>g77qg5</td>\n",
       "      <td>['Not sure if this is the best way to raise aw...</td>\n",
       "      <td>1.587761e+09</td>\n",
       "      <td>MysteriousJello2</td>\n",
       "      <td>NaN</td>\n",
       "      <td>2020-04-25 02:14:51</td>\n",
       "    </tr>\n",
       "    <tr>\n",
       "      <th>20</th>\n",
       "      <td>Hi guys! What do you think is going to happen ...</td>\n",
       "      <td>https://www.reddit.com/r/india/comments/g783oh...</td>\n",
       "      <td>7</td>\n",
       "      <td>AskIndia</td>\n",
       "      <td>3</td>\n",
       "      <td>g783oh</td>\n",
       "      <td>[\"1. Yes \\n2. No \\n3. Most of them. \\n4. No. S...</td>\n",
       "      <td>1.587763e+09</td>\n",
       "      <td>AnodyneSoul</td>\n",
       "      <td>Hey! I had a few questions for you guys:\\n\\n1...</td>\n",
       "      <td>2020-04-25 02:40:22</td>\n",
       "    </tr>\n",
       "    <tr>\n",
       "      <th>21</th>\n",
       "      <td>Can agriculture consultants get pass to travel...</td>\n",
       "      <td>https://www.reddit.com/r/india/comments/g784rc...</td>\n",
       "      <td>2</td>\n",
       "      <td>AskIndia</td>\n",
       "      <td>1</td>\n",
       "      <td>g784rc</td>\n",
       "      <td>['You can apply online with all details.', 'No.']</td>\n",
       "      <td>1.587763e+09</td>\n",
       "      <td>yesinoalive</td>\n",
       "      <td>My father is agriculture consultant (Maharasht...</td>\n",
       "      <td>2020-04-25 02:42:20</td>\n",
       "    </tr>\n",
       "    <tr>\n",
       "      <th>22</th>\n",
       "      <td>I am always trying to discover new music and a...</td>\n",
       "      <td>https://www.reddit.com/r/india/comments/g78cki...</td>\n",
       "      <td>5</td>\n",
       "      <td>AskIndia</td>\n",
       "      <td>1</td>\n",
       "      <td>g78cki</td>\n",
       "      <td>['Check our f16s, Skrat, Junkyard groove, Mali...</td>\n",
       "      <td>1.587764e+09</td>\n",
       "      <td>faby129</td>\n",
       "      <td>Even though I do have a soft spot for Bollywoo...</td>\n",
       "      <td>2020-04-25 02:56:57</td>\n",
       "    </tr>\n",
       "    <tr>\n",
       "      <th>23</th>\n",
       "      <td>I am getting robbed by magicbricks. What shoul...</td>\n",
       "      <td>https://www.reddit.com/r/india/comments/g79laj...</td>\n",
       "      <td>2</td>\n",
       "      <td>Business/Finance</td>\n",
       "      <td>9</td>\n",
       "      <td>g79laj</td>\n",
       "      <td>[\"Write to them stating that there was no ad p...</td>\n",
       "      <td>1.587768e+09</td>\n",
       "      <td>ScammedByMagic</td>\n",
       "      <td>Hello guys,  \\nI am very frustrated with Magic...</td>\n",
       "      <td>2020-04-25 04:13:35</td>\n",
       "    </tr>\n",
       "    <tr>\n",
       "      <th>24</th>\n",
       "      <td>Ramzan Mubarak to everyone!!</td>\n",
       "      <td>https://www.reddit.com/r/india/comments/g79nq5...</td>\n",
       "      <td>5</td>\n",
       "      <td>Non-Political</td>\n",
       "      <td>31</td>\n",
       "      <td>g79nq5</td>\n",
       "      <td>['Ramzan mubarak!', 'Ramzan Mubarak.^myatheist...</td>\n",
       "      <td>1.587768e+09</td>\n",
       "      <td>abbaadmasri</td>\n",
       "      <td>I would highly recommend everyone to cut down ...</td>\n",
       "      <td>2020-04-25 04:17:40</td>\n",
       "    </tr>\n",
       "    <tr>\n",
       "      <th>25</th>\n",
       "      <td>Weekly Coders, Hackers &amp; All Tech related thre...</td>\n",
       "      <td>https://www.reddit.com/r/india/comments/g79lxx...</td>\n",
       "      <td>0</td>\n",
       "      <td>Scheduled</td>\n",
       "      <td>0</td>\n",
       "      <td>g79lxx</td>\n",
       "      <td>[]</td>\n",
       "      <td>1.587768e+09</td>\n",
       "      <td>avinassh</td>\n",
       "      <td>[Last week's issue - 03/04/2020](https://np.re...</td>\n",
       "      <td>2020-04-25 04:14:35</td>\n",
       "    </tr>\n",
       "    <tr>\n",
       "      <th>26</th>\n",
       "      <td>If there are any lawyers out there, please hel...</td>\n",
       "      <td>https://www.reddit.com/r/india/comments/g79jm9...</td>\n",
       "      <td>0</td>\n",
       "      <td>NaN</td>\n",
       "      <td>2</td>\n",
       "      <td>g79jm9</td>\n",
       "      <td>[]</td>\n",
       "      <td>1.587768e+09</td>\n",
       "      <td>OldSchoolMonkey</td>\n",
       "      <td>The supreme court has dismissed a PIL last wee...</td>\n",
       "      <td>2020-04-25 04:10:58</td>\n",
       "    </tr>\n",
       "    <tr>\n",
       "      <th>27</th>\n",
       "      <td>UP to bring back 15 lac migrant workers back h...</td>\n",
       "      <td>https://m.timesofindia.com/india/up-to-bring-b...</td>\n",
       "      <td>3</td>\n",
       "      <td>Politics</td>\n",
       "      <td>3</td>\n",
       "      <td>g79hj7</td>\n",
       "      <td>['Putting the latch on after horses bolted.', ...</td>\n",
       "      <td>1.587768e+09</td>\n",
       "      <td>BigBulkemails</td>\n",
       "      <td>NaN</td>\n",
       "      <td>2020-04-25 04:07:31</td>\n",
       "    </tr>\n",
       "    <tr>\n",
       "      <th>28</th>\n",
       "      <td>Greetings from Saudi Arabia. During this lock ...</td>\n",
       "      <td>https://i.redd.it/5b2bepewzru41.jpg</td>\n",
       "      <td>21</td>\n",
       "      <td>Food</td>\n",
       "      <td>242</td>\n",
       "      <td>g79auq</td>\n",
       "      <td>['Not much of a expert in this, but looks good...</td>\n",
       "      <td>1.587767e+09</td>\n",
       "      <td>cynicsword</td>\n",
       "      <td>NaN</td>\n",
       "      <td>2020-04-25 03:56:35</td>\n",
       "    </tr>\n",
       "    <tr>\n",
       "      <th>29</th>\n",
       "      <td>Helping needy people in Coronavirus is great.....</td>\n",
       "      <td>https://www.reddit.com/r/india/comments/g799pf...</td>\n",
       "      <td>11</td>\n",
       "      <td>AskIndia</td>\n",
       "      <td>6</td>\n",
       "      <td>g799pf</td>\n",
       "      <td>[\"Sorry to say, that's kinda messed up\", 'What...</td>\n",
       "      <td>1.587767e+09</td>\n",
       "      <td>Mountain_Rat</td>\n",
       "      <td>Saw on a news channel today a heart-wrenching ...</td>\n",
       "      <td>2020-04-25 03:54:40</td>\n",
       "    </tr>\n",
       "    <tr>\n",
       "      <th>...</th>\n",
       "      <td>...</td>\n",
       "      <td>...</td>\n",
       "      <td>...</td>\n",
       "      <td>...</td>\n",
       "      <td>...</td>\n",
       "      <td>...</td>\n",
       "      <td>...</td>\n",
       "      <td>...</td>\n",
       "      <td>...</td>\n",
       "      <td>...</td>\n",
       "      <td>...</td>\n",
       "    </tr>\n",
       "    <tr>\n",
       "      <th>9505</th>\n",
       "      <td>A 45-day-old becomes the youngest in India to ...</td>\n",
       "      <td>https://www.progwithzee.com/post/a-45-day-old-...</td>\n",
       "      <td>7</td>\n",
       "      <td>Coronavirus</td>\n",
       "      <td>135</td>\n",
       "      <td>g4smxd</td>\n",
       "      <td>['Can we please post news from news sites only...</td>\n",
       "      <td>1.587418e+09</td>\n",
       "      <td>xx_yariel_xx</td>\n",
       "      <td>NaN</td>\n",
       "      <td>2020-04-21 02:49:45</td>\n",
       "    </tr>\n",
       "    <tr>\n",
       "      <th>9506</th>\n",
       "      <td>5 out of 6 Covid positive cases today in Keral...</td>\n",
       "      <td>https://www.reddit.com/r/india/comments/g4si29...</td>\n",
       "      <td>6</td>\n",
       "      <td>Coronavirus</td>\n",
       "      <td>78</td>\n",
       "      <td>g4si29</td>\n",
       "      <td>['Wuhan \\n&gt;75% were discharged within 25 days ...</td>\n",
       "      <td>1.587417e+09</td>\n",
       "      <td>india_ko_vanakkam</td>\n",
       "      <td>Most new +ve cases in Kerala are overseas retu...</td>\n",
       "      <td>2020-04-21 02:40:57</td>\n",
       "    </tr>\n",
       "    <tr>\n",
       "      <th>9507</th>\n",
       "      <td>TCS CEO says the business model is 20 years ol...</td>\n",
       "      <td>https://www.businessinsider.in/business/corpor...</td>\n",
       "      <td>39</td>\n",
       "      <td>NaN</td>\n",
       "      <td>117</td>\n",
       "      <td>g4sh1y</td>\n",
       "      <td>['&gt;TCS is going to make work from home the new...</td>\n",
       "      <td>1.587417e+09</td>\n",
       "      <td>azemda</td>\n",
       "      <td>NaN</td>\n",
       "      <td>2020-04-21 02:39:10</td>\n",
       "    </tr>\n",
       "    <tr>\n",
       "      <th>9508</th>\n",
       "      <td>No communal angle in Palghar lynching case: Ud...</td>\n",
       "      <td>https://www.thehindu.com/news/cities/mumbai/no...</td>\n",
       "      <td>100</td>\n",
       "      <td>Politics</td>\n",
       "      <td>296</td>\n",
       "      <td>g4sgiu</td>\n",
       "      <td>['There is just one question that I have, in s...</td>\n",
       "      <td>1.587417e+09</td>\n",
       "      <td>Gameatro</td>\n",
       "      <td>NaN</td>\n",
       "      <td>2020-04-21 02:38:13</td>\n",
       "    </tr>\n",
       "    <tr>\n",
       "      <th>9509</th>\n",
       "      <td>Experts criticise India’s endorsement for use ...</td>\n",
       "      <td>https://m.economictimes.com/industry/healthcar...</td>\n",
       "      <td>2</td>\n",
       "      <td>Coronavirus</td>\n",
       "      <td>17</td>\n",
       "      <td>g4sew4</td>\n",
       "      <td>[\"But Trumpji says we don't have anything to l...</td>\n",
       "      <td>1.587417e+09</td>\n",
       "      <td>StorySpiral</td>\n",
       "      <td>NaN</td>\n",
       "      <td>2020-04-21 02:35:15</td>\n",
       "    </tr>\n",
       "    <tr>\n",
       "      <th>9510</th>\n",
       "      <td>Dr Bhagyaraj on violence around COVID-19 victi...</td>\n",
       "      <td>https://www.youtube.com/watch?v=7OrxO0Xz8z0</td>\n",
       "      <td>1</td>\n",
       "      <td>Coronavirus</td>\n",
       "      <td>12</td>\n",
       "      <td>g4sb0x</td>\n",
       "      <td>['Indians deserve only Narendra Modi.']</td>\n",
       "      <td>1.587416e+09</td>\n",
       "      <td>naveen_reloaded</td>\n",
       "      <td>NaN</td>\n",
       "      <td>2020-04-21 02:28:30</td>\n",
       "    </tr>\n",
       "    <tr>\n",
       "      <th>9511</th>\n",
       "      <td>Millions of internal migrant workers suffering...</td>\n",
       "      <td>http://www.wsws.org/en/articles/2020/04/20/ind...</td>\n",
       "      <td>0</td>\n",
       "      <td>Politics</td>\n",
       "      <td>7</td>\n",
       "      <td>g4s9a2</td>\n",
       "      <td>[]</td>\n",
       "      <td>1.587416e+09</td>\n",
       "      <td>exgalactic</td>\n",
       "      <td>NaN</td>\n",
       "      <td>2020-04-21 02:25:12</td>\n",
       "    </tr>\n",
       "    <tr>\n",
       "      <th>9512</th>\n",
       "      <td>Is India Post still processing international m...</td>\n",
       "      <td>https://www.reddit.com/r/india/comments/g4s7yi...</td>\n",
       "      <td>5</td>\n",
       "      <td>AskIndia</td>\n",
       "      <td>15</td>\n",
       "      <td>g4s7yi</td>\n",
       "      <td>['I have mails which I have to get from Singap...</td>\n",
       "      <td>1.587416e+09</td>\n",
       "      <td>psychdome</td>\n",
       "      <td>Is the Indian postal system still accepting an...</td>\n",
       "      <td>2020-04-21 02:22:42</td>\n",
       "    </tr>\n",
       "    <tr>\n",
       "      <th>9513</th>\n",
       "      <td>IMA warns of ‘White Alert’, ‘Black Day’ over v...</td>\n",
       "      <td>https://www.hindustantimes.com/india-news/ima-...</td>\n",
       "      <td>4</td>\n",
       "      <td>Coronavirus</td>\n",
       "      <td>72</td>\n",
       "      <td>g4s630</td>\n",
       "      <td>[\"What we have in India is a lethal combinatio...</td>\n",
       "      <td>1.587416e+09</td>\n",
       "      <td>naveen_reloaded</td>\n",
       "      <td>NaN</td>\n",
       "      <td>2020-04-21 02:19:08</td>\n",
       "    </tr>\n",
       "    <tr>\n",
       "      <th>9514</th>\n",
       "      <td>Over 100 people arrested, nothing communal in ...</td>\n",
       "      <td>https://timesofindia.indiatimes.com/city/mumba...</td>\n",
       "      <td>0</td>\n",
       "      <td>Coronavirus</td>\n",
       "      <td>15</td>\n",
       "      <td>g4s2cl</td>\n",
       "      <td>[]</td>\n",
       "      <td>1.587415e+09</td>\n",
       "      <td>pitchwin</td>\n",
       "      <td>NaN</td>\n",
       "      <td>2020-04-21 02:11:44</td>\n",
       "    </tr>\n",
       "    <tr>\n",
       "      <th>9515</th>\n",
       "      <td>Video of currency notes in Indore falsely vira...</td>\n",
       "      <td>https://www.altnews.in/video-of-currency-notes...</td>\n",
       "      <td>1</td>\n",
       "      <td>Coronavirus</td>\n",
       "      <td>35</td>\n",
       "      <td>g4s09b</td>\n",
       "      <td>['\" Is this new Modas Operandi!!\"']</td>\n",
       "      <td>1.587415e+09</td>\n",
       "      <td>pitchwin</td>\n",
       "      <td>NaN</td>\n",
       "      <td>2020-04-21 02:07:35</td>\n",
       "    </tr>\n",
       "    <tr>\n",
       "      <th>9516</th>\n",
       "      <td>Understand the chronology in India: Let corona...</td>\n",
       "      <td>https://gulfnews.com/world/asia/india/understa...</td>\n",
       "      <td>3</td>\n",
       "      <td>Politics</td>\n",
       "      <td>19</td>\n",
       "      <td>g4rzea</td>\n",
       "      <td>['2002 all over again.', 'Aap chronology samaj...</td>\n",
       "      <td>1.587415e+09</td>\n",
       "      <td>suntanx_02-24</td>\n",
       "      <td>NaN</td>\n",
       "      <td>2020-04-21 02:05:55</td>\n",
       "    </tr>\n",
       "    <tr>\n",
       "      <th>9517</th>\n",
       "      <td>COVID-19 outbreak: Joblessness rate triples to...</td>\n",
       "      <td>https://www.deccanherald.com/business/business...</td>\n",
       "      <td>1</td>\n",
       "      <td>Policy/Economy</td>\n",
       "      <td>50</td>\n",
       "      <td>g4ruv2</td>\n",
       "      <td>['Its only the start. Most MSMEs still paid th...</td>\n",
       "      <td>1.587414e+09</td>\n",
       "      <td>hipporama</td>\n",
       "      <td>NaN</td>\n",
       "      <td>2020-04-21 01:56:24</td>\n",
       "    </tr>\n",
       "    <tr>\n",
       "      <th>9518</th>\n",
       "      <td>Vijay Mallya loses UK high court appeal, clock...</td>\n",
       "      <td>https://m.timesofindia.com/business/india-busi...</td>\n",
       "      <td>39</td>\n",
       "      <td>Non-Political</td>\n",
       "      <td>272</td>\n",
       "      <td>g4rt41</td>\n",
       "      <td>['Welcome back Kingfisher bhai, 1 beer tere re...</td>\n",
       "      <td>1.587414e+09</td>\n",
       "      <td>anurag_0</td>\n",
       "      <td>NaN</td>\n",
       "      <td>2020-04-21 01:52:46</td>\n",
       "    </tr>\n",
       "    <tr>\n",
       "      <th>9519</th>\n",
       "      <td>Covid-19: Delhi paid the price of markaz incid...</td>\n",
       "      <td>https://www.hindustantimes.com/delhi-news/covi...</td>\n",
       "      <td>8</td>\n",
       "      <td>Coronavirus</td>\n",
       "      <td>46</td>\n",
       "      <td>g4rjh1</td>\n",
       "      <td>[\"You can try as hard as you can but the best ...</td>\n",
       "      <td>1.587413e+09</td>\n",
       "      <td>DenseSpirit5</td>\n",
       "      <td>NaN</td>\n",
       "      <td>2020-04-21 01:32:30</td>\n",
       "    </tr>\n",
       "    <tr>\n",
       "      <th>9520</th>\n",
       "      <td>'Pray at home during Ramzan': Telangana announ...</td>\n",
       "      <td>https://www.thenewsminute.com/article/pray-hom...</td>\n",
       "      <td>15</td>\n",
       "      <td>Coronavirus</td>\n",
       "      <td>234</td>\n",
       "      <td>g4ril3</td>\n",
       "      <td>['Think Saudi Arabia also announced the same y...</td>\n",
       "      <td>1.587413e+09</td>\n",
       "      <td>DenseSpirit5</td>\n",
       "      <td>NaN</td>\n",
       "      <td>2020-04-21 01:30:48</td>\n",
       "    </tr>\n",
       "    <tr>\n",
       "      <th>9521</th>\n",
       "      <td>Muslim Lifestyle Bloggers Are Fed Up With The ...</td>\n",
       "      <td>https://www.huffingtonpost.in/entry/muslim-lif...</td>\n",
       "      <td>2</td>\n",
       "      <td>Politics</td>\n",
       "      <td>6</td>\n",
       "      <td>g4rh6c</td>\n",
       "      <td>['what?', \"If you want to protest, protest. If...</td>\n",
       "      <td>1.587413e+09</td>\n",
       "      <td>Easy_Republic</td>\n",
       "      <td>NaN</td>\n",
       "      <td>2020-04-21 01:28:02</td>\n",
       "    </tr>\n",
       "    <tr>\n",
       "      <th>9522</th>\n",
       "      <td>Opinion | There is a reason the rest of India ...</td>\n",
       "      <td>https://www.livemint.com/opinion/columns/there...</td>\n",
       "      <td>10</td>\n",
       "      <td>Policy/Economy</td>\n",
       "      <td>29</td>\n",
       "      <td>g4rggi</td>\n",
       "      <td>[\"Can some one explain what he means by this a...</td>\n",
       "      <td>1.587413e+09</td>\n",
       "      <td>AncientInsect</td>\n",
       "      <td>NaN</td>\n",
       "      <td>2020-04-21 01:26:32</td>\n",
       "    </tr>\n",
       "    <tr>\n",
       "      <th>9523</th>\n",
       "      <td>Covid-19: Over 50 journalists in Mumbai test p...</td>\n",
       "      <td>https://scroll.in/latest/959732/covid-19-over-...</td>\n",
       "      <td>0</td>\n",
       "      <td>Coronavirus</td>\n",
       "      <td>116</td>\n",
       "      <td>g4rg8l</td>\n",
       "      <td>[]</td>\n",
       "      <td>1.587413e+09</td>\n",
       "      <td>DenseSpirit5</td>\n",
       "      <td>NaN</td>\n",
       "      <td>2020-04-21 01:26:03</td>\n",
       "    </tr>\n",
       "    <tr>\n",
       "      <th>9524</th>\n",
       "      <td>Kashmiri woman photojournalist booked over ‘an...</td>\n",
       "      <td>https://www.theweek.in/news/india/2020/04/20/k...</td>\n",
       "      <td>1</td>\n",
       "      <td>Politics</td>\n",
       "      <td>26</td>\n",
       "      <td>g4rdvu</td>\n",
       "      <td>['Reminds me of this: \\n\\n[Arrest of Kamran Yu...</td>\n",
       "      <td>1.587412e+09</td>\n",
       "      <td>lachrymator2019</td>\n",
       "      <td>NaN</td>\n",
       "      <td>2020-04-21 01:20:56</td>\n",
       "    </tr>\n",
       "    <tr>\n",
       "      <th>9525</th>\n",
       "      <td>‘Prima Facie No Case of Sedition’: K’taka HC o...</td>\n",
       "      <td>https://www.thequint.com/news/india/prima-faci...</td>\n",
       "      <td>4</td>\n",
       "      <td>Non-Political</td>\n",
       "      <td>91</td>\n",
       "      <td>g4rdrb</td>\n",
       "      <td>['Hope the Judge stays safe.', 'but the proces...</td>\n",
       "      <td>1.587412e+09</td>\n",
       "      <td>The_andh_bhakth</td>\n",
       "      <td>NaN</td>\n",
       "      <td>2020-04-21 01:20:41</td>\n",
       "    </tr>\n",
       "    <tr>\n",
       "      <th>9526</th>\n",
       "      <td>In Chennai, doctor’s burial marred by protests...</td>\n",
       "      <td>https://www.thehindu.com/news/cities/chennai/i...</td>\n",
       "      <td>1</td>\n",
       "      <td>Coronavirus</td>\n",
       "      <td>15</td>\n",
       "      <td>g4r95q</td>\n",
       "      <td>[\"[Here's](https://youtu.be/7OrxO0Xz8z0) a vid...</td>\n",
       "      <td>1.587412e+09</td>\n",
       "      <td>-The-Bat-</td>\n",
       "      <td>NaN</td>\n",
       "      <td>2020-04-21 01:11:02</td>\n",
       "    </tr>\n",
       "    <tr>\n",
       "      <th>9527</th>\n",
       "      <td>Sunrise #2 - Fatehgarh Sahib, Punjab - OnePlus...</td>\n",
       "      <td>https://i.redd.it/lk54kubalyt41.jpg</td>\n",
       "      <td>7</td>\n",
       "      <td>Photography</td>\n",
       "      <td>64</td>\n",
       "      <td>g4r5dd</td>\n",
       "      <td>['Beeray me Ludhiane ton.', 'Cool', 'Which sid...</td>\n",
       "      <td>1.587411e+09</td>\n",
       "      <td>MrQuakeLoL</td>\n",
       "      <td>NaN</td>\n",
       "      <td>2020-04-21 01:03:04</td>\n",
       "    </tr>\n",
       "    <tr>\n",
       "      <th>9528</th>\n",
       "      <td>Mumbai's Iconic Ramzan Food Market to be Off M...</td>\n",
       "      <td>https://www.news18.com/news/buzz/mumbais-iconi...</td>\n",
       "      <td>2</td>\n",
       "      <td>Coronavirus</td>\n",
       "      <td>37</td>\n",
       "      <td>g4r2ns</td>\n",
       "      <td>[\"I'll miss this. Never knew that it was 250 y...</td>\n",
       "      <td>1.587411e+09</td>\n",
       "      <td>KeeshaRuffing</td>\n",
       "      <td>NaN</td>\n",
       "      <td>2020-04-21 00:57:14</td>\n",
       "    </tr>\n",
       "    <tr>\n",
       "      <th>9529</th>\n",
       "      <td>Delhi doctor found hanging, family alleges ext...</td>\n",
       "      <td>https://www.hindustantimes.com/delhi-news/deol...</td>\n",
       "      <td>5</td>\n",
       "      <td>Non-Political</td>\n",
       "      <td>99</td>\n",
       "      <td>g4r0xv</td>\n",
       "      <td>[\"It's a shame when you think that they promis...</td>\n",
       "      <td>1.587411e+09</td>\n",
       "      <td>UnluckyProfessional8</td>\n",
       "      <td>NaN</td>\n",
       "      <td>2020-04-21 00:53:29</td>\n",
       "    </tr>\n",
       "    <tr>\n",
       "      <th>9530</th>\n",
       "      <td>[Story]Please don't wait too long to tell your...</td>\n",
       "      <td>https://www.reddit.com/r/india/comments/g4r0tg...</td>\n",
       "      <td>97</td>\n",
       "      <td>Non-Political</td>\n",
       "      <td>157</td>\n",
       "      <td>g4r0tg</td>\n",
       "      <td>['Press F for our fallen soldier.', 'great... ...</td>\n",
       "      <td>1.587411e+09</td>\n",
       "      <td>Kek567890</td>\n",
       "      <td>I have been talking to this doctor girl for 2 ...</td>\n",
       "      <td>2020-04-21 00:53:15</td>\n",
       "    </tr>\n",
       "    <tr>\n",
       "      <th>9531</th>\n",
       "      <td>After arranging food for family by selling his...</td>\n",
       "      <td>https://www.timesnownews.com/mirror-now/crime/...</td>\n",
       "      <td>36</td>\n",
       "      <td>Non-Political</td>\n",
       "      <td>198</td>\n",
       "      <td>g4qwap</td>\n",
       "      <td>['&gt; In a tragic incident reported from a slum ...</td>\n",
       "      <td>1.587410e+09</td>\n",
       "      <td>Shellynoire</td>\n",
       "      <td>NaN</td>\n",
       "      <td>2020-04-21 00:43:41</td>\n",
       "    </tr>\n",
       "    <tr>\n",
       "      <th>9532</th>\n",
       "      <td>Out of money, 6 foreigners make home inside ca...</td>\n",
       "      <td>https://www.hindustantimes.com/india-news/out-...</td>\n",
       "      <td>18</td>\n",
       "      <td>Coronavirus</td>\n",
       "      <td>157</td>\n",
       "      <td>g4qvfx</td>\n",
       "      <td>['&gt; None of them have shown any symptoms of Co...</td>\n",
       "      <td>1.587410e+09</td>\n",
       "      <td>GL4389</td>\n",
       "      <td>NaN</td>\n",
       "      <td>2020-04-21 00:41:49</td>\n",
       "    </tr>\n",
       "    <tr>\n",
       "      <th>9533</th>\n",
       "      <td>China says India's new FDI rules violate WTO p...</td>\n",
       "      <td>https://www.moneycontrol.com/news/business/eco...</td>\n",
       "      <td>3</td>\n",
       "      <td>Policy/Economy</td>\n",
       "      <td>13</td>\n",
       "      <td>g4qvew</td>\n",
       "      <td>['Lol. China is the master of playing protecti...</td>\n",
       "      <td>1.587410e+09</td>\n",
       "      <td>Johari82</td>\n",
       "      <td>NaN</td>\n",
       "      <td>2020-04-21 00:41:46</td>\n",
       "    </tr>\n",
       "    <tr>\n",
       "      <th>9534</th>\n",
       "      <td>Chennai Locals Pelt Stones at Ambulance Carryi...</td>\n",
       "      <td>https://www.news18.com/news/india/chennai-loca...</td>\n",
       "      <td>5</td>\n",
       "      <td>Coronavirus</td>\n",
       "      <td>16</td>\n",
       "      <td>g4qqg7</td>\n",
       "      <td>[\"[Another chennai doctor's body was not allow...</td>\n",
       "      <td>1.587409e+09</td>\n",
       "      <td>Mastizaada</td>\n",
       "      <td>NaN</td>\n",
       "      <td>2020-04-21 00:31:11</td>\n",
       "    </tr>\n",
       "  </tbody>\n",
       "</table>\n",
       "<p>9535 rows × 11 columns</p>\n",
       "</div>"
      ],
      "text/plain": [
       "                                                  title  \\\n",
       "0     Hangpan Dada Bridge inaugurations: Arunachal C...   \n",
       "1     While a so called 'Journalist' cries about an ...   \n",
       "2     High Risk Individual Categorization, Review 1 ...   \n",
       "3                                 Reliable news sources   \n",
       "4     Imran khan says Indian captian was scared duri...   \n",
       "5                     Covid19 hit me. I just got fired.   \n",
       "6     Astronaut Scott Kelly offers Coronavirus lockd...   \n",
       "7     My experience attending a protest for the firs...   \n",
       "8     6 Muslim families in Jind district convert to ...   \n",
       "9     '27 Down' is one of the finest films you will ...   \n",
       "10                Late Night Random Discussion Thread !   \n",
       "11    Former IAS officer Kannan Gopinathan booked fo...   \n",
       "12    Chilli Garlic Hakka Noodle Veg Chilli Garlic N...   \n",
       "13                        Dr Rajkumar Appreciation Post   \n",
       "14      Mango season is coming ! (enjoy after lockdown)   \n",
       "15    The mystery behind India's lower death rates d...   \n",
       "16                         My Mother Needs HCQS tablets   \n",
       "17         Half-Indian: How do I reconnect with India ?   \n",
       "18    A second wave of Corona is inevitable, regardl...   \n",
       "19    Tamil Nadu Police put lockdown violators in an...   \n",
       "20    Hi guys! What do you think is going to happen ...   \n",
       "21    Can agriculture consultants get pass to travel...   \n",
       "22    I am always trying to discover new music and a...   \n",
       "23    I am getting robbed by magicbricks. What shoul...   \n",
       "24                         Ramzan Mubarak to everyone!!   \n",
       "25    Weekly Coders, Hackers & All Tech related thre...   \n",
       "26    If there are any lawyers out there, please hel...   \n",
       "27    UP to bring back 15 lac migrant workers back h...   \n",
       "28    Greetings from Saudi Arabia. During this lock ...   \n",
       "29    Helping needy people in Coronavirus is great.....   \n",
       "...                                                 ...   \n",
       "9505  A 45-day-old becomes the youngest in India to ...   \n",
       "9506  5 out of 6 Covid positive cases today in Keral...   \n",
       "9507  TCS CEO says the business model is 20 years ol...   \n",
       "9508  No communal angle in Palghar lynching case: Ud...   \n",
       "9509  Experts criticise India’s endorsement for use ...   \n",
       "9510  Dr Bhagyaraj on violence around COVID-19 victi...   \n",
       "9511  Millions of internal migrant workers suffering...   \n",
       "9512  Is India Post still processing international m...   \n",
       "9513  IMA warns of ‘White Alert’, ‘Black Day’ over v...   \n",
       "9514  Over 100 people arrested, nothing communal in ...   \n",
       "9515  Video of currency notes in Indore falsely vira...   \n",
       "9516  Understand the chronology in India: Let corona...   \n",
       "9517  COVID-19 outbreak: Joblessness rate triples to...   \n",
       "9518  Vijay Mallya loses UK high court appeal, clock...   \n",
       "9519  Covid-19: Delhi paid the price of markaz incid...   \n",
       "9520  'Pray at home during Ramzan': Telangana announ...   \n",
       "9521  Muslim Lifestyle Bloggers Are Fed Up With The ...   \n",
       "9522  Opinion | There is a reason the rest of India ...   \n",
       "9523  Covid-19: Over 50 journalists in Mumbai test p...   \n",
       "9524  Kashmiri woman photojournalist booked over ‘an...   \n",
       "9525  ‘Prima Facie No Case of Sedition’: K’taka HC o...   \n",
       "9526  In Chennai, doctor’s burial marred by protests...   \n",
       "9527  Sunrise #2 - Fatehgarh Sahib, Punjab - OnePlus...   \n",
       "9528  Mumbai's Iconic Ramzan Food Market to be Off M...   \n",
       "9529  Delhi doctor found hanging, family alleges ext...   \n",
       "9530  [Story]Please don't wait too long to tell your...   \n",
       "9531  After arranging food for family by selling his...   \n",
       "9532  Out of money, 6 foreigners make home inside ca...   \n",
       "9533  China says India's new FDI rules violate WTO p...   \n",
       "9534  Chennai Locals Pelt Stones at Ambulance Carryi...   \n",
       "\n",
       "                                                    url  comms_num  \\\n",
       "0     https://economictimes.indiatimes.com/news/poli...          1   \n",
       "1                          https://youtu.be/Km2S9N1FgRM          0   \n",
       "2                          https://youtu.be/61WfsMaSFj4          0   \n",
       "3     https://www.reddit.com/r/india/comments/g7b6i0...          5   \n",
       "4                          https://youtu.be/NF9ya6Od-ew          2   \n",
       "5     https://www.reddit.com/r/india/comments/g7b3un...          7   \n",
       "6     https://thenewsspan.in/astronaut-scott-kelly-o...          0   \n",
       "7     https://www.reddit.com/r/india/comments/g7awra...          5   \n",
       "8     https://timesofindia.indiatimes.com/city/chand...          1   \n",
       "9                   https://i.redd.it/kjogn67gfsu41.jpg          2   \n",
       "10    https://www.reddit.com/r/india/comments/g7aoab...          4   \n",
       "11    https://scroll.in/latest/960166/former-ias-off...         11   \n",
       "12          https://www.youtube.com/watch?v=5MiNLGwpY5Q          0   \n",
       "13    https://www.reddit.com/r/india/comments/g7ai96...          2   \n",
       "14                  https://i.redd.it/4ifcexlrbsu41.jpg          4   \n",
       "15    https://www.livemint.com/news/india/india-s-lo...          7   \n",
       "16    https://www.reddit.com/r/india/comments/g7a5zk...          7   \n",
       "17    https://www.reddit.com/r/india/comments/g7a52v...          6   \n",
       "18    https://www.reddit.com/r/india/comments/g79yp1...          1   \n",
       "19    https://twitter.com/ANI/status/125366227040992...          1   \n",
       "20    https://www.reddit.com/r/india/comments/g783oh...          7   \n",
       "21    https://www.reddit.com/r/india/comments/g784rc...          2   \n",
       "22    https://www.reddit.com/r/india/comments/g78cki...          5   \n",
       "23    https://www.reddit.com/r/india/comments/g79laj...          2   \n",
       "24    https://www.reddit.com/r/india/comments/g79nq5...          5   \n",
       "25    https://www.reddit.com/r/india/comments/g79lxx...          0   \n",
       "26    https://www.reddit.com/r/india/comments/g79jm9...          0   \n",
       "27    https://m.timesofindia.com/india/up-to-bring-b...          3   \n",
       "28                  https://i.redd.it/5b2bepewzru41.jpg         21   \n",
       "29    https://www.reddit.com/r/india/comments/g799pf...         11   \n",
       "...                                                 ...        ...   \n",
       "9505  https://www.progwithzee.com/post/a-45-day-old-...          7   \n",
       "9506  https://www.reddit.com/r/india/comments/g4si29...          6   \n",
       "9507  https://www.businessinsider.in/business/corpor...         39   \n",
       "9508  https://www.thehindu.com/news/cities/mumbai/no...        100   \n",
       "9509  https://m.economictimes.com/industry/healthcar...          2   \n",
       "9510        https://www.youtube.com/watch?v=7OrxO0Xz8z0          1   \n",
       "9511  http://www.wsws.org/en/articles/2020/04/20/ind...          0   \n",
       "9512  https://www.reddit.com/r/india/comments/g4s7yi...          5   \n",
       "9513  https://www.hindustantimes.com/india-news/ima-...          4   \n",
       "9514  https://timesofindia.indiatimes.com/city/mumba...          0   \n",
       "9515  https://www.altnews.in/video-of-currency-notes...          1   \n",
       "9516  https://gulfnews.com/world/asia/india/understa...          3   \n",
       "9517  https://www.deccanherald.com/business/business...          1   \n",
       "9518  https://m.timesofindia.com/business/india-busi...         39   \n",
       "9519  https://www.hindustantimes.com/delhi-news/covi...          8   \n",
       "9520  https://www.thenewsminute.com/article/pray-hom...         15   \n",
       "9521  https://www.huffingtonpost.in/entry/muslim-lif...          2   \n",
       "9522  https://www.livemint.com/opinion/columns/there...         10   \n",
       "9523  https://scroll.in/latest/959732/covid-19-over-...          0   \n",
       "9524  https://www.theweek.in/news/india/2020/04/20/k...          1   \n",
       "9525  https://www.thequint.com/news/india/prima-faci...          4   \n",
       "9526  https://www.thehindu.com/news/cities/chennai/i...          1   \n",
       "9527                https://i.redd.it/lk54kubalyt41.jpg          7   \n",
       "9528  https://www.news18.com/news/buzz/mumbais-iconi...          2   \n",
       "9529  https://www.hindustantimes.com/delhi-news/deol...          5   \n",
       "9530  https://www.reddit.com/r/india/comments/g4r0tg...         97   \n",
       "9531  https://www.timesnownews.com/mirror-now/crime/...         36   \n",
       "9532  https://www.hindustantimes.com/india-news/out-...         18   \n",
       "9533  https://www.moneycontrol.com/news/business/eco...          3   \n",
       "9534  https://www.news18.com/news/india/chennai-loca...          5   \n",
       "\n",
       "                 flair  score      id  \\\n",
       "0        Non-Political      1  g7bkgs   \n",
       "1             Politics      2  g7bk1p   \n",
       "2          Coronavirus      0  g7bf5p   \n",
       "3        Non-Political      0  g7b6i0   \n",
       "4               Sports      0  g7b5bg   \n",
       "5          Coronavirus      6  g7b3un   \n",
       "6          Coronavirus      1  g7b05h   \n",
       "7          CAA-NRC-NPR      8  g7awra   \n",
       "8        Non-Political      0  g7avvj   \n",
       "9        Non-Political      3  g7atrl   \n",
       "10           Scheduled      2  g7aoab   \n",
       "11            Politics     16  g7akzh   \n",
       "12                Food      0  g7ajd4   \n",
       "13       Non-Political      8  g7ai96   \n",
       "14                Food      4  g7agg0   \n",
       "15         Coronavirus      5  g7abg6   \n",
       "16       Non-Political      8  g7a5zk   \n",
       "17            AskIndia      3  g7a52v   \n",
       "18         Coronavirus      4  g79yp1   \n",
       "19         Coronavirus      2  g77qg5   \n",
       "20            AskIndia      3  g783oh   \n",
       "21            AskIndia      1  g784rc   \n",
       "22            AskIndia      1  g78cki   \n",
       "23    Business/Finance      9  g79laj   \n",
       "24       Non-Political     31  g79nq5   \n",
       "25           Scheduled      0  g79lxx   \n",
       "26                 NaN      2  g79jm9   \n",
       "27            Politics      3  g79hj7   \n",
       "28                Food    242  g79auq   \n",
       "29            AskIndia      6  g799pf   \n",
       "...                ...    ...     ...   \n",
       "9505       Coronavirus    135  g4smxd   \n",
       "9506       Coronavirus     78  g4si29   \n",
       "9507               NaN    117  g4sh1y   \n",
       "9508          Politics    296  g4sgiu   \n",
       "9509       Coronavirus     17  g4sew4   \n",
       "9510       Coronavirus     12  g4sb0x   \n",
       "9511          Politics      7  g4s9a2   \n",
       "9512          AskIndia     15  g4s7yi   \n",
       "9513       Coronavirus     72  g4s630   \n",
       "9514       Coronavirus     15  g4s2cl   \n",
       "9515       Coronavirus     35  g4s09b   \n",
       "9516          Politics     19  g4rzea   \n",
       "9517    Policy/Economy     50  g4ruv2   \n",
       "9518     Non-Political    272  g4rt41   \n",
       "9519       Coronavirus     46  g4rjh1   \n",
       "9520       Coronavirus    234  g4ril3   \n",
       "9521          Politics      6  g4rh6c   \n",
       "9522    Policy/Economy     29  g4rggi   \n",
       "9523       Coronavirus    116  g4rg8l   \n",
       "9524          Politics     26  g4rdvu   \n",
       "9525     Non-Political     91  g4rdrb   \n",
       "9526       Coronavirus     15  g4r95q   \n",
       "9527       Photography     64  g4r5dd   \n",
       "9528       Coronavirus     37  g4r2ns   \n",
       "9529     Non-Political     99  g4r0xv   \n",
       "9530     Non-Political    157  g4r0tg   \n",
       "9531     Non-Political    198  g4qwap   \n",
       "9532       Coronavirus    157  g4qvfx   \n",
       "9533    Policy/Economy     13  g4qvew   \n",
       "9534       Coronavirus     16  g4qqg7   \n",
       "\n",
       "                                               comments       created  \\\n",
       "0     [' [https://eurasiantimes.com/indian-bro-build...  1.587775e+09   \n",
       "1                                                    []  1.587775e+09   \n",
       "2                                                    []  1.587774e+09   \n",
       "3     ['The best unbiased source off the top of my h...  1.587774e+09   \n",
       "4            ['Mast hai.. Facebook pe daal.', 'Haha 😄']  1.587773e+09   \n",
       "5     ['F', 'If you were doing good for yourself it ...  1.587773e+09   \n",
       "6                                                    []  1.587773e+09   \n",
       "7     ['Youths like you are national treasure', \"Tha...  1.587773e+09   \n",
       "8                                                    []  1.587773e+09   \n",
       "9     [\"I first came across this picture a couple of...  1.587772e+09   \n",
       "10    ['This thread is for casual discussion only. *...  1.587772e+09   \n",
       "11    ['there are many youngsters dying for a chance...  1.587772e+09   \n",
       "12                                                   []  1.587771e+09   \n",
       "13    [\"Ohh [Annavra](https://www.youtube.com/watch?...  1.587771e+09   \n",
       "14    [\"There are over 1000 varieties of mangoes in ...  1.587771e+09   \n",
       "15    ['I’m glad you did. You have shared your wisdo...  1.587771e+09   \n",
       "16    [\"Contact the nearest doc, ask him for a presc...  1.587770e+09   \n",
       "17    ['If you plan to reconnect with South you espe...  1.587770e+09   \n",
       "18    [\"I don't know why you're portraying this as y...  1.587769e+09   \n",
       "19    ['Not sure if this is the best way to raise aw...  1.587761e+09   \n",
       "20    [\"1. Yes \\n2. No \\n3. Most of them. \\n4. No. S...  1.587763e+09   \n",
       "21    ['You can apply online with all details.', 'No.']  1.587763e+09   \n",
       "22    ['Check our f16s, Skrat, Junkyard groove, Mali...  1.587764e+09   \n",
       "23    [\"Write to them stating that there was no ad p...  1.587768e+09   \n",
       "24    ['Ramzan mubarak!', 'Ramzan Mubarak.^myatheist...  1.587768e+09   \n",
       "25                                                   []  1.587768e+09   \n",
       "26                                                   []  1.587768e+09   \n",
       "27    ['Putting the latch on after horses bolted.', ...  1.587768e+09   \n",
       "28    ['Not much of a expert in this, but looks good...  1.587767e+09   \n",
       "29    [\"Sorry to say, that's kinda messed up\", 'What...  1.587767e+09   \n",
       "...                                                 ...           ...   \n",
       "9505  ['Can we please post news from news sites only...  1.587418e+09   \n",
       "9506  ['Wuhan \\n>75% were discharged within 25 days ...  1.587417e+09   \n",
       "9507  ['>TCS is going to make work from home the new...  1.587417e+09   \n",
       "9508  ['There is just one question that I have, in s...  1.587417e+09   \n",
       "9509  [\"But Trumpji says we don't have anything to l...  1.587417e+09   \n",
       "9510            ['Indians deserve only Narendra Modi.']  1.587416e+09   \n",
       "9511                                                 []  1.587416e+09   \n",
       "9512  ['I have mails which I have to get from Singap...  1.587416e+09   \n",
       "9513  [\"What we have in India is a lethal combinatio...  1.587416e+09   \n",
       "9514                                                 []  1.587415e+09   \n",
       "9515                ['\" Is this new Modas Operandi!!\"']  1.587415e+09   \n",
       "9516  ['2002 all over again.', 'Aap chronology samaj...  1.587415e+09   \n",
       "9517  ['Its only the start. Most MSMEs still paid th...  1.587414e+09   \n",
       "9518  ['Welcome back Kingfisher bhai, 1 beer tere re...  1.587414e+09   \n",
       "9519  [\"You can try as hard as you can but the best ...  1.587413e+09   \n",
       "9520  ['Think Saudi Arabia also announced the same y...  1.587413e+09   \n",
       "9521  ['what?', \"If you want to protest, protest. If...  1.587413e+09   \n",
       "9522  [\"Can some one explain what he means by this a...  1.587413e+09   \n",
       "9523                                                 []  1.587413e+09   \n",
       "9524  ['Reminds me of this: \\n\\n[Arrest of Kamran Yu...  1.587412e+09   \n",
       "9525  ['Hope the Judge stays safe.', 'but the proces...  1.587412e+09   \n",
       "9526  [\"[Here's](https://youtu.be/7OrxO0Xz8z0) a vid...  1.587412e+09   \n",
       "9527  ['Beeray me Ludhiane ton.', 'Cool', 'Which sid...  1.587411e+09   \n",
       "9528  [\"I'll miss this. Never knew that it was 250 y...  1.587411e+09   \n",
       "9529  [\"It's a shame when you think that they promis...  1.587411e+09   \n",
       "9530  ['Press F for our fallen soldier.', 'great... ...  1.587411e+09   \n",
       "9531  ['> In a tragic incident reported from a slum ...  1.587410e+09   \n",
       "9532  ['> None of them have shown any symptoms of Co...  1.587410e+09   \n",
       "9533  ['Lol. China is the master of playing protecti...  1.587410e+09   \n",
       "9534  [\"[Another chennai doctor's body was not allow...  1.587409e+09   \n",
       "\n",
       "                    author                                               body  \\\n",
       "0              AryanPandey                                                NaN   \n",
       "1             Saap_ka_Baap                                                NaN   \n",
       "2          opinions_matter                                                NaN   \n",
       "3           domainusername  What are some of the reliable sources to consu...   \n",
       "4             knighthell87                                                NaN   \n",
       "5               bhootbilli  Just one call. We are having trouble with mone...   \n",
       "6              Snehashis09                                                NaN   \n",
       "7               DuckHitler  This was written by me a day after the protest...   \n",
       "8         aguyfrominternet                                                NaN   \n",
       "9               SilasNashh                                                NaN   \n",
       "10               oxythebot  ^Beep ^Boop ^Bot, ^I ^am ^a ^bot! ^if ^any ^pr...   \n",
       "11             sudden_dust                                                NaN   \n",
       "12               nkchokshi                                                NaN   \n",
       "13          Difficult_Boat  On the occasion of the birthday of Dr Rajkumar...   \n",
       "14                jprbruce                                                NaN   \n",
       "15           adamkhormemna                                                NaN   \n",
       "16           FuckReddit682  So, the story goes like this - I live in a rur...   \n",
       "17             franckdemda  Hi fellow redditors,\\n\\nI'm a 28 young man fro...   \n",
       "18              DuckHitler  In my opinion, a second wave of Corona will fo...   \n",
       "19        MysteriousJello2                                                NaN   \n",
       "20             AnodyneSoul   Hey! I had a few questions for you guys:\\n\\n1...   \n",
       "21             yesinoalive  My father is agriculture consultant (Maharasht...   \n",
       "22                 faby129  Even though I do have a soft spot for Bollywoo...   \n",
       "23          ScammedByMagic  Hello guys,  \\nI am very frustrated with Magic...   \n",
       "24             abbaadmasri  I would highly recommend everyone to cut down ...   \n",
       "25                avinassh  [Last week's issue - 03/04/2020](https://np.re...   \n",
       "26         OldSchoolMonkey  The supreme court has dismissed a PIL last wee...   \n",
       "27           BigBulkemails                                                NaN   \n",
       "28              cynicsword                                                NaN   \n",
       "29            Mountain_Rat  Saw on a news channel today a heart-wrenching ...   \n",
       "...                    ...                                                ...   \n",
       "9505          xx_yariel_xx                                                NaN   \n",
       "9506     india_ko_vanakkam  Most new +ve cases in Kerala are overseas retu...   \n",
       "9507                azemda                                                NaN   \n",
       "9508              Gameatro                                                NaN   \n",
       "9509           StorySpiral                                                NaN   \n",
       "9510       naveen_reloaded                                                NaN   \n",
       "9511            exgalactic                                                NaN   \n",
       "9512             psychdome  Is the Indian postal system still accepting an...   \n",
       "9513       naveen_reloaded                                                NaN   \n",
       "9514              pitchwin                                                NaN   \n",
       "9515              pitchwin                                                NaN   \n",
       "9516         suntanx_02-24                                                NaN   \n",
       "9517             hipporama                                                NaN   \n",
       "9518              anurag_0                                                NaN   \n",
       "9519          DenseSpirit5                                                NaN   \n",
       "9520          DenseSpirit5                                                NaN   \n",
       "9521         Easy_Republic                                                NaN   \n",
       "9522         AncientInsect                                                NaN   \n",
       "9523          DenseSpirit5                                                NaN   \n",
       "9524       lachrymator2019                                                NaN   \n",
       "9525       The_andh_bhakth                                                NaN   \n",
       "9526             -The-Bat-                                                NaN   \n",
       "9527            MrQuakeLoL                                                NaN   \n",
       "9528         KeeshaRuffing                                                NaN   \n",
       "9529  UnluckyProfessional8                                                NaN   \n",
       "9530             Kek567890  I have been talking to this doctor girl for 2 ...   \n",
       "9531           Shellynoire                                                NaN   \n",
       "9532                GL4389                                                NaN   \n",
       "9533              Johari82                                                NaN   \n",
       "9534            Mastizaada                                                NaN   \n",
       "\n",
       "               timestamp  \n",
       "0    2020-04-25 06:04:34  \n",
       "1    2020-04-25 06:03:57  \n",
       "2    2020-04-25 05:56:33  \n",
       "3    2020-04-25 05:43:11  \n",
       "4    2020-04-25 05:41:25  \n",
       "5    2020-04-25 05:39:16  \n",
       "6    2020-04-25 05:33:38  \n",
       "7    2020-04-25 05:28:28  \n",
       "8    2020-04-25 05:27:05  \n",
       "9    2020-04-25 05:23:43  \n",
       "10   2020-04-25 05:15:10  \n",
       "11   2020-04-25 05:10:17  \n",
       "12   2020-04-25 05:07:44  \n",
       "13   2020-04-25 05:05:57  \n",
       "14   2020-04-25 05:03:08  \n",
       "15   2020-04-25 04:55:08  \n",
       "16   2020-04-25 04:46:41  \n",
       "17   2020-04-25 04:45:09  \n",
       "18   2020-04-25 04:34:58  \n",
       "19   2020-04-25 02:14:51  \n",
       "20   2020-04-25 02:40:22  \n",
       "21   2020-04-25 02:42:20  \n",
       "22   2020-04-25 02:56:57  \n",
       "23   2020-04-25 04:13:35  \n",
       "24   2020-04-25 04:17:40  \n",
       "25   2020-04-25 04:14:35  \n",
       "26   2020-04-25 04:10:58  \n",
       "27   2020-04-25 04:07:31  \n",
       "28   2020-04-25 03:56:35  \n",
       "29   2020-04-25 03:54:40  \n",
       "...                  ...  \n",
       "9505 2020-04-21 02:49:45  \n",
       "9506 2020-04-21 02:40:57  \n",
       "9507 2020-04-21 02:39:10  \n",
       "9508 2020-04-21 02:38:13  \n",
       "9509 2020-04-21 02:35:15  \n",
       "9510 2020-04-21 02:28:30  \n",
       "9511 2020-04-21 02:25:12  \n",
       "9512 2020-04-21 02:22:42  \n",
       "9513 2020-04-21 02:19:08  \n",
       "9514 2020-04-21 02:11:44  \n",
       "9515 2020-04-21 02:07:35  \n",
       "9516 2020-04-21 02:05:55  \n",
       "9517 2020-04-21 01:56:24  \n",
       "9518 2020-04-21 01:52:46  \n",
       "9519 2020-04-21 01:32:30  \n",
       "9520 2020-04-21 01:30:48  \n",
       "9521 2020-04-21 01:28:02  \n",
       "9522 2020-04-21 01:26:32  \n",
       "9523 2020-04-21 01:26:03  \n",
       "9524 2020-04-21 01:20:56  \n",
       "9525 2020-04-21 01:20:41  \n",
       "9526 2020-04-21 01:11:02  \n",
       "9527 2020-04-21 01:03:04  \n",
       "9528 2020-04-21 00:57:14  \n",
       "9529 2020-04-21 00:53:29  \n",
       "9530 2020-04-21 00:53:15  \n",
       "9531 2020-04-21 00:43:41  \n",
       "9532 2020-04-21 00:41:49  \n",
       "9533 2020-04-21 00:41:46  \n",
       "9534 2020-04-21 00:31:11  \n",
       "\n",
       "[9535 rows x 11 columns]"
      ]
     },
     "execution_count": 5,
     "metadata": {},
     "output_type": "execute_result"
    }
   ],
   "source": [
    "# Now we will check the timestamp \n",
    "data_df"
   ]
  },
  {
   "cell_type": "markdown",
   "metadata": {},
   "source": [
    "# Drop unwanted Items"
   ]
  },
  {
   "cell_type": "code",
   "execution_count": 6,
   "metadata": {},
   "outputs": [
    {
     "data": {
      "text/plain": [
       "title                object\n",
       "url                  object\n",
       "comms_num             int64\n",
       "flair                object\n",
       "score                 int64\n",
       "id                   object\n",
       "comments             object\n",
       "created             float64\n",
       "author               object\n",
       "body                 object\n",
       "timestamp    datetime64[ns]\n",
       "dtype: object"
      ]
     },
     "execution_count": 6,
     "metadata": {},
     "output_type": "execute_result"
    }
   ],
   "source": [
    "data_df.dtypes"
   ]
  },
  {
   "cell_type": "code",
   "execution_count": 7,
   "metadata": {},
   "outputs": [],
   "source": [
    "# We don't need \"date\" column as we already added timestamp\n",
    "# We will use drop function of pandas\n",
    "# We are droping column so set axis=1\n",
    "data_df = data_df.drop(['created'], axis=1)"
   ]
  },
  {
   "cell_type": "code",
   "execution_count": 8,
   "metadata": {},
   "outputs": [
    {
     "data": {
      "text/plain": [
       "title                object\n",
       "url                  object\n",
       "comms_num             int64\n",
       "flair                object\n",
       "score                 int64\n",
       "id                   object\n",
       "comments             object\n",
       "author               object\n",
       "body                 object\n",
       "timestamp    datetime64[ns]\n",
       "dtype: object"
      ]
     },
     "execution_count": 8,
     "metadata": {},
     "output_type": "execute_result"
    }
   ],
   "source": [
    "data_df.dtypes"
   ]
  },
  {
   "cell_type": "code",
   "execution_count": 9,
   "metadata": {},
   "outputs": [
    {
     "name": "stdout",
     "output_type": "stream",
     "text": [
      "title           0\n",
      "url             0\n",
      "comms_num       0\n",
      "flair          55\n",
      "score           0\n",
      "id              0\n",
      "comments        0\n",
      "author         33\n",
      "body         6830\n",
      "timestamp       0\n",
      "dtype: int64\n"
     ]
    },
    {
     "data": {
      "text/plain": [
       "title        9535\n",
       "url          9535\n",
       "comms_num    9535\n",
       "flair        9480\n",
       "score        9535\n",
       "id           9535\n",
       "comments     9535\n",
       "author       9502\n",
       "body         2705\n",
       "timestamp    9535\n",
       "dtype: int64"
      ]
     },
     "execution_count": 9,
     "metadata": {},
     "output_type": "execute_result"
    }
   ],
   "source": [
    "# Check how many null values in our dataframe\n",
    "print(data_df.isnull().sum())\n",
    "data_df.count()"
   ]
  },
  {
   "cell_type": "code",
   "execution_count": 10,
   "metadata": {},
   "outputs": [],
   "source": [
    "# We can see above we have many null values\n",
    "# We will drop them using panda's dropna()\n",
    "# data_df = data_df.dropna()\n",
    "data_df = data_df.fillna(\"na\")"
   ]
  },
  {
   "cell_type": "code",
   "execution_count": 11,
   "metadata": {},
   "outputs": [
    {
     "name": "stdout",
     "output_type": "stream",
     "text": [
      "title        0\n",
      "url          0\n",
      "comms_num    0\n",
      "flair        0\n",
      "score        0\n",
      "id           0\n",
      "comments     0\n",
      "author       0\n",
      "body         0\n",
      "timestamp    0\n",
      "dtype: int64\n",
      "title        9535\n",
      "url          9535\n",
      "comms_num    9535\n",
      "flair        9535\n",
      "score        9535\n",
      "id           9535\n",
      "comments     9535\n",
      "author       9535\n",
      "body         9535\n",
      "timestamp    9535\n",
      "dtype: int64\n"
     ]
    }
   ],
   "source": [
    "# Now let's check whether there are any remaining null values\n",
    "print(data_df.isnull().sum())\n",
    "print(data_df.count())"
   ]
  },
  {
   "cell_type": "code",
   "execution_count": 12,
   "metadata": {},
   "outputs": [
    {
     "data": {
      "text/html": [
       "<div>\n",
       "<style scoped>\n",
       "    .dataframe tbody tr th:only-of-type {\n",
       "        vertical-align: middle;\n",
       "    }\n",
       "\n",
       "    .dataframe tbody tr th {\n",
       "        vertical-align: top;\n",
       "    }\n",
       "\n",
       "    .dataframe thead th {\n",
       "        text-align: right;\n",
       "    }\n",
       "</style>\n",
       "<table border=\"1\" class=\"dataframe\">\n",
       "  <thead>\n",
       "    <tr style=\"text-align: right;\">\n",
       "      <th></th>\n",
       "      <th>title</th>\n",
       "      <th>url</th>\n",
       "      <th>comms_num</th>\n",
       "      <th>flair</th>\n",
       "      <th>score</th>\n",
       "      <th>id</th>\n",
       "      <th>comments</th>\n",
       "      <th>author</th>\n",
       "      <th>body</th>\n",
       "      <th>timestamp</th>\n",
       "    </tr>\n",
       "  </thead>\n",
       "  <tbody>\n",
       "    <tr>\n",
       "      <th>0</th>\n",
       "      <td>Hangpan Dada Bridge inaugurations: Arunachal C...</td>\n",
       "      <td>https://economictimes.indiatimes.com/news/poli...</td>\n",
       "      <td>1</td>\n",
       "      <td>Non-Political</td>\n",
       "      <td>1</td>\n",
       "      <td>g7bkgs</td>\n",
       "      <td>[' [https://eurasiantimes.com/indian-bro-build...</td>\n",
       "      <td>AryanPandey</td>\n",
       "      <td>na</td>\n",
       "      <td>2020-04-25 06:04:34</td>\n",
       "    </tr>\n",
       "    <tr>\n",
       "      <th>1</th>\n",
       "      <td>While a so called 'Journalist' cries about an ...</td>\n",
       "      <td>https://youtu.be/Km2S9N1FgRM</td>\n",
       "      <td>0</td>\n",
       "      <td>Politics</td>\n",
       "      <td>2</td>\n",
       "      <td>g7bk1p</td>\n",
       "      <td>[]</td>\n",
       "      <td>Saap_ka_Baap</td>\n",
       "      <td>na</td>\n",
       "      <td>2020-04-25 06:03:57</td>\n",
       "    </tr>\n",
       "    <tr>\n",
       "      <th>2</th>\n",
       "      <td>High Risk Individual Categorization, Review 1 ...</td>\n",
       "      <td>https://youtu.be/61WfsMaSFj4</td>\n",
       "      <td>0</td>\n",
       "      <td>Coronavirus</td>\n",
       "      <td>0</td>\n",
       "      <td>g7bf5p</td>\n",
       "      <td>[]</td>\n",
       "      <td>opinions_matter</td>\n",
       "      <td>na</td>\n",
       "      <td>2020-04-25 05:56:33</td>\n",
       "    </tr>\n",
       "    <tr>\n",
       "      <th>3</th>\n",
       "      <td>Reliable news sources</td>\n",
       "      <td>https://www.reddit.com/r/india/comments/g7b6i0...</td>\n",
       "      <td>5</td>\n",
       "      <td>Non-Political</td>\n",
       "      <td>0</td>\n",
       "      <td>g7b6i0</td>\n",
       "      <td>['The best unbiased source off the top of my h...</td>\n",
       "      <td>domainusername</td>\n",
       "      <td>What are some of the reliable sources to consu...</td>\n",
       "      <td>2020-04-25 05:43:11</td>\n",
       "    </tr>\n",
       "    <tr>\n",
       "      <th>4</th>\n",
       "      <td>Imran khan says Indian captian was scared duri...</td>\n",
       "      <td>https://youtu.be/NF9ya6Od-ew</td>\n",
       "      <td>2</td>\n",
       "      <td>Sports</td>\n",
       "      <td>0</td>\n",
       "      <td>g7b5bg</td>\n",
       "      <td>['Mast hai.. Facebook pe daal.', 'Haha 😄']</td>\n",
       "      <td>knighthell87</td>\n",
       "      <td>na</td>\n",
       "      <td>2020-04-25 05:41:25</td>\n",
       "    </tr>\n",
       "  </tbody>\n",
       "</table>\n",
       "</div>"
      ],
      "text/plain": [
       "                                               title  \\\n",
       "0  Hangpan Dada Bridge inaugurations: Arunachal C...   \n",
       "1  While a so called 'Journalist' cries about an ...   \n",
       "2  High Risk Individual Categorization, Review 1 ...   \n",
       "3                              Reliable news sources   \n",
       "4  Imran khan says Indian captian was scared duri...   \n",
       "\n",
       "                                                 url  comms_num  \\\n",
       "0  https://economictimes.indiatimes.com/news/poli...          1   \n",
       "1                       https://youtu.be/Km2S9N1FgRM          0   \n",
       "2                       https://youtu.be/61WfsMaSFj4          0   \n",
       "3  https://www.reddit.com/r/india/comments/g7b6i0...          5   \n",
       "4                       https://youtu.be/NF9ya6Od-ew          2   \n",
       "\n",
       "           flair  score      id  \\\n",
       "0  Non-Political      1  g7bkgs   \n",
       "1       Politics      2  g7bk1p   \n",
       "2    Coronavirus      0  g7bf5p   \n",
       "3  Non-Political      0  g7b6i0   \n",
       "4         Sports      0  g7b5bg   \n",
       "\n",
       "                                            comments           author  \\\n",
       "0  [' [https://eurasiantimes.com/indian-bro-build...      AryanPandey   \n",
       "1                                                 []     Saap_ka_Baap   \n",
       "2                                                 []  opinions_matter   \n",
       "3  ['The best unbiased source off the top of my h...   domainusername   \n",
       "4         ['Mast hai.. Facebook pe daal.', 'Haha 😄']     knighthell87   \n",
       "\n",
       "                                                body           timestamp  \n",
       "0                                                 na 2020-04-25 06:04:34  \n",
       "1                                                 na 2020-04-25 06:03:57  \n",
       "2                                                 na 2020-04-25 05:56:33  \n",
       "3  What are some of the reliable sources to consu... 2020-04-25 05:43:11  \n",
       "4                                                 na 2020-04-25 05:41:25  "
      ]
     },
     "execution_count": 12,
     "metadata": {},
     "output_type": "execute_result"
    }
   ],
   "source": [
    "# Let's check our df\n",
    "data_df.head()"
   ]
  },
  {
   "cell_type": "code",
   "execution_count": 13,
   "metadata": {},
   "outputs": [],
   "source": [
    "# As we can see comments section contains list\n",
    "# Many of them are empty we will drop it\n",
    "data_df = data_df.drop(['comments'], axis=1)"
   ]
  },
  {
   "cell_type": "code",
   "execution_count": 20,
   "metadata": {},
   "outputs": [
    {
     "data": {
      "text/html": [
       "<div>\n",
       "<style scoped>\n",
       "    .dataframe tbody tr th:only-of-type {\n",
       "        vertical-align: middle;\n",
       "    }\n",
       "\n",
       "    .dataframe tbody tr th {\n",
       "        vertical-align: top;\n",
       "    }\n",
       "\n",
       "    .dataframe thead th {\n",
       "        text-align: right;\n",
       "    }\n",
       "</style>\n",
       "<table border=\"1\" class=\"dataframe\">\n",
       "  <thead>\n",
       "    <tr style=\"text-align: right;\">\n",
       "      <th></th>\n",
       "      <th>title</th>\n",
       "      <th>url</th>\n",
       "      <th>comms_num</th>\n",
       "      <th>flair</th>\n",
       "      <th>score</th>\n",
       "      <th>id</th>\n",
       "      <th>author</th>\n",
       "      <th>body</th>\n",
       "      <th>timestamp</th>\n",
       "    </tr>\n",
       "  </thead>\n",
       "  <tbody>\n",
       "    <tr>\n",
       "      <th>0</th>\n",
       "      <td>Hangpan Dada Bridge inaugurations: Arunachal C...</td>\n",
       "      <td>https://economictimes.indiatimes.com/news/poli...</td>\n",
       "      <td>1</td>\n",
       "      <td>Non-Political</td>\n",
       "      <td>1</td>\n",
       "      <td>g7bkgs</td>\n",
       "      <td>AryanPandey</td>\n",
       "      <td>na</td>\n",
       "      <td>2020-04-25 06:04:34</td>\n",
       "    </tr>\n",
       "    <tr>\n",
       "      <th>1</th>\n",
       "      <td>While a so called 'Journalist' cries about an ...</td>\n",
       "      <td>https://youtu.be/Km2S9N1FgRM</td>\n",
       "      <td>0</td>\n",
       "      <td>Politics</td>\n",
       "      <td>2</td>\n",
       "      <td>g7bk1p</td>\n",
       "      <td>Saap_ka_Baap</td>\n",
       "      <td>na</td>\n",
       "      <td>2020-04-25 06:03:57</td>\n",
       "    </tr>\n",
       "    <tr>\n",
       "      <th>2</th>\n",
       "      <td>High Risk Individual Categorization, Review 1 ...</td>\n",
       "      <td>https://youtu.be/61WfsMaSFj4</td>\n",
       "      <td>0</td>\n",
       "      <td>Coronavirus</td>\n",
       "      <td>0</td>\n",
       "      <td>g7bf5p</td>\n",
       "      <td>opinions_matter</td>\n",
       "      <td>na</td>\n",
       "      <td>2020-04-25 05:56:33</td>\n",
       "    </tr>\n",
       "    <tr>\n",
       "      <th>3</th>\n",
       "      <td>Reliable news sources</td>\n",
       "      <td>https://www.reddit.com/r/india/comments/g7b6i0...</td>\n",
       "      <td>5</td>\n",
       "      <td>Non-Political</td>\n",
       "      <td>0</td>\n",
       "      <td>g7b6i0</td>\n",
       "      <td>domainusername</td>\n",
       "      <td>What are some of the reliable sources to consu...</td>\n",
       "      <td>2020-04-25 05:43:11</td>\n",
       "    </tr>\n",
       "    <tr>\n",
       "      <th>4</th>\n",
       "      <td>Imran khan says Indian captian was scared duri...</td>\n",
       "      <td>https://youtu.be/NF9ya6Od-ew</td>\n",
       "      <td>2</td>\n",
       "      <td>Sports</td>\n",
       "      <td>0</td>\n",
       "      <td>g7b5bg</td>\n",
       "      <td>knighthell87</td>\n",
       "      <td>na</td>\n",
       "      <td>2020-04-25 05:41:25</td>\n",
       "    </tr>\n",
       "    <tr>\n",
       "      <th>5</th>\n",
       "      <td>Covid19 hit me. I just got fired.</td>\n",
       "      <td>https://www.reddit.com/r/india/comments/g7b3un...</td>\n",
       "      <td>7</td>\n",
       "      <td>Coronavirus</td>\n",
       "      <td>6</td>\n",
       "      <td>g7b3un</td>\n",
       "      <td>bhootbilli</td>\n",
       "      <td>Just one call. We are having trouble with mone...</td>\n",
       "      <td>2020-04-25 05:39:16</td>\n",
       "    </tr>\n",
       "    <tr>\n",
       "      <th>6</th>\n",
       "      <td>Astronaut Scott Kelly offers Coronavirus lockd...</td>\n",
       "      <td>https://thenewsspan.in/astronaut-scott-kelly-o...</td>\n",
       "      <td>0</td>\n",
       "      <td>Coronavirus</td>\n",
       "      <td>1</td>\n",
       "      <td>g7b05h</td>\n",
       "      <td>Snehashis09</td>\n",
       "      <td>na</td>\n",
       "      <td>2020-04-25 05:33:38</td>\n",
       "    </tr>\n",
       "    <tr>\n",
       "      <th>7</th>\n",
       "      <td>My experience attending a protest for the firs...</td>\n",
       "      <td>https://www.reddit.com/r/india/comments/g7awra...</td>\n",
       "      <td>5</td>\n",
       "      <td>CAA-NRC-NPR</td>\n",
       "      <td>8</td>\n",
       "      <td>g7awra</td>\n",
       "      <td>DuckHitler</td>\n",
       "      <td>This was written by me a day after the protest...</td>\n",
       "      <td>2020-04-25 05:28:28</td>\n",
       "    </tr>\n",
       "    <tr>\n",
       "      <th>8</th>\n",
       "      <td>6 Muslim families in Jind district convert to ...</td>\n",
       "      <td>https://timesofindia.indiatimes.com/city/chand...</td>\n",
       "      <td>1</td>\n",
       "      <td>Non-Political</td>\n",
       "      <td>0</td>\n",
       "      <td>g7avvj</td>\n",
       "      <td>aguyfrominternet</td>\n",
       "      <td>na</td>\n",
       "      <td>2020-04-25 05:27:05</td>\n",
       "    </tr>\n",
       "    <tr>\n",
       "      <th>9</th>\n",
       "      <td>'27 Down' is one of the finest films you will ...</td>\n",
       "      <td>https://i.redd.it/kjogn67gfsu41.jpg</td>\n",
       "      <td>2</td>\n",
       "      <td>Non-Political</td>\n",
       "      <td>3</td>\n",
       "      <td>g7atrl</td>\n",
       "      <td>SilasNashh</td>\n",
       "      <td>na</td>\n",
       "      <td>2020-04-25 05:23:43</td>\n",
       "    </tr>\n",
       "    <tr>\n",
       "      <th>10</th>\n",
       "      <td>Late Night Random Discussion Thread !</td>\n",
       "      <td>https://www.reddit.com/r/india/comments/g7aoab...</td>\n",
       "      <td>4</td>\n",
       "      <td>Scheduled</td>\n",
       "      <td>2</td>\n",
       "      <td>g7aoab</td>\n",
       "      <td>oxythebot</td>\n",
       "      <td>^Beep ^Boop ^Bot, ^I ^am ^a ^bot! ^if ^any ^pr...</td>\n",
       "      <td>2020-04-25 05:15:10</td>\n",
       "    </tr>\n",
       "    <tr>\n",
       "      <th>11</th>\n",
       "      <td>Former IAS officer Kannan Gopinathan booked fo...</td>\n",
       "      <td>https://scroll.in/latest/960166/former-ias-off...</td>\n",
       "      <td>11</td>\n",
       "      <td>Politics</td>\n",
       "      <td>16</td>\n",
       "      <td>g7akzh</td>\n",
       "      <td>sudden_dust</td>\n",
       "      <td>na</td>\n",
       "      <td>2020-04-25 05:10:17</td>\n",
       "    </tr>\n",
       "    <tr>\n",
       "      <th>12</th>\n",
       "      <td>Chilli Garlic Hakka Noodle Veg Chilli Garlic N...</td>\n",
       "      <td>https://www.youtube.com/watch?v=5MiNLGwpY5Q</td>\n",
       "      <td>0</td>\n",
       "      <td>Food</td>\n",
       "      <td>0</td>\n",
       "      <td>g7ajd4</td>\n",
       "      <td>nkchokshi</td>\n",
       "      <td>na</td>\n",
       "      <td>2020-04-25 05:07:44</td>\n",
       "    </tr>\n",
       "    <tr>\n",
       "      <th>13</th>\n",
       "      <td>Dr Rajkumar Appreciation Post</td>\n",
       "      <td>https://www.reddit.com/r/india/comments/g7ai96...</td>\n",
       "      <td>2</td>\n",
       "      <td>Non-Political</td>\n",
       "      <td>8</td>\n",
       "      <td>g7ai96</td>\n",
       "      <td>Difficult_Boat</td>\n",
       "      <td>On the occasion of the birthday of Dr Rajkumar...</td>\n",
       "      <td>2020-04-25 05:05:57</td>\n",
       "    </tr>\n",
       "    <tr>\n",
       "      <th>14</th>\n",
       "      <td>Mango season is coming ! (enjoy after lockdown)</td>\n",
       "      <td>https://i.redd.it/4ifcexlrbsu41.jpg</td>\n",
       "      <td>4</td>\n",
       "      <td>Food</td>\n",
       "      <td>4</td>\n",
       "      <td>g7agg0</td>\n",
       "      <td>jprbruce</td>\n",
       "      <td>na</td>\n",
       "      <td>2020-04-25 05:03:08</td>\n",
       "    </tr>\n",
       "    <tr>\n",
       "      <th>15</th>\n",
       "      <td>The mystery behind India's lower death rates d...</td>\n",
       "      <td>https://www.livemint.com/news/india/india-s-lo...</td>\n",
       "      <td>7</td>\n",
       "      <td>Coronavirus</td>\n",
       "      <td>5</td>\n",
       "      <td>g7abg6</td>\n",
       "      <td>adamkhormemna</td>\n",
       "      <td>na</td>\n",
       "      <td>2020-04-25 04:55:08</td>\n",
       "    </tr>\n",
       "    <tr>\n",
       "      <th>16</th>\n",
       "      <td>My Mother Needs HCQS tablets</td>\n",
       "      <td>https://www.reddit.com/r/india/comments/g7a5zk...</td>\n",
       "      <td>7</td>\n",
       "      <td>Non-Political</td>\n",
       "      <td>8</td>\n",
       "      <td>g7a5zk</td>\n",
       "      <td>FuckReddit682</td>\n",
       "      <td>So, the story goes like this - I live in a rur...</td>\n",
       "      <td>2020-04-25 04:46:41</td>\n",
       "    </tr>\n",
       "    <tr>\n",
       "      <th>17</th>\n",
       "      <td>Half-Indian: How do I reconnect with India ?</td>\n",
       "      <td>https://www.reddit.com/r/india/comments/g7a52v...</td>\n",
       "      <td>6</td>\n",
       "      <td>AskIndia</td>\n",
       "      <td>3</td>\n",
       "      <td>g7a52v</td>\n",
       "      <td>franckdemda</td>\n",
       "      <td>Hi fellow redditors,\\n\\nI'm a 28 young man fro...</td>\n",
       "      <td>2020-04-25 04:45:09</td>\n",
       "    </tr>\n",
       "    <tr>\n",
       "      <th>18</th>\n",
       "      <td>A second wave of Corona is inevitable, regardl...</td>\n",
       "      <td>https://www.reddit.com/r/india/comments/g79yp1...</td>\n",
       "      <td>1</td>\n",
       "      <td>Coronavirus</td>\n",
       "      <td>4</td>\n",
       "      <td>g79yp1</td>\n",
       "      <td>DuckHitler</td>\n",
       "      <td>In my opinion, a second wave of Corona will fo...</td>\n",
       "      <td>2020-04-25 04:34:58</td>\n",
       "    </tr>\n",
       "    <tr>\n",
       "      <th>19</th>\n",
       "      <td>Tamil Nadu Police put lockdown violators in an...</td>\n",
       "      <td>https://twitter.com/ANI/status/125366227040992...</td>\n",
       "      <td>1</td>\n",
       "      <td>Coronavirus</td>\n",
       "      <td>2</td>\n",
       "      <td>g77qg5</td>\n",
       "      <td>MysteriousJello2</td>\n",
       "      <td>na</td>\n",
       "      <td>2020-04-25 02:14:51</td>\n",
       "    </tr>\n",
       "    <tr>\n",
       "      <th>20</th>\n",
       "      <td>Hi guys! What do you think is going to happen ...</td>\n",
       "      <td>https://www.reddit.com/r/india/comments/g783oh...</td>\n",
       "      <td>7</td>\n",
       "      <td>AskIndia</td>\n",
       "      <td>3</td>\n",
       "      <td>g783oh</td>\n",
       "      <td>AnodyneSoul</td>\n",
       "      <td>Hey! I had a few questions for you guys:\\n\\n1...</td>\n",
       "      <td>2020-04-25 02:40:22</td>\n",
       "    </tr>\n",
       "    <tr>\n",
       "      <th>21</th>\n",
       "      <td>Can agriculture consultants get pass to travel...</td>\n",
       "      <td>https://www.reddit.com/r/india/comments/g784rc...</td>\n",
       "      <td>2</td>\n",
       "      <td>AskIndia</td>\n",
       "      <td>1</td>\n",
       "      <td>g784rc</td>\n",
       "      <td>yesinoalive</td>\n",
       "      <td>My father is agriculture consultant (Maharasht...</td>\n",
       "      <td>2020-04-25 02:42:20</td>\n",
       "    </tr>\n",
       "    <tr>\n",
       "      <th>22</th>\n",
       "      <td>I am always trying to discover new music and a...</td>\n",
       "      <td>https://www.reddit.com/r/india/comments/g78cki...</td>\n",
       "      <td>5</td>\n",
       "      <td>AskIndia</td>\n",
       "      <td>1</td>\n",
       "      <td>g78cki</td>\n",
       "      <td>faby129</td>\n",
       "      <td>Even though I do have a soft spot for Bollywoo...</td>\n",
       "      <td>2020-04-25 02:56:57</td>\n",
       "    </tr>\n",
       "    <tr>\n",
       "      <th>23</th>\n",
       "      <td>I am getting robbed by magicbricks. What shoul...</td>\n",
       "      <td>https://www.reddit.com/r/india/comments/g79laj...</td>\n",
       "      <td>2</td>\n",
       "      <td>Business/Finance</td>\n",
       "      <td>9</td>\n",
       "      <td>g79laj</td>\n",
       "      <td>ScammedByMagic</td>\n",
       "      <td>Hello guys,  \\nI am very frustrated with Magic...</td>\n",
       "      <td>2020-04-25 04:13:35</td>\n",
       "    </tr>\n",
       "    <tr>\n",
       "      <th>24</th>\n",
       "      <td>Ramzan Mubarak to everyone!!</td>\n",
       "      <td>https://www.reddit.com/r/india/comments/g79nq5...</td>\n",
       "      <td>5</td>\n",
       "      <td>Non-Political</td>\n",
       "      <td>31</td>\n",
       "      <td>g79nq5</td>\n",
       "      <td>abbaadmasri</td>\n",
       "      <td>I would highly recommend everyone to cut down ...</td>\n",
       "      <td>2020-04-25 04:17:40</td>\n",
       "    </tr>\n",
       "    <tr>\n",
       "      <th>25</th>\n",
       "      <td>Weekly Coders, Hackers &amp; All Tech related thre...</td>\n",
       "      <td>https://www.reddit.com/r/india/comments/g79lxx...</td>\n",
       "      <td>0</td>\n",
       "      <td>Scheduled</td>\n",
       "      <td>0</td>\n",
       "      <td>g79lxx</td>\n",
       "      <td>avinassh</td>\n",
       "      <td>[Last week's issue - 03/04/2020](https://np.re...</td>\n",
       "      <td>2020-04-25 04:14:35</td>\n",
       "    </tr>\n",
       "    <tr>\n",
       "      <th>26</th>\n",
       "      <td>If there are any lawyers out there, please hel...</td>\n",
       "      <td>https://www.reddit.com/r/india/comments/g79jm9...</td>\n",
       "      <td>0</td>\n",
       "      <td>na</td>\n",
       "      <td>2</td>\n",
       "      <td>g79jm9</td>\n",
       "      <td>OldSchoolMonkey</td>\n",
       "      <td>The supreme court has dismissed a PIL last wee...</td>\n",
       "      <td>2020-04-25 04:10:58</td>\n",
       "    </tr>\n",
       "    <tr>\n",
       "      <th>27</th>\n",
       "      <td>UP to bring back 15 lac migrant workers back h...</td>\n",
       "      <td>https://m.timesofindia.com/india/up-to-bring-b...</td>\n",
       "      <td>3</td>\n",
       "      <td>Politics</td>\n",
       "      <td>3</td>\n",
       "      <td>g79hj7</td>\n",
       "      <td>BigBulkemails</td>\n",
       "      <td>na</td>\n",
       "      <td>2020-04-25 04:07:31</td>\n",
       "    </tr>\n",
       "    <tr>\n",
       "      <th>28</th>\n",
       "      <td>Greetings from Saudi Arabia. During this lock ...</td>\n",
       "      <td>https://i.redd.it/5b2bepewzru41.jpg</td>\n",
       "      <td>21</td>\n",
       "      <td>Food</td>\n",
       "      <td>242</td>\n",
       "      <td>g79auq</td>\n",
       "      <td>cynicsword</td>\n",
       "      <td>na</td>\n",
       "      <td>2020-04-25 03:56:35</td>\n",
       "    </tr>\n",
       "    <tr>\n",
       "      <th>29</th>\n",
       "      <td>Helping needy people in Coronavirus is great.....</td>\n",
       "      <td>https://www.reddit.com/r/india/comments/g799pf...</td>\n",
       "      <td>11</td>\n",
       "      <td>AskIndia</td>\n",
       "      <td>6</td>\n",
       "      <td>g799pf</td>\n",
       "      <td>Mountain_Rat</td>\n",
       "      <td>Saw on a news channel today a heart-wrenching ...</td>\n",
       "      <td>2020-04-25 03:54:40</td>\n",
       "    </tr>\n",
       "    <tr>\n",
       "      <th>...</th>\n",
       "      <td>...</td>\n",
       "      <td>...</td>\n",
       "      <td>...</td>\n",
       "      <td>...</td>\n",
       "      <td>...</td>\n",
       "      <td>...</td>\n",
       "      <td>...</td>\n",
       "      <td>...</td>\n",
       "      <td>...</td>\n",
       "    </tr>\n",
       "    <tr>\n",
       "      <th>9505</th>\n",
       "      <td>A 45-day-old becomes the youngest in India to ...</td>\n",
       "      <td>https://www.progwithzee.com/post/a-45-day-old-...</td>\n",
       "      <td>7</td>\n",
       "      <td>Coronavirus</td>\n",
       "      <td>135</td>\n",
       "      <td>g4smxd</td>\n",
       "      <td>xx_yariel_xx</td>\n",
       "      <td>na</td>\n",
       "      <td>2020-04-21 02:49:45</td>\n",
       "    </tr>\n",
       "    <tr>\n",
       "      <th>9506</th>\n",
       "      <td>5 out of 6 Covid positive cases today in Keral...</td>\n",
       "      <td>https://www.reddit.com/r/india/comments/g4si29...</td>\n",
       "      <td>6</td>\n",
       "      <td>Coronavirus</td>\n",
       "      <td>78</td>\n",
       "      <td>g4si29</td>\n",
       "      <td>india_ko_vanakkam</td>\n",
       "      <td>Most new +ve cases in Kerala are overseas retu...</td>\n",
       "      <td>2020-04-21 02:40:57</td>\n",
       "    </tr>\n",
       "    <tr>\n",
       "      <th>9507</th>\n",
       "      <td>TCS CEO says the business model is 20 years ol...</td>\n",
       "      <td>https://www.businessinsider.in/business/corpor...</td>\n",
       "      <td>39</td>\n",
       "      <td>na</td>\n",
       "      <td>117</td>\n",
       "      <td>g4sh1y</td>\n",
       "      <td>azemda</td>\n",
       "      <td>na</td>\n",
       "      <td>2020-04-21 02:39:10</td>\n",
       "    </tr>\n",
       "    <tr>\n",
       "      <th>9508</th>\n",
       "      <td>No communal angle in Palghar lynching case: Ud...</td>\n",
       "      <td>https://www.thehindu.com/news/cities/mumbai/no...</td>\n",
       "      <td>100</td>\n",
       "      <td>Politics</td>\n",
       "      <td>296</td>\n",
       "      <td>g4sgiu</td>\n",
       "      <td>Gameatro</td>\n",
       "      <td>na</td>\n",
       "      <td>2020-04-21 02:38:13</td>\n",
       "    </tr>\n",
       "    <tr>\n",
       "      <th>9509</th>\n",
       "      <td>Experts criticise India’s endorsement for use ...</td>\n",
       "      <td>https://m.economictimes.com/industry/healthcar...</td>\n",
       "      <td>2</td>\n",
       "      <td>Coronavirus</td>\n",
       "      <td>17</td>\n",
       "      <td>g4sew4</td>\n",
       "      <td>StorySpiral</td>\n",
       "      <td>na</td>\n",
       "      <td>2020-04-21 02:35:15</td>\n",
       "    </tr>\n",
       "    <tr>\n",
       "      <th>9510</th>\n",
       "      <td>Dr Bhagyaraj on violence around COVID-19 victi...</td>\n",
       "      <td>https://www.youtube.com/watch?v=7OrxO0Xz8z0</td>\n",
       "      <td>1</td>\n",
       "      <td>Coronavirus</td>\n",
       "      <td>12</td>\n",
       "      <td>g4sb0x</td>\n",
       "      <td>naveen_reloaded</td>\n",
       "      <td>na</td>\n",
       "      <td>2020-04-21 02:28:30</td>\n",
       "    </tr>\n",
       "    <tr>\n",
       "      <th>9511</th>\n",
       "      <td>Millions of internal migrant workers suffering...</td>\n",
       "      <td>http://www.wsws.org/en/articles/2020/04/20/ind...</td>\n",
       "      <td>0</td>\n",
       "      <td>Politics</td>\n",
       "      <td>7</td>\n",
       "      <td>g4s9a2</td>\n",
       "      <td>exgalactic</td>\n",
       "      <td>na</td>\n",
       "      <td>2020-04-21 02:25:12</td>\n",
       "    </tr>\n",
       "    <tr>\n",
       "      <th>9512</th>\n",
       "      <td>Is India Post still processing international m...</td>\n",
       "      <td>https://www.reddit.com/r/india/comments/g4s7yi...</td>\n",
       "      <td>5</td>\n",
       "      <td>AskIndia</td>\n",
       "      <td>15</td>\n",
       "      <td>g4s7yi</td>\n",
       "      <td>psychdome</td>\n",
       "      <td>Is the Indian postal system still accepting an...</td>\n",
       "      <td>2020-04-21 02:22:42</td>\n",
       "    </tr>\n",
       "    <tr>\n",
       "      <th>9513</th>\n",
       "      <td>IMA warns of ‘White Alert’, ‘Black Day’ over v...</td>\n",
       "      <td>https://www.hindustantimes.com/india-news/ima-...</td>\n",
       "      <td>4</td>\n",
       "      <td>Coronavirus</td>\n",
       "      <td>72</td>\n",
       "      <td>g4s630</td>\n",
       "      <td>naveen_reloaded</td>\n",
       "      <td>na</td>\n",
       "      <td>2020-04-21 02:19:08</td>\n",
       "    </tr>\n",
       "    <tr>\n",
       "      <th>9514</th>\n",
       "      <td>Over 100 people arrested, nothing communal in ...</td>\n",
       "      <td>https://timesofindia.indiatimes.com/city/mumba...</td>\n",
       "      <td>0</td>\n",
       "      <td>Coronavirus</td>\n",
       "      <td>15</td>\n",
       "      <td>g4s2cl</td>\n",
       "      <td>pitchwin</td>\n",
       "      <td>na</td>\n",
       "      <td>2020-04-21 02:11:44</td>\n",
       "    </tr>\n",
       "    <tr>\n",
       "      <th>9515</th>\n",
       "      <td>Video of currency notes in Indore falsely vira...</td>\n",
       "      <td>https://www.altnews.in/video-of-currency-notes...</td>\n",
       "      <td>1</td>\n",
       "      <td>Coronavirus</td>\n",
       "      <td>35</td>\n",
       "      <td>g4s09b</td>\n",
       "      <td>pitchwin</td>\n",
       "      <td>na</td>\n",
       "      <td>2020-04-21 02:07:35</td>\n",
       "    </tr>\n",
       "    <tr>\n",
       "      <th>9516</th>\n",
       "      <td>Understand the chronology in India: Let corona...</td>\n",
       "      <td>https://gulfnews.com/world/asia/india/understa...</td>\n",
       "      <td>3</td>\n",
       "      <td>Politics</td>\n",
       "      <td>19</td>\n",
       "      <td>g4rzea</td>\n",
       "      <td>suntanx_02-24</td>\n",
       "      <td>na</td>\n",
       "      <td>2020-04-21 02:05:55</td>\n",
       "    </tr>\n",
       "    <tr>\n",
       "      <th>9517</th>\n",
       "      <td>COVID-19 outbreak: Joblessness rate triples to...</td>\n",
       "      <td>https://www.deccanherald.com/business/business...</td>\n",
       "      <td>1</td>\n",
       "      <td>Policy/Economy</td>\n",
       "      <td>50</td>\n",
       "      <td>g4ruv2</td>\n",
       "      <td>hipporama</td>\n",
       "      <td>na</td>\n",
       "      <td>2020-04-21 01:56:24</td>\n",
       "    </tr>\n",
       "    <tr>\n",
       "      <th>9518</th>\n",
       "      <td>Vijay Mallya loses UK high court appeal, clock...</td>\n",
       "      <td>https://m.timesofindia.com/business/india-busi...</td>\n",
       "      <td>39</td>\n",
       "      <td>Non-Political</td>\n",
       "      <td>272</td>\n",
       "      <td>g4rt41</td>\n",
       "      <td>anurag_0</td>\n",
       "      <td>na</td>\n",
       "      <td>2020-04-21 01:52:46</td>\n",
       "    </tr>\n",
       "    <tr>\n",
       "      <th>9519</th>\n",
       "      <td>Covid-19: Delhi paid the price of markaz incid...</td>\n",
       "      <td>https://www.hindustantimes.com/delhi-news/covi...</td>\n",
       "      <td>8</td>\n",
       "      <td>Coronavirus</td>\n",
       "      <td>46</td>\n",
       "      <td>g4rjh1</td>\n",
       "      <td>DenseSpirit5</td>\n",
       "      <td>na</td>\n",
       "      <td>2020-04-21 01:32:30</td>\n",
       "    </tr>\n",
       "    <tr>\n",
       "      <th>9520</th>\n",
       "      <td>'Pray at home during Ramzan': Telangana announ...</td>\n",
       "      <td>https://www.thenewsminute.com/article/pray-hom...</td>\n",
       "      <td>15</td>\n",
       "      <td>Coronavirus</td>\n",
       "      <td>234</td>\n",
       "      <td>g4ril3</td>\n",
       "      <td>DenseSpirit5</td>\n",
       "      <td>na</td>\n",
       "      <td>2020-04-21 01:30:48</td>\n",
       "    </tr>\n",
       "    <tr>\n",
       "      <th>9521</th>\n",
       "      <td>Muslim Lifestyle Bloggers Are Fed Up With The ...</td>\n",
       "      <td>https://www.huffingtonpost.in/entry/muslim-lif...</td>\n",
       "      <td>2</td>\n",
       "      <td>Politics</td>\n",
       "      <td>6</td>\n",
       "      <td>g4rh6c</td>\n",
       "      <td>Easy_Republic</td>\n",
       "      <td>na</td>\n",
       "      <td>2020-04-21 01:28:02</td>\n",
       "    </tr>\n",
       "    <tr>\n",
       "      <th>9522</th>\n",
       "      <td>Opinion | There is a reason the rest of India ...</td>\n",
       "      <td>https://www.livemint.com/opinion/columns/there...</td>\n",
       "      <td>10</td>\n",
       "      <td>Policy/Economy</td>\n",
       "      <td>29</td>\n",
       "      <td>g4rggi</td>\n",
       "      <td>AncientInsect</td>\n",
       "      <td>na</td>\n",
       "      <td>2020-04-21 01:26:32</td>\n",
       "    </tr>\n",
       "    <tr>\n",
       "      <th>9523</th>\n",
       "      <td>Covid-19: Over 50 journalists in Mumbai test p...</td>\n",
       "      <td>https://scroll.in/latest/959732/covid-19-over-...</td>\n",
       "      <td>0</td>\n",
       "      <td>Coronavirus</td>\n",
       "      <td>116</td>\n",
       "      <td>g4rg8l</td>\n",
       "      <td>DenseSpirit5</td>\n",
       "      <td>na</td>\n",
       "      <td>2020-04-21 01:26:03</td>\n",
       "    </tr>\n",
       "    <tr>\n",
       "      <th>9524</th>\n",
       "      <td>Kashmiri woman photojournalist booked over ‘an...</td>\n",
       "      <td>https://www.theweek.in/news/india/2020/04/20/k...</td>\n",
       "      <td>1</td>\n",
       "      <td>Politics</td>\n",
       "      <td>26</td>\n",
       "      <td>g4rdvu</td>\n",
       "      <td>lachrymator2019</td>\n",
       "      <td>na</td>\n",
       "      <td>2020-04-21 01:20:56</td>\n",
       "    </tr>\n",
       "    <tr>\n",
       "      <th>9525</th>\n",
       "      <td>‘Prima Facie No Case of Sedition’: K’taka HC o...</td>\n",
       "      <td>https://www.thequint.com/news/india/prima-faci...</td>\n",
       "      <td>4</td>\n",
       "      <td>Non-Political</td>\n",
       "      <td>91</td>\n",
       "      <td>g4rdrb</td>\n",
       "      <td>The_andh_bhakth</td>\n",
       "      <td>na</td>\n",
       "      <td>2020-04-21 01:20:41</td>\n",
       "    </tr>\n",
       "    <tr>\n",
       "      <th>9526</th>\n",
       "      <td>In Chennai, doctor’s burial marred by protests...</td>\n",
       "      <td>https://www.thehindu.com/news/cities/chennai/i...</td>\n",
       "      <td>1</td>\n",
       "      <td>Coronavirus</td>\n",
       "      <td>15</td>\n",
       "      <td>g4r95q</td>\n",
       "      <td>-The-Bat-</td>\n",
       "      <td>na</td>\n",
       "      <td>2020-04-21 01:11:02</td>\n",
       "    </tr>\n",
       "    <tr>\n",
       "      <th>9527</th>\n",
       "      <td>Sunrise #2 - Fatehgarh Sahib, Punjab - OnePlus...</td>\n",
       "      <td>https://i.redd.it/lk54kubalyt41.jpg</td>\n",
       "      <td>7</td>\n",
       "      <td>Photography</td>\n",
       "      <td>64</td>\n",
       "      <td>g4r5dd</td>\n",
       "      <td>MrQuakeLoL</td>\n",
       "      <td>na</td>\n",
       "      <td>2020-04-21 01:03:04</td>\n",
       "    </tr>\n",
       "    <tr>\n",
       "      <th>9528</th>\n",
       "      <td>Mumbai's Iconic Ramzan Food Market to be Off M...</td>\n",
       "      <td>https://www.news18.com/news/buzz/mumbais-iconi...</td>\n",
       "      <td>2</td>\n",
       "      <td>Coronavirus</td>\n",
       "      <td>37</td>\n",
       "      <td>g4r2ns</td>\n",
       "      <td>KeeshaRuffing</td>\n",
       "      <td>na</td>\n",
       "      <td>2020-04-21 00:57:14</td>\n",
       "    </tr>\n",
       "    <tr>\n",
       "      <th>9529</th>\n",
       "      <td>Delhi doctor found hanging, family alleges ext...</td>\n",
       "      <td>https://www.hindustantimes.com/delhi-news/deol...</td>\n",
       "      <td>5</td>\n",
       "      <td>Non-Political</td>\n",
       "      <td>99</td>\n",
       "      <td>g4r0xv</td>\n",
       "      <td>UnluckyProfessional8</td>\n",
       "      <td>na</td>\n",
       "      <td>2020-04-21 00:53:29</td>\n",
       "    </tr>\n",
       "    <tr>\n",
       "      <th>9530</th>\n",
       "      <td>[Story]Please don't wait too long to tell your...</td>\n",
       "      <td>https://www.reddit.com/r/india/comments/g4r0tg...</td>\n",
       "      <td>97</td>\n",
       "      <td>Non-Political</td>\n",
       "      <td>157</td>\n",
       "      <td>g4r0tg</td>\n",
       "      <td>Kek567890</td>\n",
       "      <td>I have been talking to this doctor girl for 2 ...</td>\n",
       "      <td>2020-04-21 00:53:15</td>\n",
       "    </tr>\n",
       "    <tr>\n",
       "      <th>9531</th>\n",
       "      <td>After arranging food for family by selling his...</td>\n",
       "      <td>https://www.timesnownews.com/mirror-now/crime/...</td>\n",
       "      <td>36</td>\n",
       "      <td>Non-Political</td>\n",
       "      <td>198</td>\n",
       "      <td>g4qwap</td>\n",
       "      <td>Shellynoire</td>\n",
       "      <td>na</td>\n",
       "      <td>2020-04-21 00:43:41</td>\n",
       "    </tr>\n",
       "    <tr>\n",
       "      <th>9532</th>\n",
       "      <td>Out of money, 6 foreigners make home inside ca...</td>\n",
       "      <td>https://www.hindustantimes.com/india-news/out-...</td>\n",
       "      <td>18</td>\n",
       "      <td>Coronavirus</td>\n",
       "      <td>157</td>\n",
       "      <td>g4qvfx</td>\n",
       "      <td>GL4389</td>\n",
       "      <td>na</td>\n",
       "      <td>2020-04-21 00:41:49</td>\n",
       "    </tr>\n",
       "    <tr>\n",
       "      <th>9533</th>\n",
       "      <td>China says India's new FDI rules violate WTO p...</td>\n",
       "      <td>https://www.moneycontrol.com/news/business/eco...</td>\n",
       "      <td>3</td>\n",
       "      <td>Policy/Economy</td>\n",
       "      <td>13</td>\n",
       "      <td>g4qvew</td>\n",
       "      <td>Johari82</td>\n",
       "      <td>na</td>\n",
       "      <td>2020-04-21 00:41:46</td>\n",
       "    </tr>\n",
       "    <tr>\n",
       "      <th>9534</th>\n",
       "      <td>Chennai Locals Pelt Stones at Ambulance Carryi...</td>\n",
       "      <td>https://www.news18.com/news/india/chennai-loca...</td>\n",
       "      <td>5</td>\n",
       "      <td>Coronavirus</td>\n",
       "      <td>16</td>\n",
       "      <td>g4qqg7</td>\n",
       "      <td>Mastizaada</td>\n",
       "      <td>na</td>\n",
       "      <td>2020-04-21 00:31:11</td>\n",
       "    </tr>\n",
       "  </tbody>\n",
       "</table>\n",
       "<p>9535 rows × 9 columns</p>\n",
       "</div>"
      ],
      "text/plain": [
       "                                                  title  \\\n",
       "0     Hangpan Dada Bridge inaugurations: Arunachal C...   \n",
       "1     While a so called 'Journalist' cries about an ...   \n",
       "2     High Risk Individual Categorization, Review 1 ...   \n",
       "3                                 Reliable news sources   \n",
       "4     Imran khan says Indian captian was scared duri...   \n",
       "5                     Covid19 hit me. I just got fired.   \n",
       "6     Astronaut Scott Kelly offers Coronavirus lockd...   \n",
       "7     My experience attending a protest for the firs...   \n",
       "8     6 Muslim families in Jind district convert to ...   \n",
       "9     '27 Down' is one of the finest films you will ...   \n",
       "10                Late Night Random Discussion Thread !   \n",
       "11    Former IAS officer Kannan Gopinathan booked fo...   \n",
       "12    Chilli Garlic Hakka Noodle Veg Chilli Garlic N...   \n",
       "13                        Dr Rajkumar Appreciation Post   \n",
       "14      Mango season is coming ! (enjoy after lockdown)   \n",
       "15    The mystery behind India's lower death rates d...   \n",
       "16                         My Mother Needs HCQS tablets   \n",
       "17         Half-Indian: How do I reconnect with India ?   \n",
       "18    A second wave of Corona is inevitable, regardl...   \n",
       "19    Tamil Nadu Police put lockdown violators in an...   \n",
       "20    Hi guys! What do you think is going to happen ...   \n",
       "21    Can agriculture consultants get pass to travel...   \n",
       "22    I am always trying to discover new music and a...   \n",
       "23    I am getting robbed by magicbricks. What shoul...   \n",
       "24                         Ramzan Mubarak to everyone!!   \n",
       "25    Weekly Coders, Hackers & All Tech related thre...   \n",
       "26    If there are any lawyers out there, please hel...   \n",
       "27    UP to bring back 15 lac migrant workers back h...   \n",
       "28    Greetings from Saudi Arabia. During this lock ...   \n",
       "29    Helping needy people in Coronavirus is great.....   \n",
       "...                                                 ...   \n",
       "9505  A 45-day-old becomes the youngest in India to ...   \n",
       "9506  5 out of 6 Covid positive cases today in Keral...   \n",
       "9507  TCS CEO says the business model is 20 years ol...   \n",
       "9508  No communal angle in Palghar lynching case: Ud...   \n",
       "9509  Experts criticise India’s endorsement for use ...   \n",
       "9510  Dr Bhagyaraj on violence around COVID-19 victi...   \n",
       "9511  Millions of internal migrant workers suffering...   \n",
       "9512  Is India Post still processing international m...   \n",
       "9513  IMA warns of ‘White Alert’, ‘Black Day’ over v...   \n",
       "9514  Over 100 people arrested, nothing communal in ...   \n",
       "9515  Video of currency notes in Indore falsely vira...   \n",
       "9516  Understand the chronology in India: Let corona...   \n",
       "9517  COVID-19 outbreak: Joblessness rate triples to...   \n",
       "9518  Vijay Mallya loses UK high court appeal, clock...   \n",
       "9519  Covid-19: Delhi paid the price of markaz incid...   \n",
       "9520  'Pray at home during Ramzan': Telangana announ...   \n",
       "9521  Muslim Lifestyle Bloggers Are Fed Up With The ...   \n",
       "9522  Opinion | There is a reason the rest of India ...   \n",
       "9523  Covid-19: Over 50 journalists in Mumbai test p...   \n",
       "9524  Kashmiri woman photojournalist booked over ‘an...   \n",
       "9525  ‘Prima Facie No Case of Sedition’: K’taka HC o...   \n",
       "9526  In Chennai, doctor’s burial marred by protests...   \n",
       "9527  Sunrise #2 - Fatehgarh Sahib, Punjab - OnePlus...   \n",
       "9528  Mumbai's Iconic Ramzan Food Market to be Off M...   \n",
       "9529  Delhi doctor found hanging, family alleges ext...   \n",
       "9530  [Story]Please don't wait too long to tell your...   \n",
       "9531  After arranging food for family by selling his...   \n",
       "9532  Out of money, 6 foreigners make home inside ca...   \n",
       "9533  China says India's new FDI rules violate WTO p...   \n",
       "9534  Chennai Locals Pelt Stones at Ambulance Carryi...   \n",
       "\n",
       "                                                    url  comms_num  \\\n",
       "0     https://economictimes.indiatimes.com/news/poli...          1   \n",
       "1                          https://youtu.be/Km2S9N1FgRM          0   \n",
       "2                          https://youtu.be/61WfsMaSFj4          0   \n",
       "3     https://www.reddit.com/r/india/comments/g7b6i0...          5   \n",
       "4                          https://youtu.be/NF9ya6Od-ew          2   \n",
       "5     https://www.reddit.com/r/india/comments/g7b3un...          7   \n",
       "6     https://thenewsspan.in/astronaut-scott-kelly-o...          0   \n",
       "7     https://www.reddit.com/r/india/comments/g7awra...          5   \n",
       "8     https://timesofindia.indiatimes.com/city/chand...          1   \n",
       "9                   https://i.redd.it/kjogn67gfsu41.jpg          2   \n",
       "10    https://www.reddit.com/r/india/comments/g7aoab...          4   \n",
       "11    https://scroll.in/latest/960166/former-ias-off...         11   \n",
       "12          https://www.youtube.com/watch?v=5MiNLGwpY5Q          0   \n",
       "13    https://www.reddit.com/r/india/comments/g7ai96...          2   \n",
       "14                  https://i.redd.it/4ifcexlrbsu41.jpg          4   \n",
       "15    https://www.livemint.com/news/india/india-s-lo...          7   \n",
       "16    https://www.reddit.com/r/india/comments/g7a5zk...          7   \n",
       "17    https://www.reddit.com/r/india/comments/g7a52v...          6   \n",
       "18    https://www.reddit.com/r/india/comments/g79yp1...          1   \n",
       "19    https://twitter.com/ANI/status/125366227040992...          1   \n",
       "20    https://www.reddit.com/r/india/comments/g783oh...          7   \n",
       "21    https://www.reddit.com/r/india/comments/g784rc...          2   \n",
       "22    https://www.reddit.com/r/india/comments/g78cki...          5   \n",
       "23    https://www.reddit.com/r/india/comments/g79laj...          2   \n",
       "24    https://www.reddit.com/r/india/comments/g79nq5...          5   \n",
       "25    https://www.reddit.com/r/india/comments/g79lxx...          0   \n",
       "26    https://www.reddit.com/r/india/comments/g79jm9...          0   \n",
       "27    https://m.timesofindia.com/india/up-to-bring-b...          3   \n",
       "28                  https://i.redd.it/5b2bepewzru41.jpg         21   \n",
       "29    https://www.reddit.com/r/india/comments/g799pf...         11   \n",
       "...                                                 ...        ...   \n",
       "9505  https://www.progwithzee.com/post/a-45-day-old-...          7   \n",
       "9506  https://www.reddit.com/r/india/comments/g4si29...          6   \n",
       "9507  https://www.businessinsider.in/business/corpor...         39   \n",
       "9508  https://www.thehindu.com/news/cities/mumbai/no...        100   \n",
       "9509  https://m.economictimes.com/industry/healthcar...          2   \n",
       "9510        https://www.youtube.com/watch?v=7OrxO0Xz8z0          1   \n",
       "9511  http://www.wsws.org/en/articles/2020/04/20/ind...          0   \n",
       "9512  https://www.reddit.com/r/india/comments/g4s7yi...          5   \n",
       "9513  https://www.hindustantimes.com/india-news/ima-...          4   \n",
       "9514  https://timesofindia.indiatimes.com/city/mumba...          0   \n",
       "9515  https://www.altnews.in/video-of-currency-notes...          1   \n",
       "9516  https://gulfnews.com/world/asia/india/understa...          3   \n",
       "9517  https://www.deccanherald.com/business/business...          1   \n",
       "9518  https://m.timesofindia.com/business/india-busi...         39   \n",
       "9519  https://www.hindustantimes.com/delhi-news/covi...          8   \n",
       "9520  https://www.thenewsminute.com/article/pray-hom...         15   \n",
       "9521  https://www.huffingtonpost.in/entry/muslim-lif...          2   \n",
       "9522  https://www.livemint.com/opinion/columns/there...         10   \n",
       "9523  https://scroll.in/latest/959732/covid-19-over-...          0   \n",
       "9524  https://www.theweek.in/news/india/2020/04/20/k...          1   \n",
       "9525  https://www.thequint.com/news/india/prima-faci...          4   \n",
       "9526  https://www.thehindu.com/news/cities/chennai/i...          1   \n",
       "9527                https://i.redd.it/lk54kubalyt41.jpg          7   \n",
       "9528  https://www.news18.com/news/buzz/mumbais-iconi...          2   \n",
       "9529  https://www.hindustantimes.com/delhi-news/deol...          5   \n",
       "9530  https://www.reddit.com/r/india/comments/g4r0tg...         97   \n",
       "9531  https://www.timesnownews.com/mirror-now/crime/...         36   \n",
       "9532  https://www.hindustantimes.com/india-news/out-...         18   \n",
       "9533  https://www.moneycontrol.com/news/business/eco...          3   \n",
       "9534  https://www.news18.com/news/india/chennai-loca...          5   \n",
       "\n",
       "                 flair  score      id                author  \\\n",
       "0        Non-Political      1  g7bkgs           AryanPandey   \n",
       "1             Politics      2  g7bk1p          Saap_ka_Baap   \n",
       "2          Coronavirus      0  g7bf5p       opinions_matter   \n",
       "3        Non-Political      0  g7b6i0        domainusername   \n",
       "4               Sports      0  g7b5bg          knighthell87   \n",
       "5          Coronavirus      6  g7b3un            bhootbilli   \n",
       "6          Coronavirus      1  g7b05h           Snehashis09   \n",
       "7          CAA-NRC-NPR      8  g7awra            DuckHitler   \n",
       "8        Non-Political      0  g7avvj      aguyfrominternet   \n",
       "9        Non-Political      3  g7atrl            SilasNashh   \n",
       "10           Scheduled      2  g7aoab             oxythebot   \n",
       "11            Politics     16  g7akzh           sudden_dust   \n",
       "12                Food      0  g7ajd4             nkchokshi   \n",
       "13       Non-Political      8  g7ai96        Difficult_Boat   \n",
       "14                Food      4  g7agg0              jprbruce   \n",
       "15         Coronavirus      5  g7abg6         adamkhormemna   \n",
       "16       Non-Political      8  g7a5zk         FuckReddit682   \n",
       "17            AskIndia      3  g7a52v           franckdemda   \n",
       "18         Coronavirus      4  g79yp1            DuckHitler   \n",
       "19         Coronavirus      2  g77qg5      MysteriousJello2   \n",
       "20            AskIndia      3  g783oh           AnodyneSoul   \n",
       "21            AskIndia      1  g784rc           yesinoalive   \n",
       "22            AskIndia      1  g78cki               faby129   \n",
       "23    Business/Finance      9  g79laj        ScammedByMagic   \n",
       "24       Non-Political     31  g79nq5           abbaadmasri   \n",
       "25           Scheduled      0  g79lxx              avinassh   \n",
       "26                  na      2  g79jm9       OldSchoolMonkey   \n",
       "27            Politics      3  g79hj7         BigBulkemails   \n",
       "28                Food    242  g79auq            cynicsword   \n",
       "29            AskIndia      6  g799pf          Mountain_Rat   \n",
       "...                ...    ...     ...                   ...   \n",
       "9505       Coronavirus    135  g4smxd          xx_yariel_xx   \n",
       "9506       Coronavirus     78  g4si29     india_ko_vanakkam   \n",
       "9507                na    117  g4sh1y                azemda   \n",
       "9508          Politics    296  g4sgiu              Gameatro   \n",
       "9509       Coronavirus     17  g4sew4           StorySpiral   \n",
       "9510       Coronavirus     12  g4sb0x       naveen_reloaded   \n",
       "9511          Politics      7  g4s9a2            exgalactic   \n",
       "9512          AskIndia     15  g4s7yi             psychdome   \n",
       "9513       Coronavirus     72  g4s630       naveen_reloaded   \n",
       "9514       Coronavirus     15  g4s2cl              pitchwin   \n",
       "9515       Coronavirus     35  g4s09b              pitchwin   \n",
       "9516          Politics     19  g4rzea         suntanx_02-24   \n",
       "9517    Policy/Economy     50  g4ruv2             hipporama   \n",
       "9518     Non-Political    272  g4rt41              anurag_0   \n",
       "9519       Coronavirus     46  g4rjh1          DenseSpirit5   \n",
       "9520       Coronavirus    234  g4ril3          DenseSpirit5   \n",
       "9521          Politics      6  g4rh6c         Easy_Republic   \n",
       "9522    Policy/Economy     29  g4rggi         AncientInsect   \n",
       "9523       Coronavirus    116  g4rg8l          DenseSpirit5   \n",
       "9524          Politics     26  g4rdvu       lachrymator2019   \n",
       "9525     Non-Political     91  g4rdrb       The_andh_bhakth   \n",
       "9526       Coronavirus     15  g4r95q             -The-Bat-   \n",
       "9527       Photography     64  g4r5dd            MrQuakeLoL   \n",
       "9528       Coronavirus     37  g4r2ns         KeeshaRuffing   \n",
       "9529     Non-Political     99  g4r0xv  UnluckyProfessional8   \n",
       "9530     Non-Political    157  g4r0tg             Kek567890   \n",
       "9531     Non-Political    198  g4qwap           Shellynoire   \n",
       "9532       Coronavirus    157  g4qvfx                GL4389   \n",
       "9533    Policy/Economy     13  g4qvew              Johari82   \n",
       "9534       Coronavirus     16  g4qqg7            Mastizaada   \n",
       "\n",
       "                                                   body           timestamp  \n",
       "0                                                    na 2020-04-25 06:04:34  \n",
       "1                                                    na 2020-04-25 06:03:57  \n",
       "2                                                    na 2020-04-25 05:56:33  \n",
       "3     What are some of the reliable sources to consu... 2020-04-25 05:43:11  \n",
       "4                                                    na 2020-04-25 05:41:25  \n",
       "5     Just one call. We are having trouble with mone... 2020-04-25 05:39:16  \n",
       "6                                                    na 2020-04-25 05:33:38  \n",
       "7     This was written by me a day after the protest... 2020-04-25 05:28:28  \n",
       "8                                                    na 2020-04-25 05:27:05  \n",
       "9                                                    na 2020-04-25 05:23:43  \n",
       "10    ^Beep ^Boop ^Bot, ^I ^am ^a ^bot! ^if ^any ^pr... 2020-04-25 05:15:10  \n",
       "11                                                   na 2020-04-25 05:10:17  \n",
       "12                                                   na 2020-04-25 05:07:44  \n",
       "13    On the occasion of the birthday of Dr Rajkumar... 2020-04-25 05:05:57  \n",
       "14                                                   na 2020-04-25 05:03:08  \n",
       "15                                                   na 2020-04-25 04:55:08  \n",
       "16    So, the story goes like this - I live in a rur... 2020-04-25 04:46:41  \n",
       "17    Hi fellow redditors,\\n\\nI'm a 28 young man fro... 2020-04-25 04:45:09  \n",
       "18    In my opinion, a second wave of Corona will fo... 2020-04-25 04:34:58  \n",
       "19                                                   na 2020-04-25 02:14:51  \n",
       "20     Hey! I had a few questions for you guys:\\n\\n1... 2020-04-25 02:40:22  \n",
       "21    My father is agriculture consultant (Maharasht... 2020-04-25 02:42:20  \n",
       "22    Even though I do have a soft spot for Bollywoo... 2020-04-25 02:56:57  \n",
       "23    Hello guys,  \\nI am very frustrated with Magic... 2020-04-25 04:13:35  \n",
       "24    I would highly recommend everyone to cut down ... 2020-04-25 04:17:40  \n",
       "25    [Last week's issue - 03/04/2020](https://np.re... 2020-04-25 04:14:35  \n",
       "26    The supreme court has dismissed a PIL last wee... 2020-04-25 04:10:58  \n",
       "27                                                   na 2020-04-25 04:07:31  \n",
       "28                                                   na 2020-04-25 03:56:35  \n",
       "29    Saw on a news channel today a heart-wrenching ... 2020-04-25 03:54:40  \n",
       "...                                                 ...                 ...  \n",
       "9505                                                 na 2020-04-21 02:49:45  \n",
       "9506  Most new +ve cases in Kerala are overseas retu... 2020-04-21 02:40:57  \n",
       "9507                                                 na 2020-04-21 02:39:10  \n",
       "9508                                                 na 2020-04-21 02:38:13  \n",
       "9509                                                 na 2020-04-21 02:35:15  \n",
       "9510                                                 na 2020-04-21 02:28:30  \n",
       "9511                                                 na 2020-04-21 02:25:12  \n",
       "9512  Is the Indian postal system still accepting an... 2020-04-21 02:22:42  \n",
       "9513                                                 na 2020-04-21 02:19:08  \n",
       "9514                                                 na 2020-04-21 02:11:44  \n",
       "9515                                                 na 2020-04-21 02:07:35  \n",
       "9516                                                 na 2020-04-21 02:05:55  \n",
       "9517                                                 na 2020-04-21 01:56:24  \n",
       "9518                                                 na 2020-04-21 01:52:46  \n",
       "9519                                                 na 2020-04-21 01:32:30  \n",
       "9520                                                 na 2020-04-21 01:30:48  \n",
       "9521                                                 na 2020-04-21 01:28:02  \n",
       "9522                                                 na 2020-04-21 01:26:32  \n",
       "9523                                                 na 2020-04-21 01:26:03  \n",
       "9524                                                 na 2020-04-21 01:20:56  \n",
       "9525                                                 na 2020-04-21 01:20:41  \n",
       "9526                                                 na 2020-04-21 01:11:02  \n",
       "9527                                                 na 2020-04-21 01:03:04  \n",
       "9528                                                 na 2020-04-21 00:57:14  \n",
       "9529                                                 na 2020-04-21 00:53:29  \n",
       "9530  I have been talking to this doctor girl for 2 ... 2020-04-21 00:53:15  \n",
       "9531                                                 na 2020-04-21 00:43:41  \n",
       "9532                                                 na 2020-04-21 00:41:49  \n",
       "9533                                                 na 2020-04-21 00:41:46  \n",
       "9534                                                 na 2020-04-21 00:31:11  \n",
       "\n",
       "[9535 rows x 9 columns]"
      ]
     },
     "execution_count": 20,
     "metadata": {},
     "output_type": "execute_result"
    }
   ],
   "source": [
    "data_df"
   ]
  },
  {
   "cell_type": "code",
   "execution_count": 21,
   "metadata": {},
   "outputs": [
    {
     "name": "stdout",
     "output_type": "stream",
     "text": [
      "title        0\n",
      "url          0\n",
      "comms_num    0\n",
      "flair        0\n",
      "score        0\n",
      "id           0\n",
      "author       0\n",
      "body         0\n",
      "timestamp    0\n",
      "dtype: int64\n"
     ]
    },
    {
     "data": {
      "text/plain": [
       "title        9535\n",
       "url          9535\n",
       "comms_num    9535\n",
       "flair        9535\n",
       "score        9535\n",
       "id           9535\n",
       "author       9535\n",
       "body         9535\n",
       "timestamp    9535\n",
       "dtype: int64"
      ]
     },
     "execution_count": 21,
     "metadata": {},
     "output_type": "execute_result"
    }
   ],
   "source": [
    "# Check how many null values in our dataframe\n",
    "print(data_df.isnull().sum())\n",
    "data_df.count()"
   ]
  },
  {
   "cell_type": "markdown",
   "metadata": {},
   "source": [
    "# Let's do some Text Preprocessing"
   ]
  },
  {
   "cell_type": "code",
   "execution_count": 22,
   "metadata": {},
   "outputs": [],
   "source": [
    "# Let's clean some texts\n",
    "# First we will replace some special characters\n",
    "# We will use python regex\n",
    "# And nltk STOPWORDS for removing commonly used word (such as “the”, “a”, “an”, “in”)\n",
    "# We also lower the text\n",
    "# We will use PorterStemming: The Porter stemming algorithm (or ‘Porter stemmer’) is a \n",
    "# process for removing the commoner morphological and inflexional endings from words in English.\n",
    "REPLACE_BY_SPACE = re.compile('[/(){}\\[\\]\\|@,;]')\n",
    "REPLACE_SYMBOL = re.compile('[^0-9a-z #+_]')\n",
    "STOPWORDS = set(stopwords.words('english'))"
   ]
  },
  {
   "cell_type": "code",
   "execution_count": 23,
   "metadata": {},
   "outputs": [],
   "source": [
    "# Let's define the function for cleaning\n",
    "def clean_data(text):\n",
    "    text = BeautifulSoup(text, \"lxml\").text\n",
    "    text = text.lower()\n",
    "    text = REPLACE_BY_SPACE.sub(' ', text)\n",
    "    text = REPLACE_SYMBOL.sub('', text)\n",
    "    text = ' '.join(word for word in text.split() if word not in STOPWORDS)\n",
    "    return text\n",
    "\n",
    "# Define string function\n",
    "def stringConvert(text):\n",
    "    return str(text)"
   ]
  },
  {
   "cell_type": "code",
   "execution_count": 24,
   "metadata": {},
   "outputs": [],
   "source": [
    "# -------------------------------------------\n",
    "# Let's apply the clean_data() to our features\n",
    "# I am considering following features\n",
    "# This will help us later on to test our model\n",
    "# --> Title\n",
    "# --> Body\n",
    "# --> Comments\n",
    "# -----------------------------------\n",
    "\n",
    "# Title\n",
    "data_df['title'] = data_df['title'].apply(stringConvert)\n",
    "data_df['title'] = data_df['title'].apply(clean_data)\n",
    "\n",
    "# Body\n",
    "data_df['body'] = data_df['body'].apply(stringConvert)\n",
    "data_df['body'] = data_df['body'].apply(clean_data)"
   ]
  },
  {
   "cell_type": "code",
   "execution_count": 25,
   "metadata": {},
   "outputs": [],
   "source": [
    "# Let's combine some features and add it to our dataframe\n",
    "# This will help us getting better insights into our model\n",
    "# We will use assign() method to assign \n",
    "# We will need to use join() method to insert multiple df\n",
    "\n",
    "# Title + Body + URL [tbu]\n",
    "feature_tbu = data_df['title'] + data_df['body'] + data_df['url']\n",
    "data_df = data_df.assign(feature_tbu=feature_tbu)"
   ]
  },
  {
   "cell_type": "code",
   "execution_count": 26,
   "metadata": {},
   "outputs": [
    {
     "data": {
      "text/plain": [
       "title                  object\n",
       "url                    object\n",
       "comms_num               int64\n",
       "flair                  object\n",
       "score                   int64\n",
       "id                     object\n",
       "author                 object\n",
       "body                   object\n",
       "timestamp      datetime64[ns]\n",
       "feature_tbu            object\n",
       "dtype: object"
      ]
     },
     "execution_count": 26,
     "metadata": {},
     "output_type": "execute_result"
    }
   ],
   "source": [
    "data_df.dtypes"
   ]
  },
  {
   "cell_type": "code",
   "execution_count": 27,
   "metadata": {},
   "outputs": [
    {
     "data": {
      "text/html": [
       "<div>\n",
       "<style scoped>\n",
       "    .dataframe tbody tr th:only-of-type {\n",
       "        vertical-align: middle;\n",
       "    }\n",
       "\n",
       "    .dataframe tbody tr th {\n",
       "        vertical-align: top;\n",
       "    }\n",
       "\n",
       "    .dataframe thead th {\n",
       "        text-align: right;\n",
       "    }\n",
       "</style>\n",
       "<table border=\"1\" class=\"dataframe\">\n",
       "  <thead>\n",
       "    <tr style=\"text-align: right;\">\n",
       "      <th></th>\n",
       "      <th>title</th>\n",
       "      <th>url</th>\n",
       "      <th>comms_num</th>\n",
       "      <th>flair</th>\n",
       "      <th>score</th>\n",
       "      <th>id</th>\n",
       "      <th>author</th>\n",
       "      <th>body</th>\n",
       "      <th>timestamp</th>\n",
       "      <th>feature_tbu</th>\n",
       "    </tr>\n",
       "  </thead>\n",
       "  <tbody>\n",
       "    <tr>\n",
       "      <th>0</th>\n",
       "      <td>hangpan dada bridge inaugurations arunachal cm...</td>\n",
       "      <td>https://economictimes.indiatimes.com/news/poli...</td>\n",
       "      <td>1</td>\n",
       "      <td>Non-Political</td>\n",
       "      <td>1</td>\n",
       "      <td>g7bkgs</td>\n",
       "      <td>AryanPandey</td>\n",
       "      <td>na</td>\n",
       "      <td>2020-04-25 06:04:34</td>\n",
       "      <td>hangpan dada bridge inaugurations arunachal cm...</td>\n",
       "    </tr>\n",
       "    <tr>\n",
       "      <th>1</th>\n",
       "      <td>called journalist cries attack never forget re...</td>\n",
       "      <td>https://youtu.be/Km2S9N1FgRM</td>\n",
       "      <td>0</td>\n",
       "      <td>Politics</td>\n",
       "      <td>2</td>\n",
       "      <td>g7bk1p</td>\n",
       "      <td>Saap_ka_Baap</td>\n",
       "      <td>na</td>\n",
       "      <td>2020-04-25 06:03:57</td>\n",
       "      <td>called journalist cries attack never forget re...</td>\n",
       "    </tr>\n",
       "    <tr>\n",
       "      <th>2</th>\n",
       "      <td>high risk individual categorization review 1 p...</td>\n",
       "      <td>https://youtu.be/61WfsMaSFj4</td>\n",
       "      <td>0</td>\n",
       "      <td>Coronavirus</td>\n",
       "      <td>0</td>\n",
       "      <td>g7bf5p</td>\n",
       "      <td>opinions_matter</td>\n",
       "      <td>na</td>\n",
       "      <td>2020-04-25 05:56:33</td>\n",
       "      <td>high risk individual categorization review 1 p...</td>\n",
       "    </tr>\n",
       "    <tr>\n",
       "      <th>3</th>\n",
       "      <td>reliable news sources</td>\n",
       "      <td>https://www.reddit.com/r/india/comments/g7b6i0...</td>\n",
       "      <td>5</td>\n",
       "      <td>Non-Political</td>\n",
       "      <td>0</td>\n",
       "      <td>g7b6i0</td>\n",
       "      <td>domainusername</td>\n",
       "      <td>reliable sources consume daily news india look...</td>\n",
       "      <td>2020-04-25 05:43:11</td>\n",
       "      <td>reliable news sourcesreliable sources consume ...</td>\n",
       "    </tr>\n",
       "    <tr>\n",
       "      <th>4</th>\n",
       "      <td>imran khan says indian captian scared tosses r...</td>\n",
       "      <td>https://youtu.be/NF9ya6Od-ew</td>\n",
       "      <td>2</td>\n",
       "      <td>Sports</td>\n",
       "      <td>0</td>\n",
       "      <td>g7b5bg</td>\n",
       "      <td>knighthell87</td>\n",
       "      <td>na</td>\n",
       "      <td>2020-04-25 05:41:25</td>\n",
       "      <td>imran khan says indian captian scared tosses r...</td>\n",
       "    </tr>\n",
       "  </tbody>\n",
       "</table>\n",
       "</div>"
      ],
      "text/plain": [
       "                                               title  \\\n",
       "0  hangpan dada bridge inaugurations arunachal cm...   \n",
       "1  called journalist cries attack never forget re...   \n",
       "2  high risk individual categorization review 1 p...   \n",
       "3                              reliable news sources   \n",
       "4  imran khan says indian captian scared tosses r...   \n",
       "\n",
       "                                                 url  comms_num  \\\n",
       "0  https://economictimes.indiatimes.com/news/poli...          1   \n",
       "1                       https://youtu.be/Km2S9N1FgRM          0   \n",
       "2                       https://youtu.be/61WfsMaSFj4          0   \n",
       "3  https://www.reddit.com/r/india/comments/g7b6i0...          5   \n",
       "4                       https://youtu.be/NF9ya6Od-ew          2   \n",
       "\n",
       "           flair  score      id           author  \\\n",
       "0  Non-Political      1  g7bkgs      AryanPandey   \n",
       "1       Politics      2  g7bk1p     Saap_ka_Baap   \n",
       "2    Coronavirus      0  g7bf5p  opinions_matter   \n",
       "3  Non-Political      0  g7b6i0   domainusername   \n",
       "4         Sports      0  g7b5bg     knighthell87   \n",
       "\n",
       "                                                body           timestamp  \\\n",
       "0                                                 na 2020-04-25 06:04:34   \n",
       "1                                                 na 2020-04-25 06:03:57   \n",
       "2                                                 na 2020-04-25 05:56:33   \n",
       "3  reliable sources consume daily news india look... 2020-04-25 05:43:11   \n",
       "4                                                 na 2020-04-25 05:41:25   \n",
       "\n",
       "                                         feature_tbu  \n",
       "0  hangpan dada bridge inaugurations arunachal cm...  \n",
       "1  called journalist cries attack never forget re...  \n",
       "2  high risk individual categorization review 1 p...  \n",
       "3  reliable news sourcesreliable sources consume ...  \n",
       "4  imran khan says indian captian scared tosses r...  "
      ]
     },
     "execution_count": 27,
     "metadata": {},
     "output_type": "execute_result"
    }
   ],
   "source": [
    "# Let's view our dataframe\n",
    "data_df.head()"
   ]
  },
  {
   "cell_type": "code",
   "execution_count": 28,
   "metadata": {},
   "outputs": [],
   "source": [
    "# We have done our cleaning of data\n",
    "# Now let's convert it to csv for later use\n",
    "data_df.to_csv('processedIndiafinal.csv', index=False)"
   ]
  },
  {
   "cell_type": "markdown",
   "metadata": {},
   "source": [
    "# Let's Plot some Graphs and Visualize"
   ]
  },
  {
   "cell_type": "code",
   "execution_count": 29,
   "metadata": {},
   "outputs": [
    {
     "data": {
      "text/plain": [
       "Text(0.5,1,'Flairs Distribution')"
      ]
     },
     "execution_count": 29,
     "metadata": {},
     "output_type": "execute_result"
    },
    {
     "data": {
      "image/png": "[encoded data removed]",
      "text/plain": [
       "<matplotlib.figure.Figure at 0x7f5579f9fa20>"
      ]
     },
     "metadata": {
      "needs_background": "light"
     },
     "output_type": "display_data"
    }
   ],
   "source": [
    "# Let's start with bar chart plotting each flair\n",
    "# We will use matplotlib for this\n",
    "\n",
    "data_df['flair'].value_counts().plot(kind='bar')\n",
    "plt.xlabel('Flairs')\n",
    "plt.ylabel('No of Posts')\n",
    "plt.title('Flairs Distribution')"
   ]
  },
  {
   "cell_type": "code",
   "execution_count": 30,
   "metadata": {},
   "outputs": [
    {
     "data": {
      "application/vnd.plotly.v1+json": {
       "config": {
        "linkText": "Export to plot.ly",
        "plotlyServerURL": "https://plot.ly",
        "showLink": true
       },
       "data": [
        {
         "marker": {
          "color": "rgba(255, 153, 51, 0.6)",
          "line": {
           "color": "rgba(255, 153, 51, 1.0)",
           "width": 1
          }
         },
         "name": "id",
         "orientation": "v",
         "text": "",
         "type": "bar",
         "x": [
          "AskIndia",
          "Business/Finance",
          "CAA-NRC-NPR",
          "Coronavirus",
          "Food",
          "Non-Political",
          "Photography",
          "Policy/Economy",
          "Politics",
          "Scheduled",
          "Science/Technology",
          "Sports",
          "TIL",
          "Unverified",
          "na"
         ],
         "y": [
          1355,
          468,
          44,
          3232,
          77,
          1419,
          99,
          754,
          1688,
          121,
          113,
          88,
          11,
          11,
          55
         ]
        }
       ],
       "layout": {
        "legend": {
         "bgcolor": "#F5F6F9",
         "font": {
          "color": "#4D5663"
         }
        },
        "paper_bgcolor": "#F5F6F9",
        "plot_bgcolor": "#F5F6F9",
        "template": {
         "data": {
          "bar": [
           {
            "error_x": {
             "color": "#2a3f5f"
            },
            "error_y": {
             "color": "#2a3f5f"
            },
            "marker": {
             "line": {
              "color": "#E5ECF6",
              "width": 0.5
             }
            },
            "type": "bar"
           }
          ],
          "barpolar": [
           {
            "marker": {
             "line": {
              "color": "#E5ECF6",
              "width": 0.5
             }
            },
            "type": "barpolar"
           }
          ],
          "carpet": [
           {
            "aaxis": {
             "endlinecolor": "#2a3f5f",
             "gridcolor": "white",
             "linecolor": "white",
             "minorgridcolor": "white",
             "startlinecolor": "#2a3f5f"
            },
            "baxis": {
             "endlinecolor": "#2a3f5f",
             "gridcolor": "white",
             "linecolor": "white",
             "minorgridcolor": "white",
             "startlinecolor": "#2a3f5f"
            },
            "type": "carpet"
           }
          ],
          "choropleth": [
           {
            "colorbar": {
             "outlinewidth": 0,
             "ticks": ""
            },
            "type": "choropleth"
           }
          ],
          "contour": [
           {
            "colorbar": {
             "outlinewidth": 0,
             "ticks": ""
            },
            "colorscale": [
             [
              0,
              "#0d0887"
             ],
             [
              0.1111111111111111,
              "#46039f"
             ],
             [
              0.2222222222222222,
              "#7201a8"
             ],
             [
              0.3333333333333333,
              "#9c179e"
             ],
             [
              0.4444444444444444,
              "#bd3786"
             ],
             [
              0.5555555555555556,
              "#d8576b"
             ],
             [
              0.6666666666666666,
              "#ed7953"
             ],
             [
              0.7777777777777778,
              "#fb9f3a"
             ],
             [
              0.8888888888888888,
              "#fdca26"
             ],
             [
              1,
              "#f0f921"
             ]
            ],
            "type": "contour"
           }
          ],
          "contourcarpet": [
           {
            "colorbar": {
             "outlinewidth": 0,
             "ticks": ""
            },
            "type": "contourcarpet"
           }
          ],
          "heatmap": [
           {
            "colorbar": {
             "outlinewidth": 0,
             "ticks": ""
            },
            "colorscale": [
             [
              0,
              "#0d0887"
             ],
             [
              0.1111111111111111,
              "#46039f"
             ],
             [
              0.2222222222222222,
              "#7201a8"
             ],
             [
              0.3333333333333333,
              "#9c179e"
             ],
             [
              0.4444444444444444,
              "#bd3786"
             ],
             [
              0.5555555555555556,
              "#d8576b"
             ],
             [
              0.6666666666666666,
              "#ed7953"
             ],
             [
              0.7777777777777778,
              "#fb9f3a"
             ],
             [
              0.8888888888888888,
              "#fdca26"
             ],
             [
              1,
              "#f0f921"
             ]
            ],
            "type": "heatmap"
           }
          ],
          "heatmapgl": [
           {
            "colorbar": {
             "outlinewidth": 0,
             "ticks": ""
            },
            "colorscale": [
             [
              0,
              "#0d0887"
             ],
             [
              0.1111111111111111,
              "#46039f"
             ],
             [
              0.2222222222222222,
              "#7201a8"
             ],
             [
              0.3333333333333333,
              "#9c179e"
             ],
             [
              0.4444444444444444,
              "#bd3786"
             ],
             [
              0.5555555555555556,
              "#d8576b"
             ],
             [
              0.6666666666666666,
              "#ed7953"
             ],
             [
              0.7777777777777778,
              "#fb9f3a"
             ],
             [
              0.8888888888888888,
              "#fdca26"
             ],
             [
              1,
              "#f0f921"
             ]
            ],
            "type": "heatmapgl"
           }
          ],
          "histogram": [
           {
            "marker": {
             "colorbar": {
              "outlinewidth": 0,
              "ticks": ""
             }
            },
            "type": "histogram"
           }
          ],
          "histogram2d": [
           {
            "colorbar": {
             "outlinewidth": 0,
             "ticks": ""
            },
            "colorscale": [
             [
              0,
              "#0d0887"
             ],
             [
              0.1111111111111111,
              "#46039f"
             ],
             [
              0.2222222222222222,
              "#7201a8"
             ],
             [
              0.3333333333333333,
              "#9c179e"
             ],
             [
              0.4444444444444444,
              "#bd3786"
             ],
             [
              0.5555555555555556,
              "#d8576b"
             ],
             [
              0.6666666666666666,
              "#ed7953"
             ],
             [
              0.7777777777777778,
              "#fb9f3a"
             ],
             [
              0.8888888888888888,
              "#fdca26"
             ],
             [
              1,
              "#f0f921"
             ]
            ],
            "type": "histogram2d"
           }
          ],
          "histogram2dcontour": [
           {
            "colorbar": {
             "outlinewidth": 0,
             "ticks": ""
            },
            "colorscale": [
             [
              0,
              "#0d0887"
             ],
             [
              0.1111111111111111,
              "#46039f"
             ],
             [
              0.2222222222222222,
              "#7201a8"
             ],
             [
              0.3333333333333333,
              "#9c179e"
             ],
             [
              0.4444444444444444,
              "#bd3786"
             ],
             [
              0.5555555555555556,
              "#d8576b"
             ],
             [
              0.6666666666666666,
              "#ed7953"
             ],
             [
              0.7777777777777778,
              "#fb9f3a"
             ],
             [
              0.8888888888888888,
              "#fdca26"
             ],
             [
              1,
              "#f0f921"
             ]
            ],
            "type": "histogram2dcontour"
           }
          ],
          "mesh3d": [
           {
            "colorbar": {
             "outlinewidth": 0,
             "ticks": ""
            },
            "type": "mesh3d"
           }
          ],
          "parcoords": [
           {
            "line": {
             "colorbar": {
              "outlinewidth": 0,
              "ticks": ""
             }
            },
            "type": "parcoords"
           }
          ],
          "pie": [
           {
            "automargin": true,
            "type": "pie"
           }
          ],
          "scatter": [
           {
            "marker": {
             "colorbar": {
              "outlinewidth": 0,
              "ticks": ""
             }
            },
            "type": "scatter"
           }
          ],
          "scatter3d": [
           {
            "line": {
             "colorbar": {
              "outlinewidth": 0,
              "ticks": ""
             }
            },
            "marker": {
             "colorbar": {
              "outlinewidth": 0,
              "ticks": ""
             }
            },
            "type": "scatter3d"
           }
          ],
          "scattercarpet": [
           {
            "marker": {
             "colorbar": {
              "outlinewidth": 0,
              "ticks": ""
             }
            },
            "type": "scattercarpet"
           }
          ],
          "scattergeo": [
           {
            "marker": {
             "colorbar": {
              "outlinewidth": 0,
              "ticks": ""
             }
            },
            "type": "scattergeo"
           }
          ],
          "scattergl": [
           {
            "marker": {
             "colorbar": {
              "outlinewidth": 0,
              "ticks": ""
             }
            },
            "type": "scattergl"
           }
          ],
          "scattermapbox": [
           {
            "marker": {
             "colorbar": {
              "outlinewidth": 0,
              "ticks": ""
             }
            },
            "type": "scattermapbox"
           }
          ],
          "scatterpolar": [
           {
            "marker": {
             "colorbar": {
              "outlinewidth": 0,
              "ticks": ""
             }
            },
            "type": "scatterpolar"
           }
          ],
          "scatterpolargl": [
           {
            "marker": {
             "colorbar": {
              "outlinewidth": 0,
              "ticks": ""
             }
            },
            "type": "scatterpolargl"
           }
          ],
          "scatterternary": [
           {
            "marker": {
             "colorbar": {
              "outlinewidth": 0,
              "ticks": ""
             }
            },
            "type": "scatterternary"
           }
          ],
          "surface": [
           {
            "colorbar": {
             "outlinewidth": 0,
             "ticks": ""
            },
            "colorscale": [
             [
              0,
              "#0d0887"
             ],
             [
              0.1111111111111111,
              "#46039f"
             ],
             [
              0.2222222222222222,
              "#7201a8"
             ],
             [
              0.3333333333333333,
              "#9c179e"
             ],
             [
              0.4444444444444444,
              "#bd3786"
             ],
             [
              0.5555555555555556,
              "#d8576b"
             ],
             [
              0.6666666666666666,
              "#ed7953"
             ],
             [
              0.7777777777777778,
              "#fb9f3a"
             ],
             [
              0.8888888888888888,
              "#fdca26"
             ],
             [
              1,
              "#f0f921"
             ]
            ],
            "type": "surface"
           }
          ],
          "table": [
           {
            "cells": {
             "fill": {
              "color": "#EBF0F8"
             },
             "line": {
              "color": "white"
             }
            },
            "header": {
             "fill": {
              "color": "#C8D4E3"
             },
             "line": {
              "color": "white"
             }
            },
            "type": "table"
           }
          ]
         },
         "layout": {
          "annotationdefaults": {
           "arrowcolor": "#2a3f5f",
           "arrowhead": 0,
           "arrowwidth": 1
          },
          "coloraxis": {
           "colorbar": {
            "outlinewidth": 0,
            "ticks": ""
           }
          },
          "colorscale": {
           "diverging": [
            [
             0,
             "#8e0152"
            ],
            [
             0.1,
             "#c51b7d"
            ],
            [
             0.2,
             "#de77ae"
            ],
            [
             0.3,
             "#f1b6da"
            ],
            [
             0.4,
             "#fde0ef"
            ],
            [
             0.5,
             "#f7f7f7"
            ],
            [
             0.6,
             "#e6f5d0"
            ],
            [
             0.7,
             "#b8e186"
            ],
            [
             0.8,
             "#7fbc41"
            ],
            [
             0.9,
             "#4d9221"
            ],
            [
             1,
             "#276419"
            ]
           ],
           "sequential": [
            [
             0,
             "#0d0887"
            ],
            [
             0.1111111111111111,
             "#46039f"
            ],
            [
             0.2222222222222222,
             "#7201a8"
            ],
            [
             0.3333333333333333,
             "#9c179e"
            ],
            [
             0.4444444444444444,
             "#bd3786"
            ],
            [
             0.5555555555555556,
             "#d8576b"
            ],
            [
             0.6666666666666666,
             "#ed7953"
            ],
            [
             0.7777777777777778,
             "#fb9f3a"
            ],
            [
             0.8888888888888888,
             "#fdca26"
            ],
            [
             1,
             "#f0f921"
            ]
           ],
           "sequentialminus": [
            [
             0,
             "#0d0887"
            ],
            [
             0.1111111111111111,
             "#46039f"
            ],
            [
             0.2222222222222222,
             "#7201a8"
            ],
            [
             0.3333333333333333,
             "#9c179e"
            ],
            [
             0.4444444444444444,
             "#bd3786"
            ],
            [
             0.5555555555555556,
             "#d8576b"
            ],
            [
             0.6666666666666666,
             "#ed7953"
            ],
            [
             0.7777777777777778,
             "#fb9f3a"
            ],
            [
             0.8888888888888888,
             "#fdca26"
            ],
            [
             1,
             "#f0f921"
            ]
           ]
          },
          "colorway": [
           "#636efa",
           "#EF553B",
           "#00cc96",
           "#ab63fa",
           "#FFA15A",
           "#19d3f3",
           "#FF6692",
           "#B6E880",
           "#FF97FF",
           "#FECB52"
          ],
          "font": {
           "color": "#2a3f5f"
          },
          "geo": {
           "bgcolor": "white",
           "lakecolor": "white",
           "landcolor": "#E5ECF6",
           "showlakes": true,
           "showland": true,
           "subunitcolor": "white"
          },
          "hoverlabel": {
           "align": "left"
          },
          "hovermode": "closest",
          "mapbox": {
           "style": "light"
          },
          "paper_bgcolor": "white",
          "plot_bgcolor": "#E5ECF6",
          "polar": {
           "angularaxis": {
            "gridcolor": "white",
            "linecolor": "white",
            "ticks": ""
           },
           "bgcolor": "#E5ECF6",
           "radialaxis": {
            "gridcolor": "white",
            "linecolor": "white",
            "ticks": ""
           }
          },
          "scene": {
           "xaxis": {
            "backgroundcolor": "#E5ECF6",
            "gridcolor": "white",
            "gridwidth": 2,
            "linecolor": "white",
            "showbackground": true,
            "ticks": "",
            "zerolinecolor": "white"
           },
           "yaxis": {
            "backgroundcolor": "#E5ECF6",
            "gridcolor": "white",
            "gridwidth": 2,
            "linecolor": "white",
            "showbackground": true,
            "ticks": "",
            "zerolinecolor": "white"
           },
           "zaxis": {
            "backgroundcolor": "#E5ECF6",
            "gridcolor": "white",
            "gridwidth": 2,
            "linecolor": "white",
            "showbackground": true,
            "ticks": "",
            "zerolinecolor": "white"
           }
          },
          "shapedefaults": {
           "line": {
            "color": "#2a3f5f"
           }
          },
          "ternary": {
           "aaxis": {
            "gridcolor": "white",
            "linecolor": "white",
            "ticks": ""
           },
           "baxis": {
            "gridcolor": "white",
            "linecolor": "white",
            "ticks": ""
           },
           "bgcolor": "#E5ECF6",
           "caxis": {
            "gridcolor": "white",
            "linecolor": "white",
            "ticks": ""
           }
          },
          "title": {
           "x": 0.05
          },
          "xaxis": {
           "automargin": true,
           "gridcolor": "white",
           "linecolor": "white",
           "ticks": "",
           "title": {
            "standoff": 15
           },
           "zerolinecolor": "white",
           "zerolinewidth": 2
          },
          "yaxis": {
           "automargin": true,
           "gridcolor": "white",
           "linecolor": "white",
           "ticks": "",
           "title": {
            "standoff": 15
           },
           "zerolinecolor": "white",
           "zerolinewidth": 2
          }
         }
        },
        "title": {
         "font": {
          "color": "#4D5663"
         },
         "text": "Flairs Distribution"
        },
        "xaxis": {
         "gridcolor": "#E1E5ED",
         "linecolor": "black",
         "showgrid": true,
         "tickfont": {
          "color": "#4D5663"
         },
         "title": {
          "font": {
           "color": "#4D5663"
          },
          "text": "Flairs"
         },
         "zerolinecolor": "#E1E5ED"
        },
        "yaxis": {
         "gridcolor": "#E1E5ED",
         "linecolor": "black",
         "showgrid": true,
         "tickfont": {
          "color": "#4D5663"
         },
         "title": {
          "font": {
           "color": "#4D5663"
          },
          "text": "No of Posts"
         },
         "zerolinecolor": "#E1E5ED"
        }
       }
      },
      "text/html": [
       "<div>\n",
       "        \n",
       "        \n",
       "            <div id=\"d94545bc-4ed4-44e3-9236-a68fa233f4c9\" class=\"plotly-graph-div\" style=\"height:525px; width:100%;\"></div>\n",
       "            <script type=\"text/javascript\">\n",
       "                require([\"plotly\"], function(Plotly) {\n",
       "                    window.PLOTLYENV=window.PLOTLYENV || {};\n",
       "                    window.PLOTLYENV.BASE_URL='https://plot.ly';\n",
       "                    \n",
       "                if (document.getElementById(\"d94545bc-4ed4-44e3-9236-a68fa233f4c9\")) {\n",
       "                    Plotly.newPlot(\n",
       "                        'd94545bc-4ed4-44e3-9236-a68fa233f4c9',\n",
       "                        [{\"marker\": {\"color\": \"rgba(255, 153, 51, 0.6)\", \"line\": {\"color\": \"rgba(255, 153, 51, 1.0)\", \"width\": 1}}, \"name\": \"id\", \"orientation\": \"v\", \"text\": \"\", \"type\": \"bar\", \"x\": [\"AskIndia\", \"Business/Finance\", \"CAA-NRC-NPR\", \"Coronavirus\", \"Food\", \"Non-Political\", \"Photography\", \"Policy/Economy\", \"Politics\", \"Scheduled\", \"Science/Technology\", \"Sports\", \"TIL\", \"Unverified\", \"na\"], \"y\": [1355, 468, 44, 3232, 77, 1419, 99, 754, 1688, 121, 113, 88, 11, 11, 55]}],\n",
       "                        {\"legend\": {\"bgcolor\": \"#F5F6F9\", \"font\": {\"color\": \"#4D5663\"}}, \"paper_bgcolor\": \"#F5F6F9\", \"plot_bgcolor\": \"#F5F6F9\", \"template\": {\"data\": {\"bar\": [{\"error_x\": {\"color\": \"#2a3f5f\"}, \"error_y\": {\"color\": \"#2a3f5f\"}, \"marker\": {\"line\": {\"color\": \"#E5ECF6\", \"width\": 0.5}}, \"type\": \"bar\"}], \"barpolar\": [{\"marker\": {\"line\": {\"color\": \"#E5ECF6\", \"width\": 0.5}}, \"type\": \"barpolar\"}], \"carpet\": [{\"aaxis\": {\"endlinecolor\": \"#2a3f5f\", \"gridcolor\": \"white\", \"linecolor\": \"white\", \"minorgridcolor\": \"white\", \"startlinecolor\": \"#2a3f5f\"}, \"baxis\": {\"endlinecolor\": \"#2a3f5f\", \"gridcolor\": \"white\", \"linecolor\": \"white\", \"minorgridcolor\": \"white\", \"startlinecolor\": \"#2a3f5f\"}, \"type\": \"carpet\"}], \"choropleth\": [{\"colorbar\": {\"outlinewidth\": 0, \"ticks\": \"\"}, \"type\": \"choropleth\"}], \"contour\": [{\"colorbar\": {\"outlinewidth\": 0, \"ticks\": \"\"}, \"colorscale\": [[0.0, \"#0d0887\"], [0.1111111111111111, \"#46039f\"], [0.2222222222222222, \"#7201a8\"], [0.3333333333333333, \"#9c179e\"], [0.4444444444444444, \"#bd3786\"], [0.5555555555555556, \"#d8576b\"], [0.6666666666666666, \"#ed7953\"], [0.7777777777777778, \"#fb9f3a\"], [0.8888888888888888, \"#fdca26\"], [1.0, \"#f0f921\"]], \"type\": \"contour\"}], \"contourcarpet\": [{\"colorbar\": {\"outlinewidth\": 0, \"ticks\": \"\"}, \"type\": \"contourcarpet\"}], \"heatmap\": [{\"colorbar\": {\"outlinewidth\": 0, \"ticks\": \"\"}, \"colorscale\": [[0.0, \"#0d0887\"], [0.1111111111111111, \"#46039f\"], [0.2222222222222222, \"#7201a8\"], [0.3333333333333333, \"#9c179e\"], [0.4444444444444444, \"#bd3786\"], [0.5555555555555556, \"#d8576b\"], [0.6666666666666666, \"#ed7953\"], [0.7777777777777778, \"#fb9f3a\"], [0.8888888888888888, \"#fdca26\"], [1.0, \"#f0f921\"]], \"type\": \"heatmap\"}], \"heatmapgl\": [{\"colorbar\": {\"outlinewidth\": 0, \"ticks\": \"\"}, \"colorscale\": [[0.0, \"#0d0887\"], [0.1111111111111111, \"#46039f\"], [0.2222222222222222, \"#7201a8\"], [0.3333333333333333, \"#9c179e\"], [0.4444444444444444, \"#bd3786\"], [0.5555555555555556, \"#d8576b\"], [0.6666666666666666, \"#ed7953\"], [0.7777777777777778, \"#fb9f3a\"], [0.8888888888888888, \"#fdca26\"], [1.0, \"#f0f921\"]], \"type\": \"heatmapgl\"}], \"histogram\": [{\"marker\": {\"colorbar\": {\"outlinewidth\": 0, \"ticks\": \"\"}}, \"type\": \"histogram\"}], \"histogram2d\": [{\"colorbar\": {\"outlinewidth\": 0, \"ticks\": \"\"}, \"colorscale\": [[0.0, \"#0d0887\"], [0.1111111111111111, \"#46039f\"], [0.2222222222222222, \"#7201a8\"], [0.3333333333333333, \"#9c179e\"], [0.4444444444444444, \"#bd3786\"], [0.5555555555555556, \"#d8576b\"], [0.6666666666666666, \"#ed7953\"], [0.7777777777777778, \"#fb9f3a\"], [0.8888888888888888, \"#fdca26\"], [1.0, \"#f0f921\"]], \"type\": \"histogram2d\"}], \"histogram2dcontour\": [{\"colorbar\": {\"outlinewidth\": 0, \"ticks\": \"\"}, \"colorscale\": [[0.0, \"#0d0887\"], [0.1111111111111111, \"#46039f\"], [0.2222222222222222, \"#7201a8\"], [0.3333333333333333, \"#9c179e\"], [0.4444444444444444, \"#bd3786\"], [0.5555555555555556, \"#d8576b\"], [0.6666666666666666, \"#ed7953\"], [0.7777777777777778, \"#fb9f3a\"], [0.8888888888888888, \"#fdca26\"], [1.0, \"#f0f921\"]], \"type\": \"histogram2dcontour\"}], \"mesh3d\": [{\"colorbar\": {\"outlinewidth\": 0, \"ticks\": \"\"}, \"type\": \"mesh3d\"}], \"parcoords\": [{\"line\": {\"colorbar\": {\"outlinewidth\": 0, \"ticks\": \"\"}}, \"type\": \"parcoords\"}], \"pie\": [{\"automargin\": true, \"type\": \"pie\"}], \"scatter\": [{\"marker\": {\"colorbar\": {\"outlinewidth\": 0, \"ticks\": \"\"}}, \"type\": \"scatter\"}], \"scatter3d\": [{\"line\": {\"colorbar\": {\"outlinewidth\": 0, \"ticks\": \"\"}}, \"marker\": {\"colorbar\": {\"outlinewidth\": 0, \"ticks\": \"\"}}, \"type\": \"scatter3d\"}], \"scattercarpet\": [{\"marker\": {\"colorbar\": {\"outlinewidth\": 0, \"ticks\": \"\"}}, \"type\": \"scattercarpet\"}], \"scattergeo\": [{\"marker\": {\"colorbar\": {\"outlinewidth\": 0, \"ticks\": \"\"}}, \"type\": \"scattergeo\"}], \"scattergl\": [{\"marker\": {\"colorbar\": {\"outlinewidth\": 0, \"ticks\": \"\"}}, \"type\": \"scattergl\"}], \"scattermapbox\": [{\"marker\": {\"colorbar\": {\"outlinewidth\": 0, \"ticks\": \"\"}}, \"type\": \"scattermapbox\"}], \"scatterpolar\": [{\"marker\": {\"colorbar\": {\"outlinewidth\": 0, \"ticks\": \"\"}}, \"type\": \"scatterpolar\"}], \"scatterpolargl\": [{\"marker\": {\"colorbar\": {\"outlinewidth\": 0, \"ticks\": \"\"}}, \"type\": \"scatterpolargl\"}], \"scatterternary\": [{\"marker\": {\"colorbar\": {\"outlinewidth\": 0, \"ticks\": \"\"}}, \"type\": \"scatterternary\"}], \"surface\": [{\"colorbar\": {\"outlinewidth\": 0, \"ticks\": \"\"}, \"colorscale\": [[0.0, \"#0d0887\"], [0.1111111111111111, \"#46039f\"], [0.2222222222222222, \"#7201a8\"], [0.3333333333333333, \"#9c179e\"], [0.4444444444444444, \"#bd3786\"], [0.5555555555555556, \"#d8576b\"], [0.6666666666666666, \"#ed7953\"], [0.7777777777777778, \"#fb9f3a\"], [0.8888888888888888, \"#fdca26\"], [1.0, \"#f0f921\"]], \"type\": \"surface\"}], \"table\": [{\"cells\": {\"fill\": {\"color\": \"#EBF0F8\"}, \"line\": {\"color\": \"white\"}}, \"header\": {\"fill\": {\"color\": \"#C8D4E3\"}, \"line\": {\"color\": \"white\"}}, \"type\": \"table\"}]}, \"layout\": {\"annotationdefaults\": {\"arrowcolor\": \"#2a3f5f\", \"arrowhead\": 0, \"arrowwidth\": 1}, \"coloraxis\": {\"colorbar\": {\"outlinewidth\": 0, \"ticks\": \"\"}}, \"colorscale\": {\"diverging\": [[0, \"#8e0152\"], [0.1, \"#c51b7d\"], [0.2, \"#de77ae\"], [0.3, \"#f1b6da\"], [0.4, \"#fde0ef\"], [0.5, \"#f7f7f7\"], [0.6, \"#e6f5d0\"], [0.7, \"#b8e186\"], [0.8, \"#7fbc41\"], [0.9, \"#4d9221\"], [1, \"#276419\"]], \"sequential\": [[0.0, \"#0d0887\"], [0.1111111111111111, \"#46039f\"], [0.2222222222222222, \"#7201a8\"], [0.3333333333333333, \"#9c179e\"], [0.4444444444444444, \"#bd3786\"], [0.5555555555555556, \"#d8576b\"], [0.6666666666666666, \"#ed7953\"], [0.7777777777777778, \"#fb9f3a\"], [0.8888888888888888, \"#fdca26\"], [1.0, \"#f0f921\"]], \"sequentialminus\": [[0.0, \"#0d0887\"], [0.1111111111111111, \"#46039f\"], [0.2222222222222222, \"#7201a8\"], [0.3333333333333333, \"#9c179e\"], [0.4444444444444444, \"#bd3786\"], [0.5555555555555556, \"#d8576b\"], [0.6666666666666666, \"#ed7953\"], [0.7777777777777778, \"#fb9f3a\"], [0.8888888888888888, \"#fdca26\"], [1.0, \"#f0f921\"]]}, \"colorway\": [\"#636efa\", \"#EF553B\", \"#00cc96\", \"#ab63fa\", \"#FFA15A\", \"#19d3f3\", \"#FF6692\", \"#B6E880\", \"#FF97FF\", \"#FECB52\"], \"font\": {\"color\": \"#2a3f5f\"}, \"geo\": {\"bgcolor\": \"white\", \"lakecolor\": \"white\", \"landcolor\": \"#E5ECF6\", \"showlakes\": true, \"showland\": true, \"subunitcolor\": \"white\"}, \"hoverlabel\": {\"align\": \"left\"}, \"hovermode\": \"closest\", \"mapbox\": {\"style\": \"light\"}, \"paper_bgcolor\": \"white\", \"plot_bgcolor\": \"#E5ECF6\", \"polar\": {\"angularaxis\": {\"gridcolor\": \"white\", \"linecolor\": \"white\", \"ticks\": \"\"}, \"bgcolor\": \"#E5ECF6\", \"radialaxis\": {\"gridcolor\": \"white\", \"linecolor\": \"white\", \"ticks\": \"\"}}, \"scene\": {\"xaxis\": {\"backgroundcolor\": \"#E5ECF6\", \"gridcolor\": \"white\", \"gridwidth\": 2, \"linecolor\": \"white\", \"showbackground\": true, \"ticks\": \"\", \"zerolinecolor\": \"white\"}, \"yaxis\": {\"backgroundcolor\": \"#E5ECF6\", \"gridcolor\": \"white\", \"gridwidth\": 2, \"linecolor\": \"white\", \"showbackground\": true, \"ticks\": \"\", \"zerolinecolor\": \"white\"}, \"zaxis\": {\"backgroundcolor\": \"#E5ECF6\", \"gridcolor\": \"white\", \"gridwidth\": 2, \"linecolor\": \"white\", \"showbackground\": true, \"ticks\": \"\", \"zerolinecolor\": \"white\"}}, \"shapedefaults\": {\"line\": {\"color\": \"#2a3f5f\"}}, \"ternary\": {\"aaxis\": {\"gridcolor\": \"white\", \"linecolor\": \"white\", \"ticks\": \"\"}, \"baxis\": {\"gridcolor\": \"white\", \"linecolor\": \"white\", \"ticks\": \"\"}, \"bgcolor\": \"#E5ECF6\", \"caxis\": {\"gridcolor\": \"white\", \"linecolor\": \"white\", \"ticks\": \"\"}}, \"title\": {\"x\": 0.05}, \"xaxis\": {\"automargin\": true, \"gridcolor\": \"white\", \"linecolor\": \"white\", \"ticks\": \"\", \"title\": {\"standoff\": 15}, \"zerolinecolor\": \"white\", \"zerolinewidth\": 2}, \"yaxis\": {\"automargin\": true, \"gridcolor\": \"white\", \"linecolor\": \"white\", \"ticks\": \"\", \"title\": {\"standoff\": 15}, \"zerolinecolor\": \"white\", \"zerolinewidth\": 2}}}, \"title\": {\"font\": {\"color\": \"#4D5663\"}, \"text\": \"Flairs Distribution\"}, \"xaxis\": {\"gridcolor\": \"#E1E5ED\", \"linecolor\": \"black\", \"showgrid\": true, \"tickfont\": {\"color\": \"#4D5663\"}, \"title\": {\"font\": {\"color\": \"#4D5663\"}, \"text\": \"Flairs\"}, \"zerolinecolor\": \"#E1E5ED\"}, \"yaxis\": {\"gridcolor\": \"#E1E5ED\", \"linecolor\": \"black\", \"showgrid\": true, \"tickfont\": {\"color\": \"#4D5663\"}, \"title\": {\"font\": {\"color\": \"#4D5663\"}, \"text\": \"No of Posts\"}, \"zerolinecolor\": \"#E1E5ED\"}},\n",
       "                        {\"showLink\": true, \"linkText\": \"Export to plot.ly\", \"plotlyServerURL\": \"https://plot.ly\", \"responsive\": true}\n",
       "                    ).then(function(){\n",
       "                            \n",
       "var gd = document.getElementById('d94545bc-4ed4-44e3-9236-a68fa233f4c9');\n",
       "var x = new MutationObserver(function (mutations, observer) {{\n",
       "        var display = window.getComputedStyle(gd).display;\n",
       "        if (!display || display === 'none') {{\n",
       "            console.log([gd, 'removed!']);\n",
       "            Plotly.purge(gd);\n",
       "            observer.disconnect();\n",
       "        }}\n",
       "}});\n",
       "\n",
       "// Listen for the removal of the full notebook cells\n",
       "var notebookContainer = gd.closest('#notebook-container');\n",
       "if (notebookContainer) {{\n",
       "    x.observe(notebookContainer, {childList: true});\n",
       "}}\n",
       "\n",
       "// Listen for the clearing of the current output cell\n",
       "var outputEl = gd.closest('.output');\n",
       "if (outputEl) {{\n",
       "    x.observe(outputEl, {childList: true});\n",
       "}}\n",
       "\n",
       "                        })\n",
       "                };\n",
       "                });\n",
       "            </script>\n",
       "        </div>"
      ]
     },
     "metadata": {},
     "output_type": "display_data"
    }
   ],
   "source": [
    "# Above Graph doen't appeal much let's use plotly\n",
    "# Love Plotly\n",
    "# We can interact with the graph in the jupyter itself\n",
    "data_df.groupby('flair').count()['id'].iplot(kind='bar', yTitle='No of Posts', \n",
    "                                                    xTitle='Flairs',linecolor='black', title='Flairs Distribution')"
   ]
  },
  {
   "cell_type": "code",
   "execution_count": 31,
   "metadata": {},
   "outputs": [
    {
     "data": {
      "application/vnd.plotly.v1+json": {
       "config": {
        "plotlyServerURL": "https://plot.ly"
       },
       "data": [
        {
         "hoverinfo": "label+percent+value",
         "labels": [
          "Non-Political",
          "Politics",
          "Coronavirus",
          "Sports",
          "CAA-NRC-NPR",
          "Scheduled",
          "Food",
          "AskIndia",
          "Business/Finance",
          "na",
          "Policy/Economy",
          "Photography",
          "Science/Technology",
          "TIL",
          "Unverified"
         ],
         "marker": {
          "line": {
           "color": "#000000",
           "width": 2
          }
         },
         "textfont": {
          "size": 20
         },
         "textinfo": "value",
         "type": "pie",
         "values": [
          1355,
          468,
          44,
          3232,
          77,
          1419,
          99,
          754,
          1688,
          121,
          113,
          88,
          11,
          11,
          55
         ]
        }
       ],
       "layout": {
        "template": {
         "data": {
          "bar": [
           {
            "error_x": {
             "color": "#2a3f5f"
            },
            "error_y": {
             "color": "#2a3f5f"
            },
            "marker": {
             "line": {
              "color": "#E5ECF6",
              "width": 0.5
             }
            },
            "type": "bar"
           }
          ],
          "barpolar": [
           {
            "marker": {
             "line": {
              "color": "#E5ECF6",
              "width": 0.5
             }
            },
            "type": "barpolar"
           }
          ],
          "carpet": [
           {
            "aaxis": {
             "endlinecolor": "#2a3f5f",
             "gridcolor": "white",
             "linecolor": "white",
             "minorgridcolor": "white",
             "startlinecolor": "#2a3f5f"
            },
            "baxis": {
             "endlinecolor": "#2a3f5f",
             "gridcolor": "white",
             "linecolor": "white",
             "minorgridcolor": "white",
             "startlinecolor": "#2a3f5f"
            },
            "type": "carpet"
           }
          ],
          "choropleth": [
           {
            "colorbar": {
             "outlinewidth": 0,
             "ticks": ""
            },
            "type": "choropleth"
           }
          ],
          "contour": [
           {
            "colorbar": {
             "outlinewidth": 0,
             "ticks": ""
            },
            "colorscale": [
             [
              0,
              "#0d0887"
             ],
             [
              0.1111111111111111,
              "#46039f"
             ],
             [
              0.2222222222222222,
              "#7201a8"
             ],
             [
              0.3333333333333333,
              "#9c179e"
             ],
             [
              0.4444444444444444,
              "#bd3786"
             ],
             [
              0.5555555555555556,
              "#d8576b"
             ],
             [
              0.6666666666666666,
              "#ed7953"
             ],
             [
              0.7777777777777778,
              "#fb9f3a"
             ],
             [
              0.8888888888888888,
              "#fdca26"
             ],
             [
              1,
              "#f0f921"
             ]
            ],
            "type": "contour"
           }
          ],
          "contourcarpet": [
           {
            "colorbar": {
             "outlinewidth": 0,
             "ticks": ""
            },
            "type": "contourcarpet"
           }
          ],
          "heatmap": [
           {
            "colorbar": {
             "outlinewidth": 0,
             "ticks": ""
            },
            "colorscale": [
             [
              0,
              "#0d0887"
             ],
             [
              0.1111111111111111,
              "#46039f"
             ],
             [
              0.2222222222222222,
              "#7201a8"
             ],
             [
              0.3333333333333333,
              "#9c179e"
             ],
             [
              0.4444444444444444,
              "#bd3786"
             ],
             [
              0.5555555555555556,
              "#d8576b"
             ],
             [
              0.6666666666666666,
              "#ed7953"
             ],
             [
              0.7777777777777778,
              "#fb9f3a"
             ],
             [
              0.8888888888888888,
              "#fdca26"
             ],
             [
              1,
              "#f0f921"
             ]
            ],
            "type": "heatmap"
           }
          ],
          "heatmapgl": [
           {
            "colorbar": {
             "outlinewidth": 0,
             "ticks": ""
            },
            "colorscale": [
             [
              0,
              "#0d0887"
             ],
             [
              0.1111111111111111,
              "#46039f"
             ],
             [
              0.2222222222222222,
              "#7201a8"
             ],
             [
              0.3333333333333333,
              "#9c179e"
             ],
             [
              0.4444444444444444,
              "#bd3786"
             ],
             [
              0.5555555555555556,
              "#d8576b"
             ],
             [
              0.6666666666666666,
              "#ed7953"
             ],
             [
              0.7777777777777778,
              "#fb9f3a"
             ],
             [
              0.8888888888888888,
              "#fdca26"
             ],
             [
              1,
              "#f0f921"
             ]
            ],
            "type": "heatmapgl"
           }
          ],
          "histogram": [
           {
            "marker": {
             "colorbar": {
              "outlinewidth": 0,
              "ticks": ""
             }
            },
            "type": "histogram"
           }
          ],
          "histogram2d": [
           {
            "colorbar": {
             "outlinewidth": 0,
             "ticks": ""
            },
            "colorscale": [
             [
              0,
              "#0d0887"
             ],
             [
              0.1111111111111111,
              "#46039f"
             ],
             [
              0.2222222222222222,
              "#7201a8"
             ],
             [
              0.3333333333333333,
              "#9c179e"
             ],
             [
              0.4444444444444444,
              "#bd3786"
             ],
             [
              0.5555555555555556,
              "#d8576b"
             ],
             [
              0.6666666666666666,
              "#ed7953"
             ],
             [
              0.7777777777777778,
              "#fb9f3a"
             ],
             [
              0.8888888888888888,
              "#fdca26"
             ],
             [
              1,
              "#f0f921"
             ]
            ],
            "type": "histogram2d"
           }
          ],
          "histogram2dcontour": [
           {
            "colorbar": {
             "outlinewidth": 0,
             "ticks": ""
            },
            "colorscale": [
             [
              0,
              "#0d0887"
             ],
             [
              0.1111111111111111,
              "#46039f"
             ],
             [
              0.2222222222222222,
              "#7201a8"
             ],
             [
              0.3333333333333333,
              "#9c179e"
             ],
             [
              0.4444444444444444,
              "#bd3786"
             ],
             [
              0.5555555555555556,
              "#d8576b"
             ],
             [
              0.6666666666666666,
              "#ed7953"
             ],
             [
              0.7777777777777778,
              "#fb9f3a"
             ],
             [
              0.8888888888888888,
              "#fdca26"
             ],
             [
              1,
              "#f0f921"
             ]
            ],
            "type": "histogram2dcontour"
           }
          ],
          "mesh3d": [
           {
            "colorbar": {
             "outlinewidth": 0,
             "ticks": ""
            },
            "type": "mesh3d"
           }
          ],
          "parcoords": [
           {
            "line": {
             "colorbar": {
              "outlinewidth": 0,
              "ticks": ""
             }
            },
            "type": "parcoords"
           }
          ],
          "pie": [
           {
            "automargin": true,
            "type": "pie"
           }
          ],
          "scatter": [
           {
            "marker": {
             "colorbar": {
              "outlinewidth": 0,
              "ticks": ""
             }
            },
            "type": "scatter"
           }
          ],
          "scatter3d": [
           {
            "line": {
             "colorbar": {
              "outlinewidth": 0,
              "ticks": ""
             }
            },
            "marker": {
             "colorbar": {
              "outlinewidth": 0,
              "ticks": ""
             }
            },
            "type": "scatter3d"
           }
          ],
          "scattercarpet": [
           {
            "marker": {
             "colorbar": {
              "outlinewidth": 0,
              "ticks": ""
             }
            },
            "type": "scattercarpet"
           }
          ],
          "scattergeo": [
           {
            "marker": {
             "colorbar": {
              "outlinewidth": 0,
              "ticks": ""
             }
            },
            "type": "scattergeo"
           }
          ],
          "scattergl": [
           {
            "marker": {
             "colorbar": {
              "outlinewidth": 0,
              "ticks": ""
             }
            },
            "type": "scattergl"
           }
          ],
          "scattermapbox": [
           {
            "marker": {
             "colorbar": {
              "outlinewidth": 0,
              "ticks": ""
             }
            },
            "type": "scattermapbox"
           }
          ],
          "scatterpolar": [
           {
            "marker": {
             "colorbar": {
              "outlinewidth": 0,
              "ticks": ""
             }
            },
            "type": "scatterpolar"
           }
          ],
          "scatterpolargl": [
           {
            "marker": {
             "colorbar": {
              "outlinewidth": 0,
              "ticks": ""
             }
            },
            "type": "scatterpolargl"
           }
          ],
          "scatterternary": [
           {
            "marker": {
             "colorbar": {
              "outlinewidth": 0,
              "ticks": ""
             }
            },
            "type": "scatterternary"
           }
          ],
          "surface": [
           {
            "colorbar": {
             "outlinewidth": 0,
             "ticks": ""
            },
            "colorscale": [
             [
              0,
              "#0d0887"
             ],
             [
              0.1111111111111111,
              "#46039f"
             ],
             [
              0.2222222222222222,
              "#7201a8"
             ],
             [
              0.3333333333333333,
              "#9c179e"
             ],
             [
              0.4444444444444444,
              "#bd3786"
             ],
             [
              0.5555555555555556,
              "#d8576b"
             ],
             [
              0.6666666666666666,
              "#ed7953"
             ],
             [
              0.7777777777777778,
              "#fb9f3a"
             ],
             [
              0.8888888888888888,
              "#fdca26"
             ],
             [
              1,
              "#f0f921"
             ]
            ],
            "type": "surface"
           }
          ],
          "table": [
           {
            "cells": {
             "fill": {
              "color": "#EBF0F8"
             },
             "line": {
              "color": "white"
             }
            },
            "header": {
             "fill": {
              "color": "#C8D4E3"
             },
             "line": {
              "color": "white"
             }
            },
            "type": "table"
           }
          ]
         },
         "layout": {
          "annotationdefaults": {
           "arrowcolor": "#2a3f5f",
           "arrowhead": 0,
           "arrowwidth": 1
          },
          "coloraxis": {
           "colorbar": {
            "outlinewidth": 0,
            "ticks": ""
           }
          },
          "colorscale": {
           "diverging": [
            [
             0,
             "#8e0152"
            ],
            [
             0.1,
             "#c51b7d"
            ],
            [
             0.2,
             "#de77ae"
            ],
            [
             0.3,
             "#f1b6da"
            ],
            [
             0.4,
             "#fde0ef"
            ],
            [
             0.5,
             "#f7f7f7"
            ],
            [
             0.6,
             "#e6f5d0"
            ],
            [
             0.7,
             "#b8e186"
            ],
            [
             0.8,
             "#7fbc41"
            ],
            [
             0.9,
             "#4d9221"
            ],
            [
             1,
             "#276419"
            ]
           ],
           "sequential": [
            [
             0,
             "#0d0887"
            ],
            [
             0.1111111111111111,
             "#46039f"
            ],
            [
             0.2222222222222222,
             "#7201a8"
            ],
            [
             0.3333333333333333,
             "#9c179e"
            ],
            [
             0.4444444444444444,
             "#bd3786"
            ],
            [
             0.5555555555555556,
             "#d8576b"
            ],
            [
             0.6666666666666666,
             "#ed7953"
            ],
            [
             0.7777777777777778,
             "#fb9f3a"
            ],
            [
             0.8888888888888888,
             "#fdca26"
            ],
            [
             1,
             "#f0f921"
            ]
           ],
           "sequentialminus": [
            [
             0,
             "#0d0887"
            ],
            [
             0.1111111111111111,
             "#46039f"
            ],
            [
             0.2222222222222222,
             "#7201a8"
            ],
            [
             0.3333333333333333,
             "#9c179e"
            ],
            [
             0.4444444444444444,
             "#bd3786"
            ],
            [
             0.5555555555555556,
             "#d8576b"
            ],
            [
             0.6666666666666666,
             "#ed7953"
            ],
            [
             0.7777777777777778,
             "#fb9f3a"
            ],
            [
             0.8888888888888888,
             "#fdca26"
            ],
            [
             1,
             "#f0f921"
            ]
           ]
          },
          "colorway": [
           "#636efa",
           "#EF553B",
           "#00cc96",
           "#ab63fa",
           "#FFA15A",
           "#19d3f3",
           "#FF6692",
           "#B6E880",
           "#FF97FF",
           "#FECB52"
          ],
          "font": {
           "color": "#2a3f5f"
          },
          "geo": {
           "bgcolor": "white",
           "lakecolor": "white",
           "landcolor": "#E5ECF6",
           "showlakes": true,
           "showland": true,
           "subunitcolor": "white"
          },
          "hoverlabel": {
           "align": "left"
          },
          "hovermode": "closest",
          "mapbox": {
           "style": "light"
          },
          "paper_bgcolor": "white",
          "plot_bgcolor": "#E5ECF6",
          "polar": {
           "angularaxis": {
            "gridcolor": "white",
            "linecolor": "white",
            "ticks": ""
           },
           "bgcolor": "#E5ECF6",
           "radialaxis": {
            "gridcolor": "white",
            "linecolor": "white",
            "ticks": ""
           }
          },
          "scene": {
           "xaxis": {
            "backgroundcolor": "#E5ECF6",
            "gridcolor": "white",
            "gridwidth": 2,
            "linecolor": "white",
            "showbackground": true,
            "ticks": "",
            "zerolinecolor": "white"
           },
           "yaxis": {
            "backgroundcolor": "#E5ECF6",
            "gridcolor": "white",
            "gridwidth": 2,
            "linecolor": "white",
            "showbackground": true,
            "ticks": "",
            "zerolinecolor": "white"
           },
           "zaxis": {
            "backgroundcolor": "#E5ECF6",
            "gridcolor": "white",
            "gridwidth": 2,
            "linecolor": "white",
            "showbackground": true,
            "ticks": "",
            "zerolinecolor": "white"
           }
          },
          "shapedefaults": {
           "line": {
            "color": "#2a3f5f"
           }
          },
          "ternary": {
           "aaxis": {
            "gridcolor": "white",
            "linecolor": "white",
            "ticks": ""
           },
           "baxis": {
            "gridcolor": "white",
            "linecolor": "white",
            "ticks": ""
           },
           "bgcolor": "#E5ECF6",
           "caxis": {
            "gridcolor": "white",
            "linecolor": "white",
            "ticks": ""
           }
          },
          "title": {
           "x": 0.05
          },
          "xaxis": {
           "automargin": true,
           "gridcolor": "white",
           "linecolor": "white",
           "ticks": "",
           "title": {
            "standoff": 15
           },
           "zerolinecolor": "white",
           "zerolinewidth": 2
          },
          "yaxis": {
           "automargin": true,
           "gridcolor": "white",
           "linecolor": "white",
           "ticks": "",
           "title": {
            "standoff": 15
           },
           "zerolinecolor": "white",
           "zerolinewidth": 2
          }
         }
        }
       }
      },
      "text/html": [
       "<div>\n",
       "        \n",
       "        \n",
       "            <div id=\"13daa693-f241-4c4e-ae8a-90f45bf21191\" class=\"plotly-graph-div\" style=\"height:525px; width:100%;\"></div>\n",
       "            <script type=\"text/javascript\">\n",
       "                require([\"plotly\"], function(Plotly) {\n",
       "                    window.PLOTLYENV=window.PLOTLYENV || {};\n",
       "                    \n",
       "                if (document.getElementById(\"13daa693-f241-4c4e-ae8a-90f45bf21191\")) {\n",
       "                    Plotly.newPlot(\n",
       "                        '13daa693-f241-4c4e-ae8a-90f45bf21191',\n",
       "                        [{\"hoverinfo\": \"label+percent+value\", \"labels\": [\"Non-Political\", \"Politics\", \"Coronavirus\", \"Sports\", \"CAA-NRC-NPR\", \"Scheduled\", \"Food\", \"AskIndia\", \"Business/Finance\", \"na\", \"Policy/Economy\", \"Photography\", \"Science/Technology\", \"TIL\", \"Unverified\"], \"marker\": {\"line\": {\"color\": \"#000000\", \"width\": 2}}, \"textfont\": {\"size\": 20}, \"textinfo\": \"value\", \"type\": \"pie\", \"values\": [1355, 468, 44, 3232, 77, 1419, 99, 754, 1688, 121, 113, 88, 11, 11, 55]}],\n",
       "                        {\"template\": {\"data\": {\"bar\": [{\"error_x\": {\"color\": \"#2a3f5f\"}, \"error_y\": {\"color\": \"#2a3f5f\"}, \"marker\": {\"line\": {\"color\": \"#E5ECF6\", \"width\": 0.5}}, \"type\": \"bar\"}], \"barpolar\": [{\"marker\": {\"line\": {\"color\": \"#E5ECF6\", \"width\": 0.5}}, \"type\": \"barpolar\"}], \"carpet\": [{\"aaxis\": {\"endlinecolor\": \"#2a3f5f\", \"gridcolor\": \"white\", \"linecolor\": \"white\", \"minorgridcolor\": \"white\", \"startlinecolor\": \"#2a3f5f\"}, \"baxis\": {\"endlinecolor\": \"#2a3f5f\", \"gridcolor\": \"white\", \"linecolor\": \"white\", \"minorgridcolor\": \"white\", \"startlinecolor\": \"#2a3f5f\"}, \"type\": \"carpet\"}], \"choropleth\": [{\"colorbar\": {\"outlinewidth\": 0, \"ticks\": \"\"}, \"type\": \"choropleth\"}], \"contour\": [{\"colorbar\": {\"outlinewidth\": 0, \"ticks\": \"\"}, \"colorscale\": [[0.0, \"#0d0887\"], [0.1111111111111111, \"#46039f\"], [0.2222222222222222, \"#7201a8\"], [0.3333333333333333, \"#9c179e\"], [0.4444444444444444, \"#bd3786\"], [0.5555555555555556, \"#d8576b\"], [0.6666666666666666, \"#ed7953\"], [0.7777777777777778, \"#fb9f3a\"], [0.8888888888888888, \"#fdca26\"], [1.0, \"#f0f921\"]], \"type\": \"contour\"}], \"contourcarpet\": [{\"colorbar\": {\"outlinewidth\": 0, \"ticks\": \"\"}, \"type\": \"contourcarpet\"}], \"heatmap\": [{\"colorbar\": {\"outlinewidth\": 0, \"ticks\": \"\"}, \"colorscale\": [[0.0, \"#0d0887\"], [0.1111111111111111, \"#46039f\"], [0.2222222222222222, \"#7201a8\"], [0.3333333333333333, \"#9c179e\"], [0.4444444444444444, \"#bd3786\"], [0.5555555555555556, \"#d8576b\"], [0.6666666666666666, \"#ed7953\"], [0.7777777777777778, \"#fb9f3a\"], [0.8888888888888888, \"#fdca26\"], [1.0, \"#f0f921\"]], \"type\": \"heatmap\"}], \"heatmapgl\": [{\"colorbar\": {\"outlinewidth\": 0, \"ticks\": \"\"}, \"colorscale\": [[0.0, \"#0d0887\"], [0.1111111111111111, \"#46039f\"], [0.2222222222222222, \"#7201a8\"], [0.3333333333333333, \"#9c179e\"], [0.4444444444444444, \"#bd3786\"], [0.5555555555555556, \"#d8576b\"], [0.6666666666666666, \"#ed7953\"], [0.7777777777777778, \"#fb9f3a\"], [0.8888888888888888, \"#fdca26\"], [1.0, \"#f0f921\"]], \"type\": \"heatmapgl\"}], \"histogram\": [{\"marker\": {\"colorbar\": {\"outlinewidth\": 0, \"ticks\": \"\"}}, \"type\": \"histogram\"}], \"histogram2d\": [{\"colorbar\": {\"outlinewidth\": 0, \"ticks\": \"\"}, \"colorscale\": [[0.0, \"#0d0887\"], [0.1111111111111111, \"#46039f\"], [0.2222222222222222, \"#7201a8\"], [0.3333333333333333, \"#9c179e\"], [0.4444444444444444, \"#bd3786\"], [0.5555555555555556, \"#d8576b\"], [0.6666666666666666, \"#ed7953\"], [0.7777777777777778, \"#fb9f3a\"], [0.8888888888888888, \"#fdca26\"], [1.0, \"#f0f921\"]], \"type\": \"histogram2d\"}], \"histogram2dcontour\": [{\"colorbar\": {\"outlinewidth\": 0, \"ticks\": \"\"}, \"colorscale\": [[0.0, \"#0d0887\"], [0.1111111111111111, \"#46039f\"], [0.2222222222222222, \"#7201a8\"], [0.3333333333333333, \"#9c179e\"], [0.4444444444444444, \"#bd3786\"], [0.5555555555555556, \"#d8576b\"], [0.6666666666666666, \"#ed7953\"], [0.7777777777777778, \"#fb9f3a\"], [0.8888888888888888, \"#fdca26\"], [1.0, \"#f0f921\"]], \"type\": \"histogram2dcontour\"}], \"mesh3d\": [{\"colorbar\": {\"outlinewidth\": 0, \"ticks\": \"\"}, \"type\": \"mesh3d\"}], \"parcoords\": [{\"line\": {\"colorbar\": {\"outlinewidth\": 0, \"ticks\": \"\"}}, \"type\": \"parcoords\"}], \"pie\": [{\"automargin\": true, \"type\": \"pie\"}], \"scatter\": [{\"marker\": {\"colorbar\": {\"outlinewidth\": 0, \"ticks\": \"\"}}, \"type\": \"scatter\"}], \"scatter3d\": [{\"line\": {\"colorbar\": {\"outlinewidth\": 0, \"ticks\": \"\"}}, \"marker\": {\"colorbar\": {\"outlinewidth\": 0, \"ticks\": \"\"}}, \"type\": \"scatter3d\"}], \"scattercarpet\": [{\"marker\": {\"colorbar\": {\"outlinewidth\": 0, \"ticks\": \"\"}}, \"type\": \"scattercarpet\"}], \"scattergeo\": [{\"marker\": {\"colorbar\": {\"outlinewidth\": 0, \"ticks\": \"\"}}, \"type\": \"scattergeo\"}], \"scattergl\": [{\"marker\": {\"colorbar\": {\"outlinewidth\": 0, \"ticks\": \"\"}}, \"type\": \"scattergl\"}], \"scattermapbox\": [{\"marker\": {\"colorbar\": {\"outlinewidth\": 0, \"ticks\": \"\"}}, \"type\": \"scattermapbox\"}], \"scatterpolar\": [{\"marker\": {\"colorbar\": {\"outlinewidth\": 0, \"ticks\": \"\"}}, \"type\": \"scatterpolar\"}], \"scatterpolargl\": [{\"marker\": {\"colorbar\": {\"outlinewidth\": 0, \"ticks\": \"\"}}, \"type\": \"scatterpolargl\"}], \"scatterternary\": [{\"marker\": {\"colorbar\": {\"outlinewidth\": 0, \"ticks\": \"\"}}, \"type\": \"scatterternary\"}], \"surface\": [{\"colorbar\": {\"outlinewidth\": 0, \"ticks\": \"\"}, \"colorscale\": [[0.0, \"#0d0887\"], [0.1111111111111111, \"#46039f\"], [0.2222222222222222, \"#7201a8\"], [0.3333333333333333, \"#9c179e\"], [0.4444444444444444, \"#bd3786\"], [0.5555555555555556, \"#d8576b\"], [0.6666666666666666, \"#ed7953\"], [0.7777777777777778, \"#fb9f3a\"], [0.8888888888888888, \"#fdca26\"], [1.0, \"#f0f921\"]], \"type\": \"surface\"}], \"table\": [{\"cells\": {\"fill\": {\"color\": \"#EBF0F8\"}, \"line\": {\"color\": \"white\"}}, \"header\": {\"fill\": {\"color\": \"#C8D4E3\"}, \"line\": {\"color\": \"white\"}}, \"type\": \"table\"}]}, \"layout\": {\"annotationdefaults\": {\"arrowcolor\": \"#2a3f5f\", \"arrowhead\": 0, \"arrowwidth\": 1}, \"coloraxis\": {\"colorbar\": {\"outlinewidth\": 0, \"ticks\": \"\"}}, \"colorscale\": {\"diverging\": [[0, \"#8e0152\"], [0.1, \"#c51b7d\"], [0.2, \"#de77ae\"], [0.3, \"#f1b6da\"], [0.4, \"#fde0ef\"], [0.5, \"#f7f7f7\"], [0.6, \"#e6f5d0\"], [0.7, \"#b8e186\"], [0.8, \"#7fbc41\"], [0.9, \"#4d9221\"], [1, \"#276419\"]], \"sequential\": [[0.0, \"#0d0887\"], [0.1111111111111111, \"#46039f\"], [0.2222222222222222, \"#7201a8\"], [0.3333333333333333, \"#9c179e\"], [0.4444444444444444, \"#bd3786\"], [0.5555555555555556, \"#d8576b\"], [0.6666666666666666, \"#ed7953\"], [0.7777777777777778, \"#fb9f3a\"], [0.8888888888888888, \"#fdca26\"], [1.0, \"#f0f921\"]], \"sequentialminus\": [[0.0, \"#0d0887\"], [0.1111111111111111, \"#46039f\"], [0.2222222222222222, \"#7201a8\"], [0.3333333333333333, \"#9c179e\"], [0.4444444444444444, \"#bd3786\"], [0.5555555555555556, \"#d8576b\"], [0.6666666666666666, \"#ed7953\"], [0.7777777777777778, \"#fb9f3a\"], [0.8888888888888888, \"#fdca26\"], [1.0, \"#f0f921\"]]}, \"colorway\": [\"#636efa\", \"#EF553B\", \"#00cc96\", \"#ab63fa\", \"#FFA15A\", \"#19d3f3\", \"#FF6692\", \"#B6E880\", \"#FF97FF\", \"#FECB52\"], \"font\": {\"color\": \"#2a3f5f\"}, \"geo\": {\"bgcolor\": \"white\", \"lakecolor\": \"white\", \"landcolor\": \"#E5ECF6\", \"showlakes\": true, \"showland\": true, \"subunitcolor\": \"white\"}, \"hoverlabel\": {\"align\": \"left\"}, \"hovermode\": \"closest\", \"mapbox\": {\"style\": \"light\"}, \"paper_bgcolor\": \"white\", \"plot_bgcolor\": \"#E5ECF6\", \"polar\": {\"angularaxis\": {\"gridcolor\": \"white\", \"linecolor\": \"white\", \"ticks\": \"\"}, \"bgcolor\": \"#E5ECF6\", \"radialaxis\": {\"gridcolor\": \"white\", \"linecolor\": \"white\", \"ticks\": \"\"}}, \"scene\": {\"xaxis\": {\"backgroundcolor\": \"#E5ECF6\", \"gridcolor\": \"white\", \"gridwidth\": 2, \"linecolor\": \"white\", \"showbackground\": true, \"ticks\": \"\", \"zerolinecolor\": \"white\"}, \"yaxis\": {\"backgroundcolor\": \"#E5ECF6\", \"gridcolor\": \"white\", \"gridwidth\": 2, \"linecolor\": \"white\", \"showbackground\": true, \"ticks\": \"\", \"zerolinecolor\": \"white\"}, \"zaxis\": {\"backgroundcolor\": \"#E5ECF6\", \"gridcolor\": \"white\", \"gridwidth\": 2, \"linecolor\": \"white\", \"showbackground\": true, \"ticks\": \"\", \"zerolinecolor\": \"white\"}}, \"shapedefaults\": {\"line\": {\"color\": \"#2a3f5f\"}}, \"ternary\": {\"aaxis\": {\"gridcolor\": \"white\", \"linecolor\": \"white\", \"ticks\": \"\"}, \"baxis\": {\"gridcolor\": \"white\", \"linecolor\": \"white\", \"ticks\": \"\"}, \"bgcolor\": \"#E5ECF6\", \"caxis\": {\"gridcolor\": \"white\", \"linecolor\": \"white\", \"ticks\": \"\"}}, \"title\": {\"x\": 0.05}, \"xaxis\": {\"automargin\": true, \"gridcolor\": \"white\", \"linecolor\": \"white\", \"ticks\": \"\", \"title\": {\"standoff\": 15}, \"zerolinecolor\": \"white\", \"zerolinewidth\": 2}, \"yaxis\": {\"automargin\": true, \"gridcolor\": \"white\", \"linecolor\": \"white\", \"ticks\": \"\", \"title\": {\"standoff\": 15}, \"zerolinecolor\": \"white\", \"zerolinewidth\": 2}}}},\n",
       "                        {\"responsive\": true}\n",
       "                    ).then(function(){\n",
       "                            \n",
       "var gd = document.getElementById('13daa693-f241-4c4e-ae8a-90f45bf21191');\n",
       "var x = new MutationObserver(function (mutations, observer) {{\n",
       "        var display = window.getComputedStyle(gd).display;\n",
       "        if (!display || display === 'none') {{\n",
       "            console.log([gd, 'removed!']);\n",
       "            Plotly.purge(gd);\n",
       "            observer.disconnect();\n",
       "        }}\n",
       "}});\n",
       "\n",
       "// Listen for the removal of the full notebook cells\n",
       "var notebookContainer = gd.closest('#notebook-container');\n",
       "if (notebookContainer) {{\n",
       "    x.observe(notebookContainer, {childList: true});\n",
       "}}\n",
       "\n",
       "// Listen for the clearing of the current output cell\n",
       "var outputEl = gd.closest('.output');\n",
       "if (outputEl) {{\n",
       "    x.observe(outputEl, {childList: true});\n",
       "}}\n",
       "\n",
       "                        })\n",
       "                };\n",
       "                });\n",
       "            </script>\n",
       "        </div>"
      ]
     },
     "metadata": {},
     "output_type": "display_data"
    }
   ],
   "source": [
    "# Let's check our flair distribution by percentage value\n",
    "# I will use Plotly pie chart and we can hover over it to get the value\n",
    "# We are using plotly.graph_objects which is imported as go\n",
    "fig = go.Figure(data=[go.Pie(labels=data_df['flair'].unique(),\n",
    "                             values=data_df.groupby('flair').count()['id'])])\n",
    "fig.update_traces(hoverinfo='label+percent+value', textinfo='value', textfont_size=20,\n",
    "                  marker=dict(line=dict(color='#000000', width=2)))\n",
    "fig.show()"
   ]
  },
  {
   "cell_type": "code",
   "execution_count": 32,
   "metadata": {},
   "outputs": [
    {
     "data": {
      "application/vnd.plotly.v1+json": {
       "config": {
        "plotlyServerURL": "https://plot.ly"
       },
       "data": [
        {
         "hoverinfo": "label+value",
         "labels": [
          "Non-Political",
          "Politics",
          "Coronavirus",
          "Sports",
          "CAA-NRC-NPR",
          "Scheduled",
          "Food",
          "AskIndia",
          "Business/Finance",
          "na",
          "Policy/Economy",
          "Photography",
          "Science/Technology",
          "TIL",
          "Unverified"
         ],
         "marker": {
          "line": {
           "width": 0
          }
         },
         "textfont": {
          "size": 20
         },
         "textinfo": "value",
         "type": "pie",
         "values": [
          1831,
          1101,
          871,
          524,
          590,
          481,
          390,
          309,
          216,
          299,
          99,
          150,
          187,
          109,
          106,
          139,
          99,
          66,
          88,
          89,
          88,
          111,
          77,
          56,
          87,
          65,
          50,
          54,
          33,
          57,
          64,
          24,
          3,
          40,
          13,
          32,
          36,
          63,
          3,
          31,
          16,
          23,
          24,
          13,
          14,
          13,
          11,
          3,
          23,
          13,
          44,
          12,
          13,
          24,
          27,
          17,
          15,
          2,
          11,
          11,
          3,
          12,
          22,
          27,
          11,
          26,
          25,
          16,
          11,
          23,
          5,
          11,
          10,
          13,
          1,
          4,
          11,
          1,
          22,
          11,
          1,
          11,
          11,
          11,
          11,
          1,
          1,
          6,
          1,
          2,
          3,
          19,
          11,
          3,
          8,
          11,
          11,
          10,
          1,
          11,
          11,
          2,
          3,
          17,
          11,
          11,
          11
         ]
        }
       ],
       "layout": {
        "template": {
         "data": {
          "bar": [
           {
            "error_x": {
             "color": "#2a3f5f"
            },
            "error_y": {
             "color": "#2a3f5f"
            },
            "marker": {
             "line": {
              "color": "#E5ECF6",
              "width": 0.5
             }
            },
            "type": "bar"
           }
          ],
          "barpolar": [
           {
            "marker": {
             "line": {
              "color": "#E5ECF6",
              "width": 0.5
             }
            },
            "type": "barpolar"
           }
          ],
          "carpet": [
           {
            "aaxis": {
             "endlinecolor": "#2a3f5f",
             "gridcolor": "white",
             "linecolor": "white",
             "minorgridcolor": "white",
             "startlinecolor": "#2a3f5f"
            },
            "baxis": {
             "endlinecolor": "#2a3f5f",
             "gridcolor": "white",
             "linecolor": "white",
             "minorgridcolor": "white",
             "startlinecolor": "#2a3f5f"
            },
            "type": "carpet"
           }
          ],
          "choropleth": [
           {
            "colorbar": {
             "outlinewidth": 0,
             "ticks": ""
            },
            "type": "choropleth"
           }
          ],
          "contour": [
           {
            "colorbar": {
             "outlinewidth": 0,
             "ticks": ""
            },
            "colorscale": [
             [
              0,
              "#0d0887"
             ],
             [
              0.1111111111111111,
              "#46039f"
             ],
             [
              0.2222222222222222,
              "#7201a8"
             ],
             [
              0.3333333333333333,
              "#9c179e"
             ],
             [
              0.4444444444444444,
              "#bd3786"
             ],
             [
              0.5555555555555556,
              "#d8576b"
             ],
             [
              0.6666666666666666,
              "#ed7953"
             ],
             [
              0.7777777777777778,
              "#fb9f3a"
             ],
             [
              0.8888888888888888,
              "#fdca26"
             ],
             [
              1,
              "#f0f921"
             ]
            ],
            "type": "contour"
           }
          ],
          "contourcarpet": [
           {
            "colorbar": {
             "outlinewidth": 0,
             "ticks": ""
            },
            "type": "contourcarpet"
           }
          ],
          "heatmap": [
           {
            "colorbar": {
             "outlinewidth": 0,
             "ticks": ""
            },
            "colorscale": [
             [
              0,
              "#0d0887"
             ],
             [
              0.1111111111111111,
              "#46039f"
             ],
             [
              0.2222222222222222,
              "#7201a8"
             ],
             [
              0.3333333333333333,
              "#9c179e"
             ],
             [
              0.4444444444444444,
              "#bd3786"
             ],
             [
              0.5555555555555556,
              "#d8576b"
             ],
             [
              0.6666666666666666,
              "#ed7953"
             ],
             [
              0.7777777777777778,
              "#fb9f3a"
             ],
             [
              0.8888888888888888,
              "#fdca26"
             ],
             [
              1,
              "#f0f921"
             ]
            ],
            "type": "heatmap"
           }
          ],
          "heatmapgl": [
           {
            "colorbar": {
             "outlinewidth": 0,
             "ticks": ""
            },
            "colorscale": [
             [
              0,
              "#0d0887"
             ],
             [
              0.1111111111111111,
              "#46039f"
             ],
             [
              0.2222222222222222,
              "#7201a8"
             ],
             [
              0.3333333333333333,
              "#9c179e"
             ],
             [
              0.4444444444444444,
              "#bd3786"
             ],
             [
              0.5555555555555556,
              "#d8576b"
             ],
             [
              0.6666666666666666,
              "#ed7953"
             ],
             [
              0.7777777777777778,
              "#fb9f3a"
             ],
             [
              0.8888888888888888,
              "#fdca26"
             ],
             [
              1,
              "#f0f921"
             ]
            ],
            "type": "heatmapgl"
           }
          ],
          "histogram": [
           {
            "marker": {
             "colorbar": {
              "outlinewidth": 0,
              "ticks": ""
             }
            },
            "type": "histogram"
           }
          ],
          "histogram2d": [
           {
            "colorbar": {
             "outlinewidth": 0,
             "ticks": ""
            },
            "colorscale": [
             [
              0,
              "#0d0887"
             ],
             [
              0.1111111111111111,
              "#46039f"
             ],
             [
              0.2222222222222222,
              "#7201a8"
             ],
             [
              0.3333333333333333,
              "#9c179e"
             ],
             [
              0.4444444444444444,
              "#bd3786"
             ],
             [
              0.5555555555555556,
              "#d8576b"
             ],
             [
              0.6666666666666666,
              "#ed7953"
             ],
             [
              0.7777777777777778,
              "#fb9f3a"
             ],
             [
              0.8888888888888888,
              "#fdca26"
             ],
             [
              1,
              "#f0f921"
             ]
            ],
            "type": "histogram2d"
           }
          ],
          "histogram2dcontour": [
           {
            "colorbar": {
             "outlinewidth": 0,
             "ticks": ""
            },
            "colorscale": [
             [
              0,
              "#0d0887"
             ],
             [
              0.1111111111111111,
              "#46039f"
             ],
             [
              0.2222222222222222,
              "#7201a8"
             ],
             [
              0.3333333333333333,
              "#9c179e"
             ],
             [
              0.4444444444444444,
              "#bd3786"
             ],
             [
              0.5555555555555556,
              "#d8576b"
             ],
             [
              0.6666666666666666,
              "#ed7953"
             ],
             [
              0.7777777777777778,
              "#fb9f3a"
             ],
             [
              0.8888888888888888,
              "#fdca26"
             ],
             [
              1,
              "#f0f921"
             ]
            ],
            "type": "histogram2dcontour"
           }
          ],
          "mesh3d": [
           {
            "colorbar": {
             "outlinewidth": 0,
             "ticks": ""
            },
            "type": "mesh3d"
           }
          ],
          "parcoords": [
           {
            "line": {
             "colorbar": {
              "outlinewidth": 0,
              "ticks": ""
             }
            },
            "type": "parcoords"
           }
          ],
          "pie": [
           {
            "automargin": true,
            "type": "pie"
           }
          ],
          "scatter": [
           {
            "marker": {
             "colorbar": {
              "outlinewidth": 0,
              "ticks": ""
             }
            },
            "type": "scatter"
           }
          ],
          "scatter3d": [
           {
            "line": {
             "colorbar": {
              "outlinewidth": 0,
              "ticks": ""
             }
            },
            "marker": {
             "colorbar": {
              "outlinewidth": 0,
              "ticks": ""
             }
            },
            "type": "scatter3d"
           }
          ],
          "scattercarpet": [
           {
            "marker": {
             "colorbar": {
              "outlinewidth": 0,
              "ticks": ""
             }
            },
            "type": "scattercarpet"
           }
          ],
          "scattergeo": [
           {
            "marker": {
             "colorbar": {
              "outlinewidth": 0,
              "ticks": ""
             }
            },
            "type": "scattergeo"
           }
          ],
          "scattergl": [
           {
            "marker": {
             "colorbar": {
              "outlinewidth": 0,
              "ticks": ""
             }
            },
            "type": "scattergl"
           }
          ],
          "scattermapbox": [
           {
            "marker": {
             "colorbar": {
              "outlinewidth": 0,
              "ticks": ""
             }
            },
            "type": "scattermapbox"
           }
          ],
          "scatterpolar": [
           {
            "marker": {
             "colorbar": {
              "outlinewidth": 0,
              "ticks": ""
             }
            },
            "type": "scatterpolar"
           }
          ],
          "scatterpolargl": [
           {
            "marker": {
             "colorbar": {
              "outlinewidth": 0,
              "ticks": ""
             }
            },
            "type": "scatterpolargl"
           }
          ],
          "scatterternary": [
           {
            "marker": {
             "colorbar": {
              "outlinewidth": 0,
              "ticks": ""
             }
            },
            "type": "scatterternary"
           }
          ],
          "surface": [
           {
            "colorbar": {
             "outlinewidth": 0,
             "ticks": ""
            },
            "colorscale": [
             [
              0,
              "#0d0887"
             ],
             [
              0.1111111111111111,
              "#46039f"
             ],
             [
              0.2222222222222222,
              "#7201a8"
             ],
             [
              0.3333333333333333,
              "#9c179e"
             ],
             [
              0.4444444444444444,
              "#bd3786"
             ],
             [
              0.5555555555555556,
              "#d8576b"
             ],
             [
              0.6666666666666666,
              "#ed7953"
             ],
             [
              0.7777777777777778,
              "#fb9f3a"
             ],
             [
              0.8888888888888888,
              "#fdca26"
             ],
             [
              1,
              "#f0f921"
             ]
            ],
            "type": "surface"
           }
          ],
          "table": [
           {
            "cells": {
             "fill": {
              "color": "#EBF0F8"
             },
             "line": {
              "color": "white"
             }
            },
            "header": {
             "fill": {
              "color": "#C8D4E3"
             },
             "line": {
              "color": "white"
             }
            },
            "type": "table"
           }
          ]
         },
         "layout": {
          "annotationdefaults": {
           "arrowcolor": "#2a3f5f",
           "arrowhead": 0,
           "arrowwidth": 1
          },
          "coloraxis": {
           "colorbar": {
            "outlinewidth": 0,
            "ticks": ""
           }
          },
          "colorscale": {
           "diverging": [
            [
             0,
             "#8e0152"
            ],
            [
             0.1,
             "#c51b7d"
            ],
            [
             0.2,
             "#de77ae"
            ],
            [
             0.3,
             "#f1b6da"
            ],
            [
             0.4,
             "#fde0ef"
            ],
            [
             0.5,
             "#f7f7f7"
            ],
            [
             0.6,
             "#e6f5d0"
            ],
            [
             0.7,
             "#b8e186"
            ],
            [
             0.8,
             "#7fbc41"
            ],
            [
             0.9,
             "#4d9221"
            ],
            [
             1,
             "#276419"
            ]
           ],
           "sequential": [
            [
             0,
             "#0d0887"
            ],
            [
             0.1111111111111111,
             "#46039f"
            ],
            [
             0.2222222222222222,
             "#7201a8"
            ],
            [
             0.3333333333333333,
             "#9c179e"
            ],
            [
             0.4444444444444444,
             "#bd3786"
            ],
            [
             0.5555555555555556,
             "#d8576b"
            ],
            [
             0.6666666666666666,
             "#ed7953"
            ],
            [
             0.7777777777777778,
             "#fb9f3a"
            ],
            [
             0.8888888888888888,
             "#fdca26"
            ],
            [
             1,
             "#f0f921"
            ]
           ],
           "sequentialminus": [
            [
             0,
             "#0d0887"
            ],
            [
             0.1111111111111111,
             "#46039f"
            ],
            [
             0.2222222222222222,
             "#7201a8"
            ],
            [
             0.3333333333333333,
             "#9c179e"
            ],
            [
             0.4444444444444444,
             "#bd3786"
            ],
            [
             0.5555555555555556,
             "#d8576b"
            ],
            [
             0.6666666666666666,
             "#ed7953"
            ],
            [
             0.7777777777777778,
             "#fb9f3a"
            ],
            [
             0.8888888888888888,
             "#fdca26"
            ],
            [
             1,
             "#f0f921"
            ]
           ]
          },
          "colorway": [
           "#636efa",
           "#EF553B",
           "#00cc96",
           "#ab63fa",
           "#FFA15A",
           "#19d3f3",
           "#FF6692",
           "#B6E880",
           "#FF97FF",
           "#FECB52"
          ],
          "font": {
           "color": "#2a3f5f"
          },
          "geo": {
           "bgcolor": "white",
           "lakecolor": "white",
           "landcolor": "#E5ECF6",
           "showlakes": true,
           "showland": true,
           "subunitcolor": "white"
          },
          "hoverlabel": {
           "align": "left"
          },
          "hovermode": "closest",
          "mapbox": {
           "style": "light"
          },
          "paper_bgcolor": "white",
          "plot_bgcolor": "#E5ECF6",
          "polar": {
           "angularaxis": {
            "gridcolor": "white",
            "linecolor": "white",
            "ticks": ""
           },
           "bgcolor": "#E5ECF6",
           "radialaxis": {
            "gridcolor": "white",
            "linecolor": "white",
            "ticks": ""
           }
          },
          "scene": {
           "xaxis": {
            "backgroundcolor": "#E5ECF6",
            "gridcolor": "white",
            "gridwidth": 2,
            "linecolor": "white",
            "showbackground": true,
            "ticks": "",
            "zerolinecolor": "white"
           },
           "yaxis": {
            "backgroundcolor": "#E5ECF6",
            "gridcolor": "white",
            "gridwidth": 2,
            "linecolor": "white",
            "showbackground": true,
            "ticks": "",
            "zerolinecolor": "white"
           },
           "zaxis": {
            "backgroundcolor": "#E5ECF6",
            "gridcolor": "white",
            "gridwidth": 2,
            "linecolor": "white",
            "showbackground": true,
            "ticks": "",
            "zerolinecolor": "white"
           }
          },
          "shapedefaults": {
           "line": {
            "color": "#2a3f5f"
           }
          },
          "ternary": {
           "aaxis": {
            "gridcolor": "white",
            "linecolor": "white",
            "ticks": ""
           },
           "baxis": {
            "gridcolor": "white",
            "linecolor": "white",
            "ticks": ""
           },
           "bgcolor": "#E5ECF6",
           "caxis": {
            "gridcolor": "white",
            "linecolor": "white",
            "ticks": ""
           }
          },
          "title": {
           "x": 0.05
          },
          "xaxis": {
           "automargin": true,
           "gridcolor": "white",
           "linecolor": "white",
           "ticks": "",
           "title": {
            "standoff": 15
           },
           "zerolinecolor": "white",
           "zerolinewidth": 2
          },
          "yaxis": {
           "automargin": true,
           "gridcolor": "white",
           "linecolor": "white",
           "ticks": "",
           "title": {
            "standoff": 15
           },
           "zerolinecolor": "white",
           "zerolinewidth": 2
          }
         }
        }
       }
      },
      "text/html": [
       "<div>\n",
       "        \n",
       "        \n",
       "            <div id=\"139961ea-e871-4608-b30f-71c011f18348\" class=\"plotly-graph-div\" style=\"height:525px; width:100%;\"></div>\n",
       "            <script type=\"text/javascript\">\n",
       "                require([\"plotly\"], function(Plotly) {\n",
       "                    window.PLOTLYENV=window.PLOTLYENV || {};\n",
       "                    \n",
       "                if (document.getElementById(\"139961ea-e871-4608-b30f-71c011f18348\")) {\n",
       "                    Plotly.newPlot(\n",
       "                        '139961ea-e871-4608-b30f-71c011f18348',\n",
       "                        [{\"hoverinfo\": \"label+value\", \"labels\": [\"Non-Political\", \"Politics\", \"Coronavirus\", \"Sports\", \"CAA-NRC-NPR\", \"Scheduled\", \"Food\", \"AskIndia\", \"Business/Finance\", \"na\", \"Policy/Economy\", \"Photography\", \"Science/Technology\", \"TIL\", \"Unverified\"], \"marker\": {\"line\": {\"width\": 0}}, \"textfont\": {\"size\": 20}, \"textinfo\": \"value\", \"type\": \"pie\", \"values\": [1831, 1101, 871, 524, 590, 481, 390, 309, 216, 299, 99, 150, 187, 109, 106, 139, 99, 66, 88, 89, 88, 111, 77, 56, 87, 65, 50, 54, 33, 57, 64, 24, 3, 40, 13, 32, 36, 63, 3, 31, 16, 23, 24, 13, 14, 13, 11, 3, 23, 13, 44, 12, 13, 24, 27, 17, 15, 2, 11, 11, 3, 12, 22, 27, 11, 26, 25, 16, 11, 23, 5, 11, 10, 13, 1, 4, 11, 1, 22, 11, 1, 11, 11, 11, 11, 1, 1, 6, 1, 2, 3, 19, 11, 3, 8, 11, 11, 10, 1, 11, 11, 2, 3, 17, 11, 11, 11]}],\n",
       "                        {\"template\": {\"data\": {\"bar\": [{\"error_x\": {\"color\": \"#2a3f5f\"}, \"error_y\": {\"color\": \"#2a3f5f\"}, \"marker\": {\"line\": {\"color\": \"#E5ECF6\", \"width\": 0.5}}, \"type\": \"bar\"}], \"barpolar\": [{\"marker\": {\"line\": {\"color\": \"#E5ECF6\", \"width\": 0.5}}, \"type\": \"barpolar\"}], \"carpet\": [{\"aaxis\": {\"endlinecolor\": \"#2a3f5f\", \"gridcolor\": \"white\", \"linecolor\": \"white\", \"minorgridcolor\": \"white\", \"startlinecolor\": \"#2a3f5f\"}, \"baxis\": {\"endlinecolor\": \"#2a3f5f\", \"gridcolor\": \"white\", \"linecolor\": \"white\", \"minorgridcolor\": \"white\", \"startlinecolor\": \"#2a3f5f\"}, \"type\": \"carpet\"}], \"choropleth\": [{\"colorbar\": {\"outlinewidth\": 0, \"ticks\": \"\"}, \"type\": \"choropleth\"}], \"contour\": [{\"colorbar\": {\"outlinewidth\": 0, \"ticks\": \"\"}, \"colorscale\": [[0.0, \"#0d0887\"], [0.1111111111111111, \"#46039f\"], [0.2222222222222222, \"#7201a8\"], [0.3333333333333333, \"#9c179e\"], [0.4444444444444444, \"#bd3786\"], [0.5555555555555556, \"#d8576b\"], [0.6666666666666666, \"#ed7953\"], [0.7777777777777778, \"#fb9f3a\"], [0.8888888888888888, \"#fdca26\"], [1.0, \"#f0f921\"]], \"type\": \"contour\"}], \"contourcarpet\": [{\"colorbar\": {\"outlinewidth\": 0, \"ticks\": \"\"}, \"type\": \"contourcarpet\"}], \"heatmap\": [{\"colorbar\": {\"outlinewidth\": 0, \"ticks\": \"\"}, \"colorscale\": [[0.0, \"#0d0887\"], [0.1111111111111111, \"#46039f\"], [0.2222222222222222, \"#7201a8\"], [0.3333333333333333, \"#9c179e\"], [0.4444444444444444, \"#bd3786\"], [0.5555555555555556, \"#d8576b\"], [0.6666666666666666, \"#ed7953\"], [0.7777777777777778, \"#fb9f3a\"], [0.8888888888888888, \"#fdca26\"], [1.0, \"#f0f921\"]], \"type\": \"heatmap\"}], \"heatmapgl\": [{\"colorbar\": {\"outlinewidth\": 0, \"ticks\": \"\"}, \"colorscale\": [[0.0, \"#0d0887\"], [0.1111111111111111, \"#46039f\"], [0.2222222222222222, \"#7201a8\"], [0.3333333333333333, \"#9c179e\"], [0.4444444444444444, \"#bd3786\"], [0.5555555555555556, \"#d8576b\"], [0.6666666666666666, \"#ed7953\"], [0.7777777777777778, \"#fb9f3a\"], [0.8888888888888888, \"#fdca26\"], [1.0, \"#f0f921\"]], \"type\": \"heatmapgl\"}], \"histogram\": [{\"marker\": {\"colorbar\": {\"outlinewidth\": 0, \"ticks\": \"\"}}, \"type\": \"histogram\"}], \"histogram2d\": [{\"colorbar\": {\"outlinewidth\": 0, \"ticks\": \"\"}, \"colorscale\": [[0.0, \"#0d0887\"], [0.1111111111111111, \"#46039f\"], [0.2222222222222222, \"#7201a8\"], [0.3333333333333333, \"#9c179e\"], [0.4444444444444444, \"#bd3786\"], [0.5555555555555556, \"#d8576b\"], [0.6666666666666666, \"#ed7953\"], [0.7777777777777778, \"#fb9f3a\"], [0.8888888888888888, \"#fdca26\"], [1.0, \"#f0f921\"]], \"type\": \"histogram2d\"}], \"histogram2dcontour\": [{\"colorbar\": {\"outlinewidth\": 0, \"ticks\": \"\"}, \"colorscale\": [[0.0, \"#0d0887\"], [0.1111111111111111, \"#46039f\"], [0.2222222222222222, \"#7201a8\"], [0.3333333333333333, \"#9c179e\"], [0.4444444444444444, \"#bd3786\"], [0.5555555555555556, \"#d8576b\"], [0.6666666666666666, \"#ed7953\"], [0.7777777777777778, \"#fb9f3a\"], [0.8888888888888888, \"#fdca26\"], [1.0, \"#f0f921\"]], \"type\": \"histogram2dcontour\"}], \"mesh3d\": [{\"colorbar\": {\"outlinewidth\": 0, \"ticks\": \"\"}, \"type\": \"mesh3d\"}], \"parcoords\": [{\"line\": {\"colorbar\": {\"outlinewidth\": 0, \"ticks\": \"\"}}, \"type\": \"parcoords\"}], \"pie\": [{\"automargin\": true, \"type\": \"pie\"}], \"scatter\": [{\"marker\": {\"colorbar\": {\"outlinewidth\": 0, \"ticks\": \"\"}}, \"type\": \"scatter\"}], \"scatter3d\": [{\"line\": {\"colorbar\": {\"outlinewidth\": 0, \"ticks\": \"\"}}, \"marker\": {\"colorbar\": {\"outlinewidth\": 0, \"ticks\": \"\"}}, \"type\": \"scatter3d\"}], \"scattercarpet\": [{\"marker\": {\"colorbar\": {\"outlinewidth\": 0, \"ticks\": \"\"}}, \"type\": \"scattercarpet\"}], \"scattergeo\": [{\"marker\": {\"colorbar\": {\"outlinewidth\": 0, \"ticks\": \"\"}}, \"type\": \"scattergeo\"}], \"scattergl\": [{\"marker\": {\"colorbar\": {\"outlinewidth\": 0, \"ticks\": \"\"}}, \"type\": \"scattergl\"}], \"scattermapbox\": [{\"marker\": {\"colorbar\": {\"outlinewidth\": 0, \"ticks\": \"\"}}, \"type\": \"scattermapbox\"}], \"scatterpolar\": [{\"marker\": {\"colorbar\": {\"outlinewidth\": 0, \"ticks\": \"\"}}, \"type\": \"scatterpolar\"}], \"scatterpolargl\": [{\"marker\": {\"colorbar\": {\"outlinewidth\": 0, \"ticks\": \"\"}}, \"type\": \"scatterpolargl\"}], \"scatterternary\": [{\"marker\": {\"colorbar\": {\"outlinewidth\": 0, \"ticks\": \"\"}}, \"type\": \"scatterternary\"}], \"surface\": [{\"colorbar\": {\"outlinewidth\": 0, \"ticks\": \"\"}, \"colorscale\": [[0.0, \"#0d0887\"], [0.1111111111111111, \"#46039f\"], [0.2222222222222222, \"#7201a8\"], [0.3333333333333333, \"#9c179e\"], [0.4444444444444444, \"#bd3786\"], [0.5555555555555556, \"#d8576b\"], [0.6666666666666666, \"#ed7953\"], [0.7777777777777778, \"#fb9f3a\"], [0.8888888888888888, \"#fdca26\"], [1.0, \"#f0f921\"]], \"type\": \"surface\"}], \"table\": [{\"cells\": {\"fill\": {\"color\": \"#EBF0F8\"}, \"line\": {\"color\": \"white\"}}, \"header\": {\"fill\": {\"color\": \"#C8D4E3\"}, \"line\": {\"color\": \"white\"}}, \"type\": \"table\"}]}, \"layout\": {\"annotationdefaults\": {\"arrowcolor\": \"#2a3f5f\", \"arrowhead\": 0, \"arrowwidth\": 1}, \"coloraxis\": {\"colorbar\": {\"outlinewidth\": 0, \"ticks\": \"\"}}, \"colorscale\": {\"diverging\": [[0, \"#8e0152\"], [0.1, \"#c51b7d\"], [0.2, \"#de77ae\"], [0.3, \"#f1b6da\"], [0.4, \"#fde0ef\"], [0.5, \"#f7f7f7\"], [0.6, \"#e6f5d0\"], [0.7, \"#b8e186\"], [0.8, \"#7fbc41\"], [0.9, \"#4d9221\"], [1, \"#276419\"]], \"sequential\": [[0.0, \"#0d0887\"], [0.1111111111111111, \"#46039f\"], [0.2222222222222222, \"#7201a8\"], [0.3333333333333333, \"#9c179e\"], [0.4444444444444444, \"#bd3786\"], [0.5555555555555556, \"#d8576b\"], [0.6666666666666666, \"#ed7953\"], [0.7777777777777778, \"#fb9f3a\"], [0.8888888888888888, \"#fdca26\"], [1.0, \"#f0f921\"]], \"sequentialminus\": [[0.0, \"#0d0887\"], [0.1111111111111111, \"#46039f\"], [0.2222222222222222, \"#7201a8\"], [0.3333333333333333, \"#9c179e\"], [0.4444444444444444, \"#bd3786\"], [0.5555555555555556, \"#d8576b\"], [0.6666666666666666, \"#ed7953\"], [0.7777777777777778, \"#fb9f3a\"], [0.8888888888888888, \"#fdca26\"], [1.0, \"#f0f921\"]]}, \"colorway\": [\"#636efa\", \"#EF553B\", \"#00cc96\", \"#ab63fa\", \"#FFA15A\", \"#19d3f3\", \"#FF6692\", \"#B6E880\", \"#FF97FF\", \"#FECB52\"], \"font\": {\"color\": \"#2a3f5f\"}, \"geo\": {\"bgcolor\": \"white\", \"lakecolor\": \"white\", \"landcolor\": \"#E5ECF6\", \"showlakes\": true, \"showland\": true, \"subunitcolor\": \"white\"}, \"hoverlabel\": {\"align\": \"left\"}, \"hovermode\": \"closest\", \"mapbox\": {\"style\": \"light\"}, \"paper_bgcolor\": \"white\", \"plot_bgcolor\": \"#E5ECF6\", \"polar\": {\"angularaxis\": {\"gridcolor\": \"white\", \"linecolor\": \"white\", \"ticks\": \"\"}, \"bgcolor\": \"#E5ECF6\", \"radialaxis\": {\"gridcolor\": \"white\", \"linecolor\": \"white\", \"ticks\": \"\"}}, \"scene\": {\"xaxis\": {\"backgroundcolor\": \"#E5ECF6\", \"gridcolor\": \"white\", \"gridwidth\": 2, \"linecolor\": \"white\", \"showbackground\": true, \"ticks\": \"\", \"zerolinecolor\": \"white\"}, \"yaxis\": {\"backgroundcolor\": \"#E5ECF6\", \"gridcolor\": \"white\", \"gridwidth\": 2, \"linecolor\": \"white\", \"showbackground\": true, \"ticks\": \"\", \"zerolinecolor\": \"white\"}, \"zaxis\": {\"backgroundcolor\": \"#E5ECF6\", \"gridcolor\": \"white\", \"gridwidth\": 2, \"linecolor\": \"white\", \"showbackground\": true, \"ticks\": \"\", \"zerolinecolor\": \"white\"}}, \"shapedefaults\": {\"line\": {\"color\": \"#2a3f5f\"}}, \"ternary\": {\"aaxis\": {\"gridcolor\": \"white\", \"linecolor\": \"white\", \"ticks\": \"\"}, \"baxis\": {\"gridcolor\": \"white\", \"linecolor\": \"white\", \"ticks\": \"\"}, \"bgcolor\": \"#E5ECF6\", \"caxis\": {\"gridcolor\": \"white\", \"linecolor\": \"white\", \"ticks\": \"\"}}, \"title\": {\"x\": 0.05}, \"xaxis\": {\"automargin\": true, \"gridcolor\": \"white\", \"linecolor\": \"white\", \"ticks\": \"\", \"title\": {\"standoff\": 15}, \"zerolinecolor\": \"white\", \"zerolinewidth\": 2}, \"yaxis\": {\"automargin\": true, \"gridcolor\": \"white\", \"linecolor\": \"white\", \"ticks\": \"\", \"title\": {\"standoff\": 15}, \"zerolinecolor\": \"white\", \"zerolinewidth\": 2}}}},\n",
       "                        {\"responsive\": true}\n",
       "                    ).then(function(){\n",
       "                            \n",
       "var gd = document.getElementById('139961ea-e871-4608-b30f-71c011f18348');\n",
       "var x = new MutationObserver(function (mutations, observer) {{\n",
       "        var display = window.getComputedStyle(gd).display;\n",
       "        if (!display || display === 'none') {{\n",
       "            console.log([gd, 'removed!']);\n",
       "            Plotly.purge(gd);\n",
       "            observer.disconnect();\n",
       "        }}\n",
       "}});\n",
       "\n",
       "// Listen for the removal of the full notebook cells\n",
       "var notebookContainer = gd.closest('#notebook-container');\n",
       "if (notebookContainer) {{\n",
       "    x.observe(notebookContainer, {childList: true});\n",
       "}}\n",
       "\n",
       "// Listen for the clearing of the current output cell\n",
       "var outputEl = gd.closest('.output');\n",
       "if (outputEl) {{\n",
       "    x.observe(outputEl, {childList: true});\n",
       "}}\n",
       "\n",
       "                        })\n",
       "                };\n",
       "                });\n",
       "            </script>\n",
       "        </div>"
      ]
     },
     "metadata": {},
     "output_type": "display_data"
    }
   ],
   "source": [
    "# Let's do some more charts\n",
    "# Don't worry Plotly got it covered :)\n",
    "# We will plot distribution of Flairs based on \"No of Comments\"\n",
    "fig = go.Figure(data=[go.Pie(labels=data_df['flair'].unique(),\n",
    "                             values=data_df.groupby('comms_num').count()['id'])])\n",
    "fig.update_traces(hoverinfo='label+value', textinfo='value', textfont_size=20,\n",
    "                  marker=dict(line=dict(width=0)))\n",
    "fig.show()"
   ]
  },
  {
   "cell_type": "code",
   "execution_count": 33,
   "metadata": {},
   "outputs": [
    {
     "name": "stdout",
     "output_type": "stream",
     "text": [
      "[('na', 6830), ('https', 3373), ('wwwhotstarcom', 1672), ('india', 1448), ('would', 1172), ('movies', 1100), ('people', 1092), ('like', 1083), ('dont', 935), ('indian', 859)]\n"
     ]
    },
    {
     "data": {
      "image/png": "[encoded data removed]",
      "text/plain": [
       "<matplotlib.figure.Figure at 0x7f5569144240>"
      ]
     },
     "metadata": {
      "needs_background": "light"
     },
     "output_type": "display_data"
    }
   ],
   "source": [
    "# Let's find out most common words in \"body\" column\n",
    "# Most common top 10 words\n",
    "commonBody = Counter(\" \".join(data_df[\"body\"]).split()).most_common(10)\n",
    "print(commonBody)\n",
    "\n",
    "# Now let's visualize it\n",
    "cloud = WordCloud(max_words=10, background_color=\"white\").generate(str(commonBody))\n",
    "\n",
    "# Display the generated image:\n",
    "plt.imshow(cloud, interpolation='bilinear')\n",
    "plt.axis(\"off\")\n",
    "plt.show()"
   ]
  },
  {
   "cell_type": "code",
   "execution_count": 34,
   "metadata": {},
   "outputs": [
    {
     "name": "stdout",
     "output_type": "stream",
     "text": [
      "[('india', 1736), ('covid19', 1357), ('lockdown', 1025), ('coronavirus', 812), ('indian', 570), ('news', 545), ('says', 396), ('indias', 379), ('times', 367), ('delhi', 335)]\n"
     ]
    },
    {
     "data": {
      "image/png": "[encoded data removed]",
      "text/plain": [
       "<matplotlib.figure.Figure at 0x7f55700cf6d8>"
      ]
     },
     "metadata": {
      "needs_background": "light"
     },
     "output_type": "display_data"
    }
   ],
   "source": [
    "# Let's find out most common words in \"title\" column\n",
    "# Most common top 10 words\n",
    "commTitle = Counter(\" \".join(data_df[\"title\"]).split()).most_common(10)\n",
    "print(commTitle)\n",
    "\n",
    "# Now let's visualize it\n",
    "cloud = WordCloud(max_words=10, background_color=\"white\").generate(str(commTitle))\n",
    "\n",
    "# Display the generated image:\n",
    "plt.imshow(cloud, interpolation='bilinear')\n",
    "plt.axis(\"off\")\n",
    "plt.show()"
   ]
  },
  {
   "cell_type": "code",
   "execution_count": null,
   "metadata": {},
   "outputs": [],
   "source": []
  }
 ],
 "metadata": {
  "kernelspec": {
   "display_name": "Python 3",
   "language": "python",
   "name": "python3"
  },
  "language_info": {
   "codemirror_mode": {
    "name": "ipython",
    "version": 3
   },
   "file_extension": ".py",
   "mimetype": "text/x-python",
   "name": "python",
   "nbconvert_exporter": "python",
   "pygments_lexer": "ipython3",
   "version": "3.7.3"
  }
 },
 "nbformat": 4,
 "nbformat_minor": 4
}
