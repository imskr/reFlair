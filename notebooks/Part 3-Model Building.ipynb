{
 "cells": [
  {
   "cell_type": "code",
   "execution_count": 1,
   "metadata": {},
   "outputs": [
    {
     "name": "stderr",
     "output_type": "stream",
     "text": [
      "unable to import 'smart_open.gcs', disabling that module\n"
     ]
    }
   ],
   "source": [
    "import pandas as pd\n",
    "import numpy as np\n",
    "import json\n",
    "import joblib\n",
    "import gensim\n",
    "import re\n",
    "import pickle\n",
    "import warnings\n",
    "from sklearn.model_selection import train_test_split\n",
    "from sklearn.feature_extraction.text import CountVectorizer, TfidfVectorizer\n",
    "from sklearn.metrics import accuracy_score, confusion_matrix\n",
    "from sklearn.naive_bayes import MultinomialNB\n",
    "from sklearn.linear_model import SGDClassifier\n",
    "from sklearn.metrics import classification_report\n",
    "from sklearn.pipeline import Pipeline\n",
    "from sklearn.feature_extraction.text import TfidfTransformer\n",
    "from sklearn.linear_model import LogisticRegression\n",
    "from sklearn.ensemble import RandomForestClassifier"
   ]
  },
  {
   "cell_type": "code",
   "execution_count": 2,
   "metadata": {},
   "outputs": [],
   "source": [
    "# Let's import our data\n",
    "data = pd.read_csv('./processedIndiafinal.csv')"
   ]
  },
  {
   "cell_type": "code",
   "execution_count": 3,
   "metadata": {},
   "outputs": [],
   "source": [
    "flairs = ['AskIndia', 'Business/Finance',\n",
    "        'CAA-NRC-NPR', 'Coronavirus',\n",
    "         'Food',  'Non-Political',\n",
    "         'Policy/Economy',  'Politics',\n",
    "          'Scheduled', 'Science/Technology',\n",
    "          'Sports', 'TIL', 'Unverified', 'na', 'Photography']"
   ]
  },
  {
   "cell_type": "code",
   "execution_count": 5,
   "metadata": {},
   "outputs": [],
   "source": [
    "# Let's split our data into train and test\n",
    "# We will use 75:25 rule, 75% for train and 25% for test\n",
    "# Let's create the function for it\n",
    "# we will use train_test_split function for it which comes with sklearn\n",
    "# setting random state to 10, we can set it to any fixed value\n",
    "\n",
    "def train_test(X,y): \n",
    "    X_train, X_test, y_train, y_test = train_test_split(X, y, test_size=0.25, random_state = 10)\n",
    "    print(\"Naive Bayes Classifier \")\n",
    "    naivebayes_classifier(X_train, X_test, y_train, y_test)\n",
    "    print(\"Linear Support Vector Machine \")\n",
    "    lsvm(X_train, X_test, y_train, y_test)\n",
    "    print(\"Logistic Regression \")\n",
    "    logistic_regression(X_train, X_test, y_train, y_test)\n",
    "    print(\"Random Forest \")\n",
    "    random_forest(X_train, X_test, y_train, y_test)"
   ]
  },
  {
   "cell_type": "code",
   "execution_count": 21,
   "metadata": {},
   "outputs": [],
   "source": [
    "# Let's create a function for each classifier\n",
    "\n",
    "# Naive Bayes\n",
    "def naivebayes_classifier(X_train, X_test, y_train, y_test):\n",
    "    nb = Pipeline([('vect', CountVectorizer()),\n",
    "                 ('tfidf', TfidfTransformer()),\n",
    "                 ('clf', MultinomialNB()),\n",
    "                ])\n",
    "    nb.fit(X_train, y_train)\n",
    "    y_pred = nb.predict(X_test)\n",
    "    print(\"Accuracy: \"+str(accuracy_score(y_pred,y_test)))\n",
    "\n",
    "# Linear Support Vector Machine\n",
    "def lsvm(X_train, X_test, y_train, y_test):\n",
    "    sgd = Pipeline([('vect', CountVectorizer()),\n",
    "                  ('tfidf', TfidfTransformer()),\n",
    "                  ('clf', SGDClassifier(loss='hinge', penalty='l2',alpha=1e-3, random_state=10, max_iter=5, tol=None)),\n",
    "                 ])\n",
    "    sgd.fit(X_train, y_train)\n",
    "    y_pred = sgd.predict(X_test)\n",
    "    print(\"Accuracy: \"+str(accuracy_score(y_pred,y_test)))\n",
    "\n",
    "# Logistic Regression\n",
    "def logistic_regression(X_train, X_test, y_train, y_test):\n",
    "    logreg = Pipeline([('vect', CountVectorizer()),\n",
    "                  ('tfidf', TfidfTransformer()),\n",
    "                  ('clf', LogisticRegression(n_jobs=1, C=1e30)),\n",
    "                 ])\n",
    "    logreg.fit(X_train, y_train)\n",
    "    y_pred = logreg.predict(X_test)\n",
    "    print(\"Accuracy: \"+str(accuracy_score(y_pred,y_test)))\n",
    "    \n",
    "# Random Forest\n",
    "def random_forest(X_train, X_test, y_train, y_test):\n",
    "    ranfor = Pipeline([('vect', CountVectorizer()),\n",
    "                  ('tfidf', TfidfTransformer()),\n",
    "                  ('clf', RandomForestClassifier(n_estimators = 1000, random_state = 10)),\n",
    "                 ])\n",
    "    ranfor.fit(X_train, y_train)\n",
    "    y_pred = ranfor.predict(X_test)\n",
    "    print(\"Accuracy: \"+str(accuracy_score(y_pred,y_test)))\n"
   ]
  },
  {
   "cell_type": "code",
   "execution_count": null,
   "metadata": {},
   "outputs": [
    {
     "name": "stdout",
     "output_type": "stream",
     "text": [
      "Flair Detection using Title as a Feature:\n",
      "---------------------------------------\n",
      "Naive Bayes Classifier \n",
      "Accuracy: 0.9668624161073825\n",
      "Linear Support Vector Machine \n",
      "Accuracy: 0.9739932885906041\n",
      "Logistic Regression \n",
      "Accuracy: 0.9979026845637584\n",
      "Random Forest \n"
     ]
    }
   ],
   "source": [
    "warnings.filterwarnings('ignore')\n",
    "print(\"Flair Detection using Title as a Feature:\")\n",
    "print(\"---------------------------------------\")\n",
    "train_test(data.title, data.flair)"
   ]
  },
  {
   "cell_type": "code",
   "execution_count": 18,
   "metadata": {},
   "outputs": [
    {
     "name": "stdout",
     "output_type": "stream",
     "text": [
      "Flair Detection using Body as a Feature:\n",
      "---------------------------------------\n",
      "Naive Bayes Classifier \n",
      "Accuracy: 0.5880872483221476\n",
      "                    precision    recall  f1-score   support\n",
      "\n",
      "          AskIndia       0.00      0.00      0.00        19\n",
      "\n",
      "         micro avg       0.00      0.00      0.00        19\n",
      "         macro avg       0.00      0.00      0.00        19\n",
      "      weighted avg       0.00      0.00      0.00        19\n",
      "\n",
      "Linear Support Vector Machine \n",
      "Accuracy: 0.3921979865771812\n",
      "                    precision    recall  f1-score   support\n",
      "\n",
      "          AskIndia       1.00      0.37      0.54        19\n",
      "\n",
      "         micro avg       1.00      0.37      0.54        19\n",
      "         macro avg       1.00      0.37      0.54        19\n",
      "      weighted avg       1.00      0.37      0.54        19\n",
      "\n",
      "Logistic Regression \n",
      "Accuracy: 0.5931208053691275\n",
      "                    precision    recall  f1-score   support\n",
      "\n",
      "          AskIndia       1.00      0.99      0.99       342\n",
      "  Business/Finance       1.00      0.20      0.33       110\n",
      "       CAA-NRC-NPR       1.00      0.17      0.29        12\n",
      "       Coronavirus       0.46      1.00      0.63       811\n",
      "              Food       1.00      0.08      0.15        25\n",
      "     Non-Political       1.00      0.33      0.50       382\n",
      "    Policy/Economy       1.00      0.20      0.33       179\n",
      "          Politics       1.00      0.10      0.18       405\n",
      "         Scheduled       1.00      1.00      1.00        25\n",
      "Science/Technology       1.00      0.04      0.07        27\n",
      "            Sports       1.00      0.20      0.33        20\n",
      "               TIL       0.00      0.00      0.00         5\n",
      "        Unverified       0.00      0.00      0.00         1\n",
      "                na       1.00      0.37      0.54        19\n",
      "       Photography       0.00      0.00      0.00        21\n",
      "\n",
      "          accuracy                           0.59      2384\n",
      "         macro avg       0.76      0.31      0.36      2384\n",
      "      weighted avg       0.80      0.59      0.53      2384\n",
      "\n",
      "Random Forest \n",
      "Accuracy: 0.5927013422818792\n",
      "                    precision    recall  f1-score   support\n",
      "\n",
      "          AskIndia       1.00      0.37      0.54        19\n",
      "\n",
      "         micro avg       1.00      0.37      0.54        19\n",
      "         macro avg       1.00      0.37      0.54        19\n",
      "      weighted avg       1.00      0.37      0.54        19\n",
      "\n"
     ]
    }
   ],
   "source": [
    "print(\"Flair Detection using Body as a Feature:\")\n",
    "print(\"---------------------------------------\")\n",
    "train_test(data.body, data.flair)"
   ]
  },
  {
   "cell_type": "code",
   "execution_count": 17,
   "metadata": {},
   "outputs": [
    {
     "name": "stdout",
     "output_type": "stream",
     "text": [
      "Flair Detection using Title+Body+URL as a Feature:\n",
      "---------------------------------------\n",
      "Naive Bayes Classifier \n",
      "Accuracy: 0.9442114093959731\n",
      "                    precision    recall  f1-score   support\n",
      "\n",
      "          AskIndia       0.00      0.00      0.00        19\n",
      "\n",
      "         micro avg       0.00      0.00      0.00        19\n",
      "         macro avg       0.00      0.00      0.00        19\n",
      "      weighted avg       0.00      0.00      0.00        19\n",
      "\n",
      "Linear Support Vector Machine \n",
      "Accuracy: 0.988255033557047\n",
      "                    precision    recall  f1-score   support\n",
      "\n",
      "          AskIndia       1.00      0.95      0.97        19\n",
      "\n",
      "         micro avg       1.00      0.95      0.97        19\n",
      "         macro avg       1.00      0.95      0.97        19\n",
      "      weighted avg       1.00      0.95      0.97        19\n",
      "\n",
      "Logistic Regression \n",
      "Accuracy: 0.9979026845637584\n",
      "                    precision    recall  f1-score   support\n",
      "\n",
      "          AskIndia       1.00      1.00      1.00       342\n",
      "  Business/Finance       1.00      1.00      1.00       110\n",
      "       CAA-NRC-NPR       1.00      1.00      1.00        12\n",
      "       Coronavirus       1.00      1.00      1.00       811\n",
      "              Food       1.00      1.00      1.00        25\n",
      "     Non-Political       1.00      1.00      1.00       382\n",
      "    Policy/Economy       1.00      0.97      0.99       179\n",
      "          Politics       0.99      1.00      0.99       405\n",
      "         Scheduled       1.00      1.00      1.00        25\n",
      "Science/Technology       1.00      1.00      1.00        27\n",
      "            Sports       1.00      1.00      1.00        20\n",
      "               TIL       1.00      1.00      1.00         5\n",
      "        Unverified       1.00      1.00      1.00         1\n",
      "                na       1.00      1.00      1.00        19\n",
      "       Photography       1.00      1.00      1.00        21\n",
      "\n",
      "          accuracy                           1.00      2384\n",
      "         macro avg       1.00      1.00      1.00      2384\n",
      "      weighted avg       1.00      1.00      1.00      2384\n",
      "\n",
      "Random Forest \n",
      "Accuracy: 0.99748322147651\n",
      "                    precision    recall  f1-score   support\n",
      "\n",
      "          AskIndia       1.00      1.00      1.00        19\n",
      "\n",
      "         micro avg       1.00      1.00      1.00        19\n",
      "         macro avg       1.00      1.00      1.00        19\n",
      "      weighted avg       1.00      1.00      1.00        19\n",
      "\n"
     ]
    }
   ],
   "source": [
    "print(\"Flair Detection using Title+Body+URL as a Feature:\")\n",
    "print(\"---------------------------------------\")\n",
    "train_test(data.feature_tbu, data.flair)"
   ]
  },
  {
   "cell_type": "markdown",
   "metadata": {},
   "source": [
    "### After detailed analysis of all the metrics!\n",
    "### Combined feature of Title, Body and URL performed better than others.\n",
    "### Logistic Regression performed better than other algorithms!"
   ]
  },
  {
   "cell_type": "code",
   "execution_count": 19,
   "metadata": {},
   "outputs": [],
   "source": [
    "X=data.title\n",
    "y=data.flair\n",
    "X_train, X_test, y_train, y_test = train_test_split(X, y, test_size=0.25, random_state = 10)\n",
    "logreg = Pipeline([('vect', CountVectorizer()),\n",
    "                  ('tfidf', TfidfTransformer()),\n",
    "                  ('clf', LogisticRegression(n_jobs=1, C=1e30)),\n",
    "                 ])\n",
    "logreg.fit(X_train, y_train)\n",
    "y_pred = logreg.predict(X_test)"
   ]
  },
  {
   "cell_type": "code",
   "execution_count": 20,
   "metadata": {},
   "outputs": [],
   "source": [
    "# Let's Dump our model\n",
    "pickle.dump(logreg, open('final_model.pkl','wb'))"
   ]
  },
  {
   "cell_type": "code",
   "execution_count": null,
   "metadata": {},
   "outputs": [],
   "source": []
  }
 ],
 "metadata": {
  "kernelspec": {
   "display_name": "Python 3",
   "language": "python",
   "name": "python3"
  },
  "language_info": {
   "codemirror_mode": {
    "name": "ipython",
    "version": 3
   },
   "file_extension": ".py",
   "mimetype": "text/x-python",
   "name": "python",
   "nbconvert_exporter": "python",
   "pygments_lexer": "ipython3",
   "version": "3.7.3"
  }
 },
 "nbformat": 4,
 "nbformat_minor": 4
}
